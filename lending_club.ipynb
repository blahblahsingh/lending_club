{
 "cells": [
  {
   "cell_type": "code",
   "execution_count": 79,
   "id": "9869ad77-d4e3-487f-9887-428f598e44a9",
   "metadata": {},
   "outputs": [],
   "source": [
    "# Import numpy and pandas\n",
    "import numpy as np\n",
    "import pandas as pd\n",
    "import matplotlib.pyplot as plt\n",
    "import seaborn as sns\n",
    "import textwrap"
   ]
  },
  {
   "cell_type": "code",
   "execution_count": 2,
   "id": "b9b76b49-32b0-40c5-940a-458ee2dfd55d",
   "metadata": {},
   "outputs": [],
   "source": [
    "# Importing loan csv as a dataframe\n",
    "df = pd.read_csv('./loan.csv', low_memory=False)"
   ]
  },
  {
   "cell_type": "code",
   "execution_count": 3,
   "id": "ae6fce7a-640d-4d9c-8ed0-9a2b9b24ebf4",
   "metadata": {},
   "outputs": [
    {
     "data": {
      "text/html": [
       "<div>\n",
       "<style scoped>\n",
       "    .dataframe tbody tr th:only-of-type {\n",
       "        vertical-align: middle;\n",
       "    }\n",
       "\n",
       "    .dataframe tbody tr th {\n",
       "        vertical-align: top;\n",
       "    }\n",
       "\n",
       "    .dataframe thead th {\n",
       "        text-align: right;\n",
       "    }\n",
       "</style>\n",
       "<table border=\"1\" class=\"dataframe\">\n",
       "  <thead>\n",
       "    <tr style=\"text-align: right;\">\n",
       "      <th></th>\n",
       "      <th>id</th>\n",
       "      <th>member_id</th>\n",
       "      <th>loan_amnt</th>\n",
       "      <th>funded_amnt</th>\n",
       "      <th>funded_amnt_inv</th>\n",
       "      <th>term</th>\n",
       "      <th>int_rate</th>\n",
       "      <th>installment</th>\n",
       "      <th>grade</th>\n",
       "      <th>sub_grade</th>\n",
       "      <th>emp_title</th>\n",
       "      <th>emp_length</th>\n",
       "      <th>home_ownership</th>\n",
       "      <th>annual_inc</th>\n",
       "      <th>verification_status</th>\n",
       "      <th>issue_d</th>\n",
       "      <th>loan_status</th>\n",
       "      <th>pymnt_plan</th>\n",
       "      <th>url</th>\n",
       "      <th>desc</th>\n",
       "      <th>purpose</th>\n",
       "      <th>title</th>\n",
       "      <th>zip_code</th>\n",
       "      <th>addr_state</th>\n",
       "      <th>dti</th>\n",
       "      <th>delinq_2yrs</th>\n",
       "      <th>earliest_cr_line</th>\n",
       "      <th>inq_last_6mths</th>\n",
       "      <th>mths_since_last_delinq</th>\n",
       "      <th>mths_since_last_record</th>\n",
       "      <th>open_acc</th>\n",
       "      <th>pub_rec</th>\n",
       "      <th>revol_bal</th>\n",
       "      <th>revol_util</th>\n",
       "      <th>total_acc</th>\n",
       "      <th>initial_list_status</th>\n",
       "      <th>out_prncp</th>\n",
       "      <th>out_prncp_inv</th>\n",
       "      <th>total_pymnt</th>\n",
       "      <th>total_pymnt_inv</th>\n",
       "      <th>total_rec_prncp</th>\n",
       "      <th>total_rec_int</th>\n",
       "      <th>total_rec_late_fee</th>\n",
       "      <th>recoveries</th>\n",
       "      <th>collection_recovery_fee</th>\n",
       "      <th>last_pymnt_d</th>\n",
       "      <th>last_pymnt_amnt</th>\n",
       "      <th>next_pymnt_d</th>\n",
       "      <th>last_credit_pull_d</th>\n",
       "      <th>collections_12_mths_ex_med</th>\n",
       "      <th>mths_since_last_major_derog</th>\n",
       "      <th>policy_code</th>\n",
       "      <th>application_type</th>\n",
       "      <th>annual_inc_joint</th>\n",
       "      <th>dti_joint</th>\n",
       "      <th>verification_status_joint</th>\n",
       "      <th>acc_now_delinq</th>\n",
       "      <th>tot_coll_amt</th>\n",
       "      <th>tot_cur_bal</th>\n",
       "      <th>open_acc_6m</th>\n",
       "      <th>open_il_6m</th>\n",
       "      <th>open_il_12m</th>\n",
       "      <th>open_il_24m</th>\n",
       "      <th>mths_since_rcnt_il</th>\n",
       "      <th>total_bal_il</th>\n",
       "      <th>il_util</th>\n",
       "      <th>open_rv_12m</th>\n",
       "      <th>open_rv_24m</th>\n",
       "      <th>max_bal_bc</th>\n",
       "      <th>all_util</th>\n",
       "      <th>total_rev_hi_lim</th>\n",
       "      <th>inq_fi</th>\n",
       "      <th>total_cu_tl</th>\n",
       "      <th>inq_last_12m</th>\n",
       "      <th>acc_open_past_24mths</th>\n",
       "      <th>avg_cur_bal</th>\n",
       "      <th>bc_open_to_buy</th>\n",
       "      <th>bc_util</th>\n",
       "      <th>chargeoff_within_12_mths</th>\n",
       "      <th>delinq_amnt</th>\n",
       "      <th>mo_sin_old_il_acct</th>\n",
       "      <th>mo_sin_old_rev_tl_op</th>\n",
       "      <th>mo_sin_rcnt_rev_tl_op</th>\n",
       "      <th>mo_sin_rcnt_tl</th>\n",
       "      <th>mort_acc</th>\n",
       "      <th>mths_since_recent_bc</th>\n",
       "      <th>mths_since_recent_bc_dlq</th>\n",
       "      <th>mths_since_recent_inq</th>\n",
       "      <th>mths_since_recent_revol_delinq</th>\n",
       "      <th>num_accts_ever_120_pd</th>\n",
       "      <th>num_actv_bc_tl</th>\n",
       "      <th>num_actv_rev_tl</th>\n",
       "      <th>num_bc_sats</th>\n",
       "      <th>num_bc_tl</th>\n",
       "      <th>num_il_tl</th>\n",
       "      <th>num_op_rev_tl</th>\n",
       "      <th>num_rev_accts</th>\n",
       "      <th>num_rev_tl_bal_gt_0</th>\n",
       "      <th>num_sats</th>\n",
       "      <th>num_tl_120dpd_2m</th>\n",
       "      <th>num_tl_30dpd</th>\n",
       "      <th>num_tl_90g_dpd_24m</th>\n",
       "      <th>num_tl_op_past_12m</th>\n",
       "      <th>pct_tl_nvr_dlq</th>\n",
       "      <th>percent_bc_gt_75</th>\n",
       "      <th>pub_rec_bankruptcies</th>\n",
       "      <th>tax_liens</th>\n",
       "      <th>tot_hi_cred_lim</th>\n",
       "      <th>total_bal_ex_mort</th>\n",
       "      <th>total_bc_limit</th>\n",
       "      <th>total_il_high_credit_limit</th>\n",
       "    </tr>\n",
       "  </thead>\n",
       "  <tbody>\n",
       "    <tr>\n",
       "      <th>0</th>\n",
       "      <td>1077501</td>\n",
       "      <td>1296599</td>\n",
       "      <td>5000</td>\n",
       "      <td>5000</td>\n",
       "      <td>4975.0</td>\n",
       "      <td>36 months</td>\n",
       "      <td>10.65%</td>\n",
       "      <td>162.87</td>\n",
       "      <td>B</td>\n",
       "      <td>B2</td>\n",
       "      <td>NaN</td>\n",
       "      <td>10+ years</td>\n",
       "      <td>RENT</td>\n",
       "      <td>24000.0</td>\n",
       "      <td>Verified</td>\n",
       "      <td>Dec-11</td>\n",
       "      <td>Fully Paid</td>\n",
       "      <td>n</td>\n",
       "      <td>https://lendingclub.com/browse/loanDetail.acti...</td>\n",
       "      <td>Borrower added on 12/22/11 &gt; I need to upgra...</td>\n",
       "      <td>credit_card</td>\n",
       "      <td>Computer</td>\n",
       "      <td>860xx</td>\n",
       "      <td>AZ</td>\n",
       "      <td>27.65</td>\n",
       "      <td>0</td>\n",
       "      <td>Jan-85</td>\n",
       "      <td>1</td>\n",
       "      <td>NaN</td>\n",
       "      <td>NaN</td>\n",
       "      <td>3</td>\n",
       "      <td>0</td>\n",
       "      <td>13648</td>\n",
       "      <td>83.70%</td>\n",
       "      <td>9</td>\n",
       "      <td>f</td>\n",
       "      <td>0.00</td>\n",
       "      <td>0.00</td>\n",
       "      <td>5863.155187</td>\n",
       "      <td>5833.84</td>\n",
       "      <td>5000.00</td>\n",
       "      <td>863.16</td>\n",
       "      <td>0.00</td>\n",
       "      <td>0.00</td>\n",
       "      <td>0.00</td>\n",
       "      <td>Jan-15</td>\n",
       "      <td>171.62</td>\n",
       "      <td>NaN</td>\n",
       "      <td>May-16</td>\n",
       "      <td>0.0</td>\n",
       "      <td>NaN</td>\n",
       "      <td>1</td>\n",
       "      <td>INDIVIDUAL</td>\n",
       "      <td>NaN</td>\n",
       "      <td>NaN</td>\n",
       "      <td>NaN</td>\n",
       "      <td>0</td>\n",
       "      <td>NaN</td>\n",
       "      <td>NaN</td>\n",
       "      <td>NaN</td>\n",
       "      <td>NaN</td>\n",
       "      <td>NaN</td>\n",
       "      <td>NaN</td>\n",
       "      <td>NaN</td>\n",
       "      <td>NaN</td>\n",
       "      <td>NaN</td>\n",
       "      <td>NaN</td>\n",
       "      <td>NaN</td>\n",
       "      <td>NaN</td>\n",
       "      <td>NaN</td>\n",
       "      <td>NaN</td>\n",
       "      <td>NaN</td>\n",
       "      <td>NaN</td>\n",
       "      <td>NaN</td>\n",
       "      <td>NaN</td>\n",
       "      <td>NaN</td>\n",
       "      <td>NaN</td>\n",
       "      <td>NaN</td>\n",
       "      <td>0.0</td>\n",
       "      <td>0</td>\n",
       "      <td>NaN</td>\n",
       "      <td>NaN</td>\n",
       "      <td>NaN</td>\n",
       "      <td>NaN</td>\n",
       "      <td>NaN</td>\n",
       "      <td>NaN</td>\n",
       "      <td>NaN</td>\n",
       "      <td>NaN</td>\n",
       "      <td>NaN</td>\n",
       "      <td>NaN</td>\n",
       "      <td>NaN</td>\n",
       "      <td>NaN</td>\n",
       "      <td>NaN</td>\n",
       "      <td>NaN</td>\n",
       "      <td>NaN</td>\n",
       "      <td>NaN</td>\n",
       "      <td>NaN</td>\n",
       "      <td>NaN</td>\n",
       "      <td>NaN</td>\n",
       "      <td>NaN</td>\n",
       "      <td>NaN</td>\n",
       "      <td>NaN</td>\n",
       "      <td>NaN</td>\n",
       "      <td>NaN</td>\n",
       "      <td>NaN</td>\n",
       "      <td>0.0</td>\n",
       "      <td>0.0</td>\n",
       "      <td>NaN</td>\n",
       "      <td>NaN</td>\n",
       "      <td>NaN</td>\n",
       "      <td>NaN</td>\n",
       "    </tr>\n",
       "    <tr>\n",
       "      <th>1</th>\n",
       "      <td>1077430</td>\n",
       "      <td>1314167</td>\n",
       "      <td>2500</td>\n",
       "      <td>2500</td>\n",
       "      <td>2500.0</td>\n",
       "      <td>60 months</td>\n",
       "      <td>15.27%</td>\n",
       "      <td>59.83</td>\n",
       "      <td>C</td>\n",
       "      <td>C4</td>\n",
       "      <td>Ryder</td>\n",
       "      <td>&lt; 1 year</td>\n",
       "      <td>RENT</td>\n",
       "      <td>30000.0</td>\n",
       "      <td>Source Verified</td>\n",
       "      <td>Dec-11</td>\n",
       "      <td>Charged Off</td>\n",
       "      <td>n</td>\n",
       "      <td>https://lendingclub.com/browse/loanDetail.acti...</td>\n",
       "      <td>Borrower added on 12/22/11 &gt; I plan to use t...</td>\n",
       "      <td>car</td>\n",
       "      <td>bike</td>\n",
       "      <td>309xx</td>\n",
       "      <td>GA</td>\n",
       "      <td>1.00</td>\n",
       "      <td>0</td>\n",
       "      <td>Apr-99</td>\n",
       "      <td>5</td>\n",
       "      <td>NaN</td>\n",
       "      <td>NaN</td>\n",
       "      <td>3</td>\n",
       "      <td>0</td>\n",
       "      <td>1687</td>\n",
       "      <td>9.40%</td>\n",
       "      <td>4</td>\n",
       "      <td>f</td>\n",
       "      <td>0.00</td>\n",
       "      <td>0.00</td>\n",
       "      <td>1008.710000</td>\n",
       "      <td>1008.71</td>\n",
       "      <td>456.46</td>\n",
       "      <td>435.17</td>\n",
       "      <td>0.00</td>\n",
       "      <td>117.08</td>\n",
       "      <td>1.11</td>\n",
       "      <td>Apr-13</td>\n",
       "      <td>119.66</td>\n",
       "      <td>NaN</td>\n",
       "      <td>Sep-13</td>\n",
       "      <td>0.0</td>\n",
       "      <td>NaN</td>\n",
       "      <td>1</td>\n",
       "      <td>INDIVIDUAL</td>\n",
       "      <td>NaN</td>\n",
       "      <td>NaN</td>\n",
       "      <td>NaN</td>\n",
       "      <td>0</td>\n",
       "      <td>NaN</td>\n",
       "      <td>NaN</td>\n",
       "      <td>NaN</td>\n",
       "      <td>NaN</td>\n",
       "      <td>NaN</td>\n",
       "      <td>NaN</td>\n",
       "      <td>NaN</td>\n",
       "      <td>NaN</td>\n",
       "      <td>NaN</td>\n",
       "      <td>NaN</td>\n",
       "      <td>NaN</td>\n",
       "      <td>NaN</td>\n",
       "      <td>NaN</td>\n",
       "      <td>NaN</td>\n",
       "      <td>NaN</td>\n",
       "      <td>NaN</td>\n",
       "      <td>NaN</td>\n",
       "      <td>NaN</td>\n",
       "      <td>NaN</td>\n",
       "      <td>NaN</td>\n",
       "      <td>NaN</td>\n",
       "      <td>0.0</td>\n",
       "      <td>0</td>\n",
       "      <td>NaN</td>\n",
       "      <td>NaN</td>\n",
       "      <td>NaN</td>\n",
       "      <td>NaN</td>\n",
       "      <td>NaN</td>\n",
       "      <td>NaN</td>\n",
       "      <td>NaN</td>\n",
       "      <td>NaN</td>\n",
       "      <td>NaN</td>\n",
       "      <td>NaN</td>\n",
       "      <td>NaN</td>\n",
       "      <td>NaN</td>\n",
       "      <td>NaN</td>\n",
       "      <td>NaN</td>\n",
       "      <td>NaN</td>\n",
       "      <td>NaN</td>\n",
       "      <td>NaN</td>\n",
       "      <td>NaN</td>\n",
       "      <td>NaN</td>\n",
       "      <td>NaN</td>\n",
       "      <td>NaN</td>\n",
       "      <td>NaN</td>\n",
       "      <td>NaN</td>\n",
       "      <td>NaN</td>\n",
       "      <td>NaN</td>\n",
       "      <td>0.0</td>\n",
       "      <td>0.0</td>\n",
       "      <td>NaN</td>\n",
       "      <td>NaN</td>\n",
       "      <td>NaN</td>\n",
       "      <td>NaN</td>\n",
       "    </tr>\n",
       "    <tr>\n",
       "      <th>2</th>\n",
       "      <td>1077175</td>\n",
       "      <td>1313524</td>\n",
       "      <td>2400</td>\n",
       "      <td>2400</td>\n",
       "      <td>2400.0</td>\n",
       "      <td>36 months</td>\n",
       "      <td>15.96%</td>\n",
       "      <td>84.33</td>\n",
       "      <td>C</td>\n",
       "      <td>C5</td>\n",
       "      <td>NaN</td>\n",
       "      <td>10+ years</td>\n",
       "      <td>RENT</td>\n",
       "      <td>12252.0</td>\n",
       "      <td>Not Verified</td>\n",
       "      <td>Dec-11</td>\n",
       "      <td>Fully Paid</td>\n",
       "      <td>n</td>\n",
       "      <td>https://lendingclub.com/browse/loanDetail.acti...</td>\n",
       "      <td>NaN</td>\n",
       "      <td>small_business</td>\n",
       "      <td>real estate business</td>\n",
       "      <td>606xx</td>\n",
       "      <td>IL</td>\n",
       "      <td>8.72</td>\n",
       "      <td>0</td>\n",
       "      <td>Nov-01</td>\n",
       "      <td>2</td>\n",
       "      <td>NaN</td>\n",
       "      <td>NaN</td>\n",
       "      <td>2</td>\n",
       "      <td>0</td>\n",
       "      <td>2956</td>\n",
       "      <td>98.50%</td>\n",
       "      <td>10</td>\n",
       "      <td>f</td>\n",
       "      <td>0.00</td>\n",
       "      <td>0.00</td>\n",
       "      <td>3005.666844</td>\n",
       "      <td>3005.67</td>\n",
       "      <td>2400.00</td>\n",
       "      <td>605.67</td>\n",
       "      <td>0.00</td>\n",
       "      <td>0.00</td>\n",
       "      <td>0.00</td>\n",
       "      <td>Jun-14</td>\n",
       "      <td>649.91</td>\n",
       "      <td>NaN</td>\n",
       "      <td>May-16</td>\n",
       "      <td>0.0</td>\n",
       "      <td>NaN</td>\n",
       "      <td>1</td>\n",
       "      <td>INDIVIDUAL</td>\n",
       "      <td>NaN</td>\n",
       "      <td>NaN</td>\n",
       "      <td>NaN</td>\n",
       "      <td>0</td>\n",
       "      <td>NaN</td>\n",
       "      <td>NaN</td>\n",
       "      <td>NaN</td>\n",
       "      <td>NaN</td>\n",
       "      <td>NaN</td>\n",
       "      <td>NaN</td>\n",
       "      <td>NaN</td>\n",
       "      <td>NaN</td>\n",
       "      <td>NaN</td>\n",
       "      <td>NaN</td>\n",
       "      <td>NaN</td>\n",
       "      <td>NaN</td>\n",
       "      <td>NaN</td>\n",
       "      <td>NaN</td>\n",
       "      <td>NaN</td>\n",
       "      <td>NaN</td>\n",
       "      <td>NaN</td>\n",
       "      <td>NaN</td>\n",
       "      <td>NaN</td>\n",
       "      <td>NaN</td>\n",
       "      <td>NaN</td>\n",
       "      <td>0.0</td>\n",
       "      <td>0</td>\n",
       "      <td>NaN</td>\n",
       "      <td>NaN</td>\n",
       "      <td>NaN</td>\n",
       "      <td>NaN</td>\n",
       "      <td>NaN</td>\n",
       "      <td>NaN</td>\n",
       "      <td>NaN</td>\n",
       "      <td>NaN</td>\n",
       "      <td>NaN</td>\n",
       "      <td>NaN</td>\n",
       "      <td>NaN</td>\n",
       "      <td>NaN</td>\n",
       "      <td>NaN</td>\n",
       "      <td>NaN</td>\n",
       "      <td>NaN</td>\n",
       "      <td>NaN</td>\n",
       "      <td>NaN</td>\n",
       "      <td>NaN</td>\n",
       "      <td>NaN</td>\n",
       "      <td>NaN</td>\n",
       "      <td>NaN</td>\n",
       "      <td>NaN</td>\n",
       "      <td>NaN</td>\n",
       "      <td>NaN</td>\n",
       "      <td>NaN</td>\n",
       "      <td>0.0</td>\n",
       "      <td>0.0</td>\n",
       "      <td>NaN</td>\n",
       "      <td>NaN</td>\n",
       "      <td>NaN</td>\n",
       "      <td>NaN</td>\n",
       "    </tr>\n",
       "    <tr>\n",
       "      <th>3</th>\n",
       "      <td>1076863</td>\n",
       "      <td>1277178</td>\n",
       "      <td>10000</td>\n",
       "      <td>10000</td>\n",
       "      <td>10000.0</td>\n",
       "      <td>36 months</td>\n",
       "      <td>13.49%</td>\n",
       "      <td>339.31</td>\n",
       "      <td>C</td>\n",
       "      <td>C1</td>\n",
       "      <td>AIR RESOURCES BOARD</td>\n",
       "      <td>10+ years</td>\n",
       "      <td>RENT</td>\n",
       "      <td>49200.0</td>\n",
       "      <td>Source Verified</td>\n",
       "      <td>Dec-11</td>\n",
       "      <td>Fully Paid</td>\n",
       "      <td>n</td>\n",
       "      <td>https://lendingclub.com/browse/loanDetail.acti...</td>\n",
       "      <td>Borrower added on 12/21/11 &gt; to pay for prop...</td>\n",
       "      <td>other</td>\n",
       "      <td>personel</td>\n",
       "      <td>917xx</td>\n",
       "      <td>CA</td>\n",
       "      <td>20.00</td>\n",
       "      <td>0</td>\n",
       "      <td>Feb-96</td>\n",
       "      <td>1</td>\n",
       "      <td>35.0</td>\n",
       "      <td>NaN</td>\n",
       "      <td>10</td>\n",
       "      <td>0</td>\n",
       "      <td>5598</td>\n",
       "      <td>21%</td>\n",
       "      <td>37</td>\n",
       "      <td>f</td>\n",
       "      <td>0.00</td>\n",
       "      <td>0.00</td>\n",
       "      <td>12231.890000</td>\n",
       "      <td>12231.89</td>\n",
       "      <td>10000.00</td>\n",
       "      <td>2214.92</td>\n",
       "      <td>16.97</td>\n",
       "      <td>0.00</td>\n",
       "      <td>0.00</td>\n",
       "      <td>Jan-15</td>\n",
       "      <td>357.48</td>\n",
       "      <td>NaN</td>\n",
       "      <td>Apr-16</td>\n",
       "      <td>0.0</td>\n",
       "      <td>NaN</td>\n",
       "      <td>1</td>\n",
       "      <td>INDIVIDUAL</td>\n",
       "      <td>NaN</td>\n",
       "      <td>NaN</td>\n",
       "      <td>NaN</td>\n",
       "      <td>0</td>\n",
       "      <td>NaN</td>\n",
       "      <td>NaN</td>\n",
       "      <td>NaN</td>\n",
       "      <td>NaN</td>\n",
       "      <td>NaN</td>\n",
       "      <td>NaN</td>\n",
       "      <td>NaN</td>\n",
       "      <td>NaN</td>\n",
       "      <td>NaN</td>\n",
       "      <td>NaN</td>\n",
       "      <td>NaN</td>\n",
       "      <td>NaN</td>\n",
       "      <td>NaN</td>\n",
       "      <td>NaN</td>\n",
       "      <td>NaN</td>\n",
       "      <td>NaN</td>\n",
       "      <td>NaN</td>\n",
       "      <td>NaN</td>\n",
       "      <td>NaN</td>\n",
       "      <td>NaN</td>\n",
       "      <td>NaN</td>\n",
       "      <td>0.0</td>\n",
       "      <td>0</td>\n",
       "      <td>NaN</td>\n",
       "      <td>NaN</td>\n",
       "      <td>NaN</td>\n",
       "      <td>NaN</td>\n",
       "      <td>NaN</td>\n",
       "      <td>NaN</td>\n",
       "      <td>NaN</td>\n",
       "      <td>NaN</td>\n",
       "      <td>NaN</td>\n",
       "      <td>NaN</td>\n",
       "      <td>NaN</td>\n",
       "      <td>NaN</td>\n",
       "      <td>NaN</td>\n",
       "      <td>NaN</td>\n",
       "      <td>NaN</td>\n",
       "      <td>NaN</td>\n",
       "      <td>NaN</td>\n",
       "      <td>NaN</td>\n",
       "      <td>NaN</td>\n",
       "      <td>NaN</td>\n",
       "      <td>NaN</td>\n",
       "      <td>NaN</td>\n",
       "      <td>NaN</td>\n",
       "      <td>NaN</td>\n",
       "      <td>NaN</td>\n",
       "      <td>0.0</td>\n",
       "      <td>0.0</td>\n",
       "      <td>NaN</td>\n",
       "      <td>NaN</td>\n",
       "      <td>NaN</td>\n",
       "      <td>NaN</td>\n",
       "    </tr>\n",
       "    <tr>\n",
       "      <th>4</th>\n",
       "      <td>1075358</td>\n",
       "      <td>1311748</td>\n",
       "      <td>3000</td>\n",
       "      <td>3000</td>\n",
       "      <td>3000.0</td>\n",
       "      <td>60 months</td>\n",
       "      <td>12.69%</td>\n",
       "      <td>67.79</td>\n",
       "      <td>B</td>\n",
       "      <td>B5</td>\n",
       "      <td>University Medical Group</td>\n",
       "      <td>1 year</td>\n",
       "      <td>RENT</td>\n",
       "      <td>80000.0</td>\n",
       "      <td>Source Verified</td>\n",
       "      <td>Dec-11</td>\n",
       "      <td>Current</td>\n",
       "      <td>n</td>\n",
       "      <td>https://lendingclub.com/browse/loanDetail.acti...</td>\n",
       "      <td>Borrower added on 12/21/11 &gt; I plan on combi...</td>\n",
       "      <td>other</td>\n",
       "      <td>Personal</td>\n",
       "      <td>972xx</td>\n",
       "      <td>OR</td>\n",
       "      <td>17.94</td>\n",
       "      <td>0</td>\n",
       "      <td>Jan-96</td>\n",
       "      <td>0</td>\n",
       "      <td>38.0</td>\n",
       "      <td>NaN</td>\n",
       "      <td>15</td>\n",
       "      <td>0</td>\n",
       "      <td>27783</td>\n",
       "      <td>53.90%</td>\n",
       "      <td>38</td>\n",
       "      <td>f</td>\n",
       "      <td>524.06</td>\n",
       "      <td>524.06</td>\n",
       "      <td>3513.330000</td>\n",
       "      <td>3513.33</td>\n",
       "      <td>2475.94</td>\n",
       "      <td>1037.39</td>\n",
       "      <td>0.00</td>\n",
       "      <td>0.00</td>\n",
       "      <td>0.00</td>\n",
       "      <td>May-16</td>\n",
       "      <td>67.79</td>\n",
       "      <td>Jun-16</td>\n",
       "      <td>May-16</td>\n",
       "      <td>0.0</td>\n",
       "      <td>NaN</td>\n",
       "      <td>1</td>\n",
       "      <td>INDIVIDUAL</td>\n",
       "      <td>NaN</td>\n",
       "      <td>NaN</td>\n",
       "      <td>NaN</td>\n",
       "      <td>0</td>\n",
       "      <td>NaN</td>\n",
       "      <td>NaN</td>\n",
       "      <td>NaN</td>\n",
       "      <td>NaN</td>\n",
       "      <td>NaN</td>\n",
       "      <td>NaN</td>\n",
       "      <td>NaN</td>\n",
       "      <td>NaN</td>\n",
       "      <td>NaN</td>\n",
       "      <td>NaN</td>\n",
       "      <td>NaN</td>\n",
       "      <td>NaN</td>\n",
       "      <td>NaN</td>\n",
       "      <td>NaN</td>\n",
       "      <td>NaN</td>\n",
       "      <td>NaN</td>\n",
       "      <td>NaN</td>\n",
       "      <td>NaN</td>\n",
       "      <td>NaN</td>\n",
       "      <td>NaN</td>\n",
       "      <td>NaN</td>\n",
       "      <td>0.0</td>\n",
       "      <td>0</td>\n",
       "      <td>NaN</td>\n",
       "      <td>NaN</td>\n",
       "      <td>NaN</td>\n",
       "      <td>NaN</td>\n",
       "      <td>NaN</td>\n",
       "      <td>NaN</td>\n",
       "      <td>NaN</td>\n",
       "      <td>NaN</td>\n",
       "      <td>NaN</td>\n",
       "      <td>NaN</td>\n",
       "      <td>NaN</td>\n",
       "      <td>NaN</td>\n",
       "      <td>NaN</td>\n",
       "      <td>NaN</td>\n",
       "      <td>NaN</td>\n",
       "      <td>NaN</td>\n",
       "      <td>NaN</td>\n",
       "      <td>NaN</td>\n",
       "      <td>NaN</td>\n",
       "      <td>NaN</td>\n",
       "      <td>NaN</td>\n",
       "      <td>NaN</td>\n",
       "      <td>NaN</td>\n",
       "      <td>NaN</td>\n",
       "      <td>NaN</td>\n",
       "      <td>0.0</td>\n",
       "      <td>0.0</td>\n",
       "      <td>NaN</td>\n",
       "      <td>NaN</td>\n",
       "      <td>NaN</td>\n",
       "      <td>NaN</td>\n",
       "    </tr>\n",
       "  </tbody>\n",
       "</table>\n",
       "</div>"
      ],
      "text/plain": [
       "        id  member_id  loan_amnt  funded_amnt  funded_amnt_inv        term  \\\n",
       "0  1077501    1296599       5000         5000           4975.0   36 months   \n",
       "1  1077430    1314167       2500         2500           2500.0   60 months   \n",
       "2  1077175    1313524       2400         2400           2400.0   36 months   \n",
       "3  1076863    1277178      10000        10000          10000.0   36 months   \n",
       "4  1075358    1311748       3000         3000           3000.0   60 months   \n",
       "\n",
       "  int_rate  installment grade sub_grade                 emp_title emp_length  \\\n",
       "0   10.65%       162.87     B        B2                       NaN  10+ years   \n",
       "1   15.27%        59.83     C        C4                     Ryder   < 1 year   \n",
       "2   15.96%        84.33     C        C5                       NaN  10+ years   \n",
       "3   13.49%       339.31     C        C1       AIR RESOURCES BOARD  10+ years   \n",
       "4   12.69%        67.79     B        B5  University Medical Group     1 year   \n",
       "\n",
       "  home_ownership  annual_inc verification_status issue_d  loan_status  \\\n",
       "0           RENT     24000.0            Verified  Dec-11   Fully Paid   \n",
       "1           RENT     30000.0     Source Verified  Dec-11  Charged Off   \n",
       "2           RENT     12252.0        Not Verified  Dec-11   Fully Paid   \n",
       "3           RENT     49200.0     Source Verified  Dec-11   Fully Paid   \n",
       "4           RENT     80000.0     Source Verified  Dec-11      Current   \n",
       "\n",
       "  pymnt_plan                                                url  \\\n",
       "0          n  https://lendingclub.com/browse/loanDetail.acti...   \n",
       "1          n  https://lendingclub.com/browse/loanDetail.acti...   \n",
       "2          n  https://lendingclub.com/browse/loanDetail.acti...   \n",
       "3          n  https://lendingclub.com/browse/loanDetail.acti...   \n",
       "4          n  https://lendingclub.com/browse/loanDetail.acti...   \n",
       "\n",
       "                                                desc         purpose  \\\n",
       "0    Borrower added on 12/22/11 > I need to upgra...     credit_card   \n",
       "1    Borrower added on 12/22/11 > I plan to use t...             car   \n",
       "2                                                NaN  small_business   \n",
       "3    Borrower added on 12/21/11 > to pay for prop...           other   \n",
       "4    Borrower added on 12/21/11 > I plan on combi...           other   \n",
       "\n",
       "                  title zip_code addr_state    dti  delinq_2yrs  \\\n",
       "0              Computer    860xx         AZ  27.65            0   \n",
       "1                  bike    309xx         GA   1.00            0   \n",
       "2  real estate business    606xx         IL   8.72            0   \n",
       "3              personel    917xx         CA  20.00            0   \n",
       "4              Personal    972xx         OR  17.94            0   \n",
       "\n",
       "  earliest_cr_line  inq_last_6mths  mths_since_last_delinq  \\\n",
       "0           Jan-85               1                     NaN   \n",
       "1           Apr-99               5                     NaN   \n",
       "2           Nov-01               2                     NaN   \n",
       "3           Feb-96               1                    35.0   \n",
       "4           Jan-96               0                    38.0   \n",
       "\n",
       "   mths_since_last_record  open_acc  pub_rec  revol_bal revol_util  total_acc  \\\n",
       "0                     NaN         3        0      13648     83.70%          9   \n",
       "1                     NaN         3        0       1687      9.40%          4   \n",
       "2                     NaN         2        0       2956     98.50%         10   \n",
       "3                     NaN        10        0       5598        21%         37   \n",
       "4                     NaN        15        0      27783     53.90%         38   \n",
       "\n",
       "  initial_list_status  out_prncp  out_prncp_inv   total_pymnt  \\\n",
       "0                   f       0.00           0.00   5863.155187   \n",
       "1                   f       0.00           0.00   1008.710000   \n",
       "2                   f       0.00           0.00   3005.666844   \n",
       "3                   f       0.00           0.00  12231.890000   \n",
       "4                   f     524.06         524.06   3513.330000   \n",
       "\n",
       "   total_pymnt_inv  total_rec_prncp  total_rec_int  total_rec_late_fee  \\\n",
       "0          5833.84          5000.00         863.16                0.00   \n",
       "1          1008.71           456.46         435.17                0.00   \n",
       "2          3005.67          2400.00         605.67                0.00   \n",
       "3         12231.89         10000.00        2214.92               16.97   \n",
       "4          3513.33          2475.94        1037.39                0.00   \n",
       "\n",
       "   recoveries  collection_recovery_fee last_pymnt_d  last_pymnt_amnt  \\\n",
       "0        0.00                     0.00       Jan-15           171.62   \n",
       "1      117.08                     1.11       Apr-13           119.66   \n",
       "2        0.00                     0.00       Jun-14           649.91   \n",
       "3        0.00                     0.00       Jan-15           357.48   \n",
       "4        0.00                     0.00       May-16            67.79   \n",
       "\n",
       "  next_pymnt_d last_credit_pull_d  collections_12_mths_ex_med  \\\n",
       "0          NaN             May-16                         0.0   \n",
       "1          NaN             Sep-13                         0.0   \n",
       "2          NaN             May-16                         0.0   \n",
       "3          NaN             Apr-16                         0.0   \n",
       "4       Jun-16             May-16                         0.0   \n",
       "\n",
       "   mths_since_last_major_derog  policy_code application_type  \\\n",
       "0                          NaN            1       INDIVIDUAL   \n",
       "1                          NaN            1       INDIVIDUAL   \n",
       "2                          NaN            1       INDIVIDUAL   \n",
       "3                          NaN            1       INDIVIDUAL   \n",
       "4                          NaN            1       INDIVIDUAL   \n",
       "\n",
       "   annual_inc_joint  dti_joint  verification_status_joint  acc_now_delinq  \\\n",
       "0               NaN        NaN                        NaN               0   \n",
       "1               NaN        NaN                        NaN               0   \n",
       "2               NaN        NaN                        NaN               0   \n",
       "3               NaN        NaN                        NaN               0   \n",
       "4               NaN        NaN                        NaN               0   \n",
       "\n",
       "   tot_coll_amt  tot_cur_bal  open_acc_6m  open_il_6m  open_il_12m  \\\n",
       "0           NaN          NaN          NaN         NaN          NaN   \n",
       "1           NaN          NaN          NaN         NaN          NaN   \n",
       "2           NaN          NaN          NaN         NaN          NaN   \n",
       "3           NaN          NaN          NaN         NaN          NaN   \n",
       "4           NaN          NaN          NaN         NaN          NaN   \n",
       "\n",
       "   open_il_24m  mths_since_rcnt_il  total_bal_il  il_util  open_rv_12m  \\\n",
       "0          NaN                 NaN           NaN      NaN          NaN   \n",
       "1          NaN                 NaN           NaN      NaN          NaN   \n",
       "2          NaN                 NaN           NaN      NaN          NaN   \n",
       "3          NaN                 NaN           NaN      NaN          NaN   \n",
       "4          NaN                 NaN           NaN      NaN          NaN   \n",
       "\n",
       "   open_rv_24m  max_bal_bc  all_util  total_rev_hi_lim  inq_fi  total_cu_tl  \\\n",
       "0          NaN         NaN       NaN               NaN     NaN          NaN   \n",
       "1          NaN         NaN       NaN               NaN     NaN          NaN   \n",
       "2          NaN         NaN       NaN               NaN     NaN          NaN   \n",
       "3          NaN         NaN       NaN               NaN     NaN          NaN   \n",
       "4          NaN         NaN       NaN               NaN     NaN          NaN   \n",
       "\n",
       "   inq_last_12m  acc_open_past_24mths  avg_cur_bal  bc_open_to_buy  bc_util  \\\n",
       "0           NaN                   NaN          NaN             NaN      NaN   \n",
       "1           NaN                   NaN          NaN             NaN      NaN   \n",
       "2           NaN                   NaN          NaN             NaN      NaN   \n",
       "3           NaN                   NaN          NaN             NaN      NaN   \n",
       "4           NaN                   NaN          NaN             NaN      NaN   \n",
       "\n",
       "   chargeoff_within_12_mths  delinq_amnt  mo_sin_old_il_acct  \\\n",
       "0                       0.0            0                 NaN   \n",
       "1                       0.0            0                 NaN   \n",
       "2                       0.0            0                 NaN   \n",
       "3                       0.0            0                 NaN   \n",
       "4                       0.0            0                 NaN   \n",
       "\n",
       "   mo_sin_old_rev_tl_op  mo_sin_rcnt_rev_tl_op  mo_sin_rcnt_tl  mort_acc  \\\n",
       "0                   NaN                    NaN             NaN       NaN   \n",
       "1                   NaN                    NaN             NaN       NaN   \n",
       "2                   NaN                    NaN             NaN       NaN   \n",
       "3                   NaN                    NaN             NaN       NaN   \n",
       "4                   NaN                    NaN             NaN       NaN   \n",
       "\n",
       "   mths_since_recent_bc  mths_since_recent_bc_dlq  mths_since_recent_inq  \\\n",
       "0                   NaN                       NaN                    NaN   \n",
       "1                   NaN                       NaN                    NaN   \n",
       "2                   NaN                       NaN                    NaN   \n",
       "3                   NaN                       NaN                    NaN   \n",
       "4                   NaN                       NaN                    NaN   \n",
       "\n",
       "   mths_since_recent_revol_delinq  num_accts_ever_120_pd  num_actv_bc_tl  \\\n",
       "0                             NaN                    NaN             NaN   \n",
       "1                             NaN                    NaN             NaN   \n",
       "2                             NaN                    NaN             NaN   \n",
       "3                             NaN                    NaN             NaN   \n",
       "4                             NaN                    NaN             NaN   \n",
       "\n",
       "   num_actv_rev_tl  num_bc_sats  num_bc_tl  num_il_tl  num_op_rev_tl  \\\n",
       "0              NaN          NaN        NaN        NaN            NaN   \n",
       "1              NaN          NaN        NaN        NaN            NaN   \n",
       "2              NaN          NaN        NaN        NaN            NaN   \n",
       "3              NaN          NaN        NaN        NaN            NaN   \n",
       "4              NaN          NaN        NaN        NaN            NaN   \n",
       "\n",
       "   num_rev_accts  num_rev_tl_bal_gt_0  num_sats  num_tl_120dpd_2m  \\\n",
       "0            NaN                  NaN       NaN               NaN   \n",
       "1            NaN                  NaN       NaN               NaN   \n",
       "2            NaN                  NaN       NaN               NaN   \n",
       "3            NaN                  NaN       NaN               NaN   \n",
       "4            NaN                  NaN       NaN               NaN   \n",
       "\n",
       "   num_tl_30dpd  num_tl_90g_dpd_24m  num_tl_op_past_12m  pct_tl_nvr_dlq  \\\n",
       "0           NaN                 NaN                 NaN             NaN   \n",
       "1           NaN                 NaN                 NaN             NaN   \n",
       "2           NaN                 NaN                 NaN             NaN   \n",
       "3           NaN                 NaN                 NaN             NaN   \n",
       "4           NaN                 NaN                 NaN             NaN   \n",
       "\n",
       "   percent_bc_gt_75  pub_rec_bankruptcies  tax_liens  tot_hi_cred_lim  \\\n",
       "0               NaN                   0.0        0.0              NaN   \n",
       "1               NaN                   0.0        0.0              NaN   \n",
       "2               NaN                   0.0        0.0              NaN   \n",
       "3               NaN                   0.0        0.0              NaN   \n",
       "4               NaN                   0.0        0.0              NaN   \n",
       "\n",
       "   total_bal_ex_mort  total_bc_limit  total_il_high_credit_limit  \n",
       "0                NaN             NaN                         NaN  \n",
       "1                NaN             NaN                         NaN  \n",
       "2                NaN             NaN                         NaN  \n",
       "3                NaN             NaN                         NaN  \n",
       "4                NaN             NaN                         NaN  "
      ]
     },
     "execution_count": 3,
     "metadata": {},
     "output_type": "execute_result"
    }
   ],
   "source": [
    "# Analysing the head of the dataframe to get a high level understanding of the data\n",
    "pd.set_option('display.max_columns', None)\n",
    "df.head()"
   ]
  },
  {
   "cell_type": "code",
   "execution_count": 4,
   "id": "49701d14-389a-4518-ad70-109fb644c599",
   "metadata": {},
   "outputs": [
    {
     "name": "stdout",
     "output_type": "stream",
     "text": [
      "<class 'pandas.core.frame.DataFrame'>\n",
      "RangeIndex: 39717 entries, 0 to 39716\n",
      "Columns: 111 entries, id to total_il_high_credit_limit\n",
      "dtypes: float64(74), int64(13), object(24)\n",
      "memory usage: 33.6+ MB\n"
     ]
    }
   ],
   "source": [
    "# Displaying the info of the dataframe\n",
    "df.info()"
   ]
  },
  {
   "cell_type": "code",
   "execution_count": 5,
   "id": "90d8575c-1b72-4b59-acff-ca63884c143b",
   "metadata": {},
   "outputs": [
    {
     "data": {
      "text/plain": [
       "{'id': dtype('int64'),\n",
       " 'member_id': dtype('int64'),\n",
       " 'loan_amnt': dtype('int64'),\n",
       " 'funded_amnt': dtype('int64'),\n",
       " 'funded_amnt_inv': dtype('float64'),\n",
       " 'term': dtype('O'),\n",
       " 'int_rate': dtype('O'),\n",
       " 'installment': dtype('float64'),\n",
       " 'grade': dtype('O'),\n",
       " 'sub_grade': dtype('O'),\n",
       " 'emp_title': dtype('O'),\n",
       " 'emp_length': dtype('O'),\n",
       " 'home_ownership': dtype('O'),\n",
       " 'annual_inc': dtype('float64'),\n",
       " 'verification_status': dtype('O'),\n",
       " 'issue_d': dtype('O'),\n",
       " 'loan_status': dtype('O'),\n",
       " 'pymnt_plan': dtype('O'),\n",
       " 'url': dtype('O'),\n",
       " 'desc': dtype('O'),\n",
       " 'purpose': dtype('O'),\n",
       " 'title': dtype('O'),\n",
       " 'zip_code': dtype('O'),\n",
       " 'addr_state': dtype('O'),\n",
       " 'dti': dtype('float64'),\n",
       " 'delinq_2yrs': dtype('int64'),\n",
       " 'earliest_cr_line': dtype('O'),\n",
       " 'inq_last_6mths': dtype('int64'),\n",
       " 'mths_since_last_delinq': dtype('float64'),\n",
       " 'mths_since_last_record': dtype('float64'),\n",
       " 'open_acc': dtype('int64'),\n",
       " 'pub_rec': dtype('int64'),\n",
       " 'revol_bal': dtype('int64'),\n",
       " 'revol_util': dtype('O'),\n",
       " 'total_acc': dtype('int64'),\n",
       " 'initial_list_status': dtype('O'),\n",
       " 'out_prncp': dtype('float64'),\n",
       " 'out_prncp_inv': dtype('float64'),\n",
       " 'total_pymnt': dtype('float64'),\n",
       " 'total_pymnt_inv': dtype('float64'),\n",
       " 'total_rec_prncp': dtype('float64'),\n",
       " 'total_rec_int': dtype('float64'),\n",
       " 'total_rec_late_fee': dtype('float64'),\n",
       " 'recoveries': dtype('float64'),\n",
       " 'collection_recovery_fee': dtype('float64'),\n",
       " 'last_pymnt_d': dtype('O'),\n",
       " 'last_pymnt_amnt': dtype('float64'),\n",
       " 'next_pymnt_d': dtype('O'),\n",
       " 'last_credit_pull_d': dtype('O'),\n",
       " 'collections_12_mths_ex_med': dtype('float64'),\n",
       " 'mths_since_last_major_derog': dtype('float64'),\n",
       " 'policy_code': dtype('int64'),\n",
       " 'application_type': dtype('O'),\n",
       " 'annual_inc_joint': dtype('float64'),\n",
       " 'dti_joint': dtype('float64'),\n",
       " 'verification_status_joint': dtype('float64'),\n",
       " 'acc_now_delinq': dtype('int64'),\n",
       " 'tot_coll_amt': dtype('float64'),\n",
       " 'tot_cur_bal': dtype('float64'),\n",
       " 'open_acc_6m': dtype('float64'),\n",
       " 'open_il_6m': dtype('float64'),\n",
       " 'open_il_12m': dtype('float64'),\n",
       " 'open_il_24m': dtype('float64'),\n",
       " 'mths_since_rcnt_il': dtype('float64'),\n",
       " 'total_bal_il': dtype('float64'),\n",
       " 'il_util': dtype('float64'),\n",
       " 'open_rv_12m': dtype('float64'),\n",
       " 'open_rv_24m': dtype('float64'),\n",
       " 'max_bal_bc': dtype('float64'),\n",
       " 'all_util': dtype('float64'),\n",
       " 'total_rev_hi_lim': dtype('float64'),\n",
       " 'inq_fi': dtype('float64'),\n",
       " 'total_cu_tl': dtype('float64'),\n",
       " 'inq_last_12m': dtype('float64'),\n",
       " 'acc_open_past_24mths': dtype('float64'),\n",
       " 'avg_cur_bal': dtype('float64'),\n",
       " 'bc_open_to_buy': dtype('float64'),\n",
       " 'bc_util': dtype('float64'),\n",
       " 'chargeoff_within_12_mths': dtype('float64'),\n",
       " 'delinq_amnt': dtype('int64'),\n",
       " 'mo_sin_old_il_acct': dtype('float64'),\n",
       " 'mo_sin_old_rev_tl_op': dtype('float64'),\n",
       " 'mo_sin_rcnt_rev_tl_op': dtype('float64'),\n",
       " 'mo_sin_rcnt_tl': dtype('float64'),\n",
       " 'mort_acc': dtype('float64'),\n",
       " 'mths_since_recent_bc': dtype('float64'),\n",
       " 'mths_since_recent_bc_dlq': dtype('float64'),\n",
       " 'mths_since_recent_inq': dtype('float64'),\n",
       " 'mths_since_recent_revol_delinq': dtype('float64'),\n",
       " 'num_accts_ever_120_pd': dtype('float64'),\n",
       " 'num_actv_bc_tl': dtype('float64'),\n",
       " 'num_actv_rev_tl': dtype('float64'),\n",
       " 'num_bc_sats': dtype('float64'),\n",
       " 'num_bc_tl': dtype('float64'),\n",
       " 'num_il_tl': dtype('float64'),\n",
       " 'num_op_rev_tl': dtype('float64'),\n",
       " 'num_rev_accts': dtype('float64'),\n",
       " 'num_rev_tl_bal_gt_0': dtype('float64'),\n",
       " 'num_sats': dtype('float64'),\n",
       " 'num_tl_120dpd_2m': dtype('float64'),\n",
       " 'num_tl_30dpd': dtype('float64'),\n",
       " 'num_tl_90g_dpd_24m': dtype('float64'),\n",
       " 'num_tl_op_past_12m': dtype('float64'),\n",
       " 'pct_tl_nvr_dlq': dtype('float64'),\n",
       " 'percent_bc_gt_75': dtype('float64'),\n",
       " 'pub_rec_bankruptcies': dtype('float64'),\n",
       " 'tax_liens': dtype('float64'),\n",
       " 'tot_hi_cred_lim': dtype('float64'),\n",
       " 'total_bal_ex_mort': dtype('float64'),\n",
       " 'total_bc_limit': dtype('float64'),\n",
       " 'total_il_high_credit_limit': dtype('float64')}"
      ]
     },
     "execution_count": 5,
     "metadata": {},
     "output_type": "execute_result"
    }
   ],
   "source": [
    "dict(df.dtypes)"
   ]
  },
  {
   "cell_type": "code",
   "execution_count": 6,
   "id": "ee3d015f-653c-4df8-922c-32c54c994135",
   "metadata": {},
   "outputs": [
    {
     "name": "stdout",
     "output_type": "stream",
     "text": [
      "Count of NULL columns 54\n",
      "NULL columns are listed below:\n"
     ]
    },
    {
     "data": {
      "text/plain": [
       "50        mths_since_last_major_derog\n",
       "53                   annual_inc_joint\n",
       "54                          dti_joint\n",
       "55          verification_status_joint\n",
       "57                       tot_coll_amt\n",
       "58                        tot_cur_bal\n",
       "59                        open_acc_6m\n",
       "60                         open_il_6m\n",
       "61                        open_il_12m\n",
       "62                        open_il_24m\n",
       "63                 mths_since_rcnt_il\n",
       "64                       total_bal_il\n",
       "65                            il_util\n",
       "66                        open_rv_12m\n",
       "67                        open_rv_24m\n",
       "68                         max_bal_bc\n",
       "69                           all_util\n",
       "70                   total_rev_hi_lim\n",
       "71                             inq_fi\n",
       "72                        total_cu_tl\n",
       "73                       inq_last_12m\n",
       "74               acc_open_past_24mths\n",
       "75                        avg_cur_bal\n",
       "76                     bc_open_to_buy\n",
       "77                            bc_util\n",
       "80                 mo_sin_old_il_acct\n",
       "81               mo_sin_old_rev_tl_op\n",
       "82              mo_sin_rcnt_rev_tl_op\n",
       "83                     mo_sin_rcnt_tl\n",
       "84                           mort_acc\n",
       "85               mths_since_recent_bc\n",
       "86           mths_since_recent_bc_dlq\n",
       "87              mths_since_recent_inq\n",
       "88     mths_since_recent_revol_delinq\n",
       "89              num_accts_ever_120_pd\n",
       "90                     num_actv_bc_tl\n",
       "91                    num_actv_rev_tl\n",
       "92                        num_bc_sats\n",
       "93                          num_bc_tl\n",
       "94                          num_il_tl\n",
       "95                      num_op_rev_tl\n",
       "96                      num_rev_accts\n",
       "97                num_rev_tl_bal_gt_0\n",
       "98                           num_sats\n",
       "99                   num_tl_120dpd_2m\n",
       "100                      num_tl_30dpd\n",
       "101                num_tl_90g_dpd_24m\n",
       "102                num_tl_op_past_12m\n",
       "103                    pct_tl_nvr_dlq\n",
       "104                  percent_bc_gt_75\n",
       "107                   tot_hi_cred_lim\n",
       "108                 total_bal_ex_mort\n",
       "109                    total_bc_limit\n",
       "110        total_il_high_credit_limit\n",
       "Name: columns, dtype: object"
      ]
     },
     "execution_count": 6,
     "metadata": {},
     "output_type": "execute_result"
    }
   ],
   "source": [
    "# List of columns having NULL values\n",
    "\n",
    "column_df = pd.DataFrame({\n",
    "    'columns': df.columns,\n",
    "    'missing_perc': (df.isnull().sum() * 100 / len(df)).round(1)\n",
    "})\n",
    "\n",
    "column_df = column_df.reset_index(drop=True)\n",
    "\n",
    "# null columns: column_df[column_df.missing_perc == 100.0]\n",
    "\n",
    "print(\"Count of NULL columns\", (column_df[column_df.missing_perc == 100.0]).count().columns)\n",
    "print(\"NULL columns are listed below:\")\n",
    "column_df[column_df.missing_perc == 100.0]['columns']"
   ]
  },
  {
   "cell_type": "code",
   "execution_count": 7,
   "id": "26c8d03c-1d6d-4bf5-8134-0f6eabff1285",
   "metadata": {},
   "outputs": [
    {
     "name": "stdout",
     "output_type": "stream",
     "text": [
      "<class 'pandas.core.frame.DataFrame'>\n",
      "RangeIndex: 39717 entries, 0 to 39716\n",
      "Data columns (total 57 columns):\n",
      " #   Column                      Non-Null Count  Dtype  \n",
      "---  ------                      --------------  -----  \n",
      " 0   id                          39717 non-null  int64  \n",
      " 1   member_id                   39717 non-null  int64  \n",
      " 2   loan_amnt                   39717 non-null  int64  \n",
      " 3   funded_amnt                 39717 non-null  int64  \n",
      " 4   funded_amnt_inv             39717 non-null  float64\n",
      " 5   term                        39717 non-null  object \n",
      " 6   int_rate                    39717 non-null  object \n",
      " 7   installment                 39717 non-null  float64\n",
      " 8   grade                       39717 non-null  object \n",
      " 9   sub_grade                   39717 non-null  object \n",
      " 10  emp_title                   37258 non-null  object \n",
      " 11  emp_length                  38642 non-null  object \n",
      " 12  home_ownership              39717 non-null  object \n",
      " 13  annual_inc                  39717 non-null  float64\n",
      " 14  verification_status         39717 non-null  object \n",
      " 15  issue_d                     39717 non-null  object \n",
      " 16  loan_status                 39717 non-null  object \n",
      " 17  pymnt_plan                  39717 non-null  object \n",
      " 18  url                         39717 non-null  object \n",
      " 19  desc                        26777 non-null  object \n",
      " 20  purpose                     39717 non-null  object \n",
      " 21  title                       39706 non-null  object \n",
      " 22  zip_code                    39717 non-null  object \n",
      " 23  addr_state                  39717 non-null  object \n",
      " 24  dti                         39717 non-null  float64\n",
      " 25  delinq_2yrs                 39717 non-null  int64  \n",
      " 26  earliest_cr_line            39717 non-null  object \n",
      " 27  inq_last_6mths              39717 non-null  int64  \n",
      " 28  mths_since_last_delinq      14035 non-null  float64\n",
      " 29  mths_since_last_record      2786 non-null   float64\n",
      " 30  open_acc                    39717 non-null  int64  \n",
      " 31  pub_rec                     39717 non-null  int64  \n",
      " 32  revol_bal                   39717 non-null  int64  \n",
      " 33  revol_util                  39667 non-null  object \n",
      " 34  total_acc                   39717 non-null  int64  \n",
      " 35  initial_list_status         39717 non-null  object \n",
      " 36  out_prncp                   39717 non-null  float64\n",
      " 37  out_prncp_inv               39717 non-null  float64\n",
      " 38  total_pymnt                 39717 non-null  float64\n",
      " 39  total_pymnt_inv             39717 non-null  float64\n",
      " 40  total_rec_prncp             39717 non-null  float64\n",
      " 41  total_rec_int               39717 non-null  float64\n",
      " 42  total_rec_late_fee          39717 non-null  float64\n",
      " 43  recoveries                  39717 non-null  float64\n",
      " 44  collection_recovery_fee     39717 non-null  float64\n",
      " 45  last_pymnt_d                39646 non-null  object \n",
      " 46  last_pymnt_amnt             39717 non-null  float64\n",
      " 47  next_pymnt_d                1140 non-null   object \n",
      " 48  last_credit_pull_d          39715 non-null  object \n",
      " 49  collections_12_mths_ex_med  39661 non-null  float64\n",
      " 50  policy_code                 39717 non-null  int64  \n",
      " 51  application_type            39717 non-null  object \n",
      " 52  acc_now_delinq              39717 non-null  int64  \n",
      " 53  chargeoff_within_12_mths    39661 non-null  float64\n",
      " 54  delinq_amnt                 39717 non-null  int64  \n",
      " 55  pub_rec_bankruptcies        39020 non-null  float64\n",
      " 56  tax_liens                   39678 non-null  float64\n",
      "dtypes: float64(20), int64(13), object(24)\n",
      "memory usage: 17.3+ MB\n"
     ]
    }
   ],
   "source": [
    "# removing null columns from df\n",
    "null_columns = (column_df[column_df.missing_perc == 100.0])['columns']\n",
    "df = df.drop(null_columns, axis=1)\n",
    "df.shape\n",
    "df.info()"
   ]
  },
  {
   "cell_type": "code",
   "execution_count": 8,
   "id": "6b0e0837-e099-4aa6-9661-f48ff641d6fa",
   "metadata": {},
   "outputs": [
    {
     "name": "stdout",
     "output_type": "stream",
     "text": [
      "cl_unique id                            39717\n",
      "member_id                     39717\n",
      "loan_amnt                       885\n",
      "funded_amnt                    1041\n",
      "funded_amnt_inv                8205\n",
      "term                              2\n",
      "int_rate                        371\n",
      "installment                   15383\n",
      "grade                             7\n",
      "sub_grade                        35\n",
      "emp_title                     28820\n",
      "emp_length                       11\n",
      "home_ownership                    5\n",
      "annual_inc                     5318\n",
      "verification_status               3\n",
      "issue_d                          55\n",
      "loan_status                       3\n",
      "pymnt_plan                        1\n",
      "url                           39717\n",
      "desc                          26527\n",
      "purpose                          14\n",
      "title                         19615\n",
      "zip_code                        823\n",
      "addr_state                       50\n",
      "dti                            2868\n",
      "delinq_2yrs                      11\n",
      "earliest_cr_line                526\n",
      "inq_last_6mths                    9\n",
      "mths_since_last_delinq           95\n",
      "mths_since_last_record          111\n",
      "open_acc                         40\n",
      "pub_rec                           5\n",
      "revol_bal                     21711\n",
      "revol_util                     1089\n",
      "total_acc                        82\n",
      "initial_list_status               1\n",
      "out_prncp                      1137\n",
      "out_prncp_inv                  1138\n",
      "total_pymnt                   37850\n",
      "total_pymnt_inv               37518\n",
      "total_rec_prncp                7976\n",
      "total_rec_int                 35148\n",
      "total_rec_late_fee             1356\n",
      "recoveries                     4040\n",
      "collection_recovery_fee        2616\n",
      "last_pymnt_d                    101\n",
      "last_pymnt_amnt               34930\n",
      "next_pymnt_d                      2\n",
      "last_credit_pull_d              106\n",
      "collections_12_mths_ex_med        1\n",
      "policy_code                       1\n",
      "application_type                  1\n",
      "acc_now_delinq                    1\n",
      "chargeoff_within_12_mths          1\n",
      "delinq_amnt                       1\n",
      "pub_rec_bankruptcies              3\n",
      "tax_liens                         1\n",
      "dtype: int64\n",
      "Columns with only single value which does not impact the analysis pymnt_plan                    1\n",
      "initial_list_status           1\n",
      "collections_12_mths_ex_med    1\n",
      "policy_code                   1\n",
      "application_type              1\n",
      "acc_now_delinq                1\n",
      "chargeoff_within_12_mths      1\n",
      "delinq_amnt                   1\n",
      "tax_liens                     1\n",
      "dtype: int64\n"
     ]
    },
    {
     "data": {
      "text/plain": [
       "(39717, 48)"
      ]
     },
     "execution_count": 8,
     "metadata": {},
     "output_type": "execute_result"
    }
   ],
   "source": [
    "# remove columns that have all values same as it does not influence results\n",
    "cl_unique=df.nunique()\n",
    "print('cl_unique', cl_unique)\n",
    "cl=cl_unique[cl_unique.values == 1]\n",
    "print('Columns with only single value which does not impact the analysis', cl)\n",
    "df.drop(columns = list(cl.index), inplace=True)\n",
    "df.shape"
   ]
  },
  {
   "cell_type": "markdown",
   "id": "406434b0",
   "metadata": {},
   "source": [
    "The company wants to identify the risk of the applicants, so the values created after approval of loan are not useful for the analysis. the fields which are unique for each applicant like id, member_id, url are also not useful for the analysis. Zipcode values are not fully available and hence this is also not much useful here. Dropping these values help us to monitor the important values closer. "
   ]
  },
  {
   "cell_type": "code",
   "execution_count": 9,
   "id": "a87566ee-86a7-4547-9752-cb37cea0c65c",
   "metadata": {},
   "outputs": [
    {
     "data": {
      "text/plain": [
       "(39717, 33)"
      ]
     },
     "execution_count": 9,
     "metadata": {},
     "output_type": "execute_result"
    }
   ],
   "source": [
    "del_cols = [\"id\",\"member_id\",\"url\",\"zip_code\",\"out_prncp_inv\",\"total_pymnt_inv\",\n",
    "            \"total_rec_prncp\",\"total_rec_int\",\"total_rec_late_fee\",\"recoveries\",\"collection_recovery_fee\",\n",
    "            \"last_pymnt_d\",\"last_pymnt_amnt\",\"last_credit_pull_d\",\"emp_title\"]\n",
    "df.drop(columns= del_cols, inplace=True)\n",
    "df.shape"
   ]
  },
  {
   "cell_type": "code",
   "execution_count": 10,
   "id": "91a4a441-096a-4a07-8580-28232002a5d2",
   "metadata": {},
   "outputs": [
    {
     "name": "stdout",
     "output_type": "stream",
     "text": [
      "<class 'pandas.core.frame.DataFrame'>\n",
      "RangeIndex: 39717 entries, 0 to 39716\n",
      "Data columns (total 33 columns):\n",
      " #   Column                  Non-Null Count  Dtype  \n",
      "---  ------                  --------------  -----  \n",
      " 0   loan_amnt               39717 non-null  int64  \n",
      " 1   funded_amnt             39717 non-null  int64  \n",
      " 2   funded_amnt_inv         39717 non-null  float64\n",
      " 3   term                    39717 non-null  object \n",
      " 4   int_rate                39717 non-null  object \n",
      " 5   installment             39717 non-null  float64\n",
      " 6   grade                   39717 non-null  object \n",
      " 7   sub_grade               39717 non-null  object \n",
      " 8   emp_length              38642 non-null  object \n",
      " 9   home_ownership          39717 non-null  object \n",
      " 10  annual_inc              39717 non-null  float64\n",
      " 11  verification_status     39717 non-null  object \n",
      " 12  issue_d                 39717 non-null  object \n",
      " 13  loan_status             39717 non-null  object \n",
      " 14  desc                    26777 non-null  object \n",
      " 15  purpose                 39717 non-null  object \n",
      " 16  title                   39706 non-null  object \n",
      " 17  addr_state              39717 non-null  object \n",
      " 18  dti                     39717 non-null  float64\n",
      " 19  delinq_2yrs             39717 non-null  int64  \n",
      " 20  earliest_cr_line        39717 non-null  object \n",
      " 21  inq_last_6mths          39717 non-null  int64  \n",
      " 22  mths_since_last_delinq  14035 non-null  float64\n",
      " 23  mths_since_last_record  2786 non-null   float64\n",
      " 24  open_acc                39717 non-null  int64  \n",
      " 25  pub_rec                 39717 non-null  int64  \n",
      " 26  revol_bal               39717 non-null  int64  \n",
      " 27  revol_util              39667 non-null  object \n",
      " 28  total_acc               39717 non-null  int64  \n",
      " 29  out_prncp               39717 non-null  float64\n",
      " 30  total_pymnt             39717 non-null  float64\n",
      " 31  next_pymnt_d            1140 non-null   object \n",
      " 32  pub_rec_bankruptcies    39020 non-null  float64\n",
      "dtypes: float64(9), int64(8), object(16)\n",
      "memory usage: 10.0+ MB\n"
     ]
    }
   ],
   "source": [
    "df.info()"
   ]
  },
  {
   "cell_type": "code",
   "execution_count": 11,
   "id": "52ac4684-2df6-4cc7-a1b5-3a562af86446",
   "metadata": {},
   "outputs": [
    {
     "data": {
      "text/plain": [
       "<AxesSubplot:ylabel='Count'>"
      ]
     },
     "execution_count": 11,
     "metadata": {},
     "output_type": "execute_result"
    },
    {
     "data": {
      "image/png": "[encoded data removed]",
      "text/plain": [
       "<Figure size 432x288 with 1 Axes>"
      ]
     },
     "metadata": {
      "needs_background": "light"
     },
     "output_type": "display_data"
    }
   ],
   "source": [
    "# Identifying columns with null values\n",
    "null_val=df.isnull().sum()\n",
    "sns.histplot(data=null_val, bins=10)\n"
   ]
  },
  {
   "cell_type": "markdown",
   "id": "b9805b07-23d1-4e1c-83ad-f2ddcdd72da9",
   "metadata": {},
   "source": [
    "### Insights\n",
    "From the above graph we can see that there are some columns that have more than 10,000 null values i.e, more than 25% are null"
   ]
  },
  {
   "cell_type": "code",
   "execution_count": 12,
   "id": "daffe72f",
   "metadata": {},
   "outputs": [],
   "source": [
    "# dropping the columns having null values more than 25%\n",
    "\n",
    "df.drop(columns=list(null_val[null_val.values >10000].index), inplace=True)"
   ]
  },
  {
   "cell_type": "code",
   "execution_count": 13,
   "id": "63623a9a",
   "metadata": {},
   "outputs": [
    {
     "name": "stdout",
     "output_type": "stream",
     "text": [
      "<class 'pandas.core.frame.DataFrame'>\n",
      "RangeIndex: 39717 entries, 0 to 39716\n",
      "Data columns (total 29 columns):\n",
      " #   Column                Non-Null Count  Dtype  \n",
      "---  ------                --------------  -----  \n",
      " 0   loan_amnt             39717 non-null  int64  \n",
      " 1   funded_amnt           39717 non-null  int64  \n",
      " 2   funded_amnt_inv       39717 non-null  float64\n",
      " 3   term                  39717 non-null  object \n",
      " 4   int_rate              39717 non-null  object \n",
      " 5   installment           39717 non-null  float64\n",
      " 6   grade                 39717 non-null  object \n",
      " 7   sub_grade             39717 non-null  object \n",
      " 8   emp_length            38642 non-null  object \n",
      " 9   home_ownership        39717 non-null  object \n",
      " 10  annual_inc            39717 non-null  float64\n",
      " 11  verification_status   39717 non-null  object \n",
      " 12  issue_d               39717 non-null  object \n",
      " 13  loan_status           39717 non-null  object \n",
      " 14  purpose               39717 non-null  object \n",
      " 15  title                 39706 non-null  object \n",
      " 16  addr_state            39717 non-null  object \n",
      " 17  dti                   39717 non-null  float64\n",
      " 18  delinq_2yrs           39717 non-null  int64  \n",
      " 19  earliest_cr_line      39717 non-null  object \n",
      " 20  inq_last_6mths        39717 non-null  int64  \n",
      " 21  open_acc              39717 non-null  int64  \n",
      " 22  pub_rec               39717 non-null  int64  \n",
      " 23  revol_bal             39717 non-null  int64  \n",
      " 24  revol_util            39667 non-null  object \n",
      " 25  total_acc             39717 non-null  int64  \n",
      " 26  out_prncp             39717 non-null  float64\n",
      " 27  total_pymnt           39717 non-null  float64\n",
      " 28  pub_rec_bankruptcies  39020 non-null  float64\n",
      "dtypes: float64(7), int64(8), object(14)\n",
      "memory usage: 8.8+ MB\n"
     ]
    }
   ],
   "source": [
    "df.info()"
   ]
  },
  {
   "cell_type": "code",
   "execution_count": 14,
   "id": "2824c7ca",
   "metadata": {},
   "outputs": [],
   "source": [
    "#Int_rate and revol_util has percentage in the values, lets remove percentage\n",
    "df['int_rate'] = df['int_rate'].str.rstrip('%')\n",
    "df['revol_util'] = df['revol_util'].str.rstrip('%')"
   ]
  },
  {
   "cell_type": "code",
   "execution_count": 15,
   "id": "2fbe4679-a10f-4ef7-848a-71b583863ecf",
   "metadata": {},
   "outputs": [
    {
     "data": {
      "text/plain": [
       "10+ years    8879\n",
       "< 1 year     4583\n",
       "2 years      4388\n",
       "3 years      4095\n",
       "4 years      3436\n",
       "5 years      3282\n",
       "1 year       3240\n",
       "6 years      2229\n",
       "7 years      1773\n",
       "8 years      1479\n",
       "9 years      1258\n",
       "Name: emp_length, dtype: int64"
      ]
     },
     "execution_count": 15,
     "metadata": {},
     "output_type": "execute_result"
    }
   ],
   "source": [
    "# Evaluating \"emp_length\"\n",
    "df['emp_length'].value_counts()"
   ]
  },
  {
   "cell_type": "code",
   "execution_count": 16,
   "id": "11713127",
   "metadata": {},
   "outputs": [],
   "source": [
    "#formatting emp_length column to convert '10+yrs to 10', '< 1 years to 1' and convert values to numeric to use it for analysis\n",
    "df['emp_length'] = df['emp_length'].replace('10+ years', '10 years' )\n",
    "df['emp_length'] = df['emp_length'].replace('< 1 year', '0 years' )\n",
    "df['emp_length']= df.emp_length.str.extract('(\\d+)')"
   ]
  },
  {
   "cell_type": "code",
   "execution_count": 17,
   "id": "e58601ee-f3d5-42bf-9d8e-d73b88a09c90",
   "metadata": {},
   "outputs": [
    {
     "data": {
      "text/plain": [
       "10    8879\n",
       "0     4583\n",
       "2     4388\n",
       "3     4095\n",
       "4     3436\n",
       "5     3282\n",
       "1     3240\n",
       "6     2229\n",
       "7     1773\n",
       "8     1479\n",
       "9     1258\n",
       "Name: emp_length, dtype: int64"
      ]
     },
     "execution_count": 17,
     "metadata": {},
     "output_type": "execute_result"
    }
   ],
   "source": [
    "df['emp_length'].value_counts()"
   ]
  },
  {
   "cell_type": "code",
   "execution_count": 18,
   "id": "f957bf2d",
   "metadata": {},
   "outputs": [
    {
     "name": "stdout",
     "output_type": "stream",
     "text": [
      "1075\n",
      "50\n"
     ]
    }
   ],
   "source": [
    "# checking the null values in emp_length,revol_util\n",
    "print(df.emp_length.isnull().sum())\n",
    "print(df.revol_util.isnull().sum())"
   ]
  },
  {
   "cell_type": "code",
   "execution_count": 19,
   "id": "d785491a",
   "metadata": {},
   "outputs": [],
   "source": [
    "#dropping off the null values for emp_length and revol_util as the count is very less comapred to the total data frame\n",
    "df=df[~(df['emp_length'].isnull())]\n",
    "df=df[~(df['revol_util'].isnull())]"
   ]
  },
  {
   "cell_type": "code",
   "execution_count": 20,
   "id": "99582bb6",
   "metadata": {},
   "outputs": [],
   "source": [
    "#convert amount columns to numeric data to find correlation\n",
    "cols=['loan_amnt', 'funded_amnt', 'int_rate', 'funded_amnt_inv', 'installment', 'annual_inc', 'dti', 'emp_length']\n",
    "df[cols] = df[cols].apply(pd.to_numeric)"
   ]
  },
  {
   "cell_type": "code",
   "execution_count": 21,
   "id": "870acee7",
   "metadata": {},
   "outputs": [],
   "source": [
    "#extracting month and year from issue_d\n",
    "df.issue_d= pd.to_datetime(df.issue_d, format= '%b-%y')\n",
    "df['issue_year']= df['issue_d'].dt.year\n",
    "df['issue_month']= df['issue_d'].dt.month"
   ]
  },
  {
   "cell_type": "code",
   "execution_count": 22,
   "id": "8b834cbe",
   "metadata": {},
   "outputs": [
    {
     "data": {
      "text/plain": [
       "Fully Paid     32113\n",
       "Charged Off     5384\n",
       "Current         1098\n",
       "Name: loan_status, dtype: int64"
      ]
     },
     "execution_count": 22,
     "metadata": {},
     "output_type": "execute_result"
    }
   ],
   "source": [
    "#dropping account status with current as the ongoing loan application will not be of much use to our analysis.\n",
    "#converting loan_status to numeric: assigning 1 for defaulted loans and 0 for paid off\n",
    "df['loan_status'].value_counts()"
   ]
  },
  {
   "cell_type": "code",
   "execution_count": 23,
   "id": "b154ec5a",
   "metadata": {},
   "outputs": [
    {
     "data": {
      "text/plain": [
       "(37497, 31)"
      ]
     },
     "execution_count": 23,
     "metadata": {},
     "output_type": "execute_result"
    }
   ],
   "source": [
    "df = df[~(df['loan_status']== 'Current')]\n",
    "df.shape"
   ]
  },
  {
   "cell_type": "code",
   "execution_count": 24,
   "id": "5dc42c05-ac4c-43ff-a90f-6b1b04c31dd2",
   "metadata": {},
   "outputs": [
    {
     "name": "stdout",
     "output_type": "stream",
     "text": [
      "<class 'pandas.core.frame.DataFrame'>\n",
      "Int64Index: 37497 entries, 0 to 39716\n",
      "Data columns (total 31 columns):\n",
      " #   Column                Non-Null Count  Dtype         \n",
      "---  ------                --------------  -----         \n",
      " 0   loan_amnt             37497 non-null  int64         \n",
      " 1   funded_amnt           37497 non-null  int64         \n",
      " 2   funded_amnt_inv       37497 non-null  float64       \n",
      " 3   term                  37497 non-null  object        \n",
      " 4   int_rate              37497 non-null  float64       \n",
      " 5   installment           37497 non-null  float64       \n",
      " 6   grade                 37497 non-null  object        \n",
      " 7   sub_grade             37497 non-null  object        \n",
      " 8   emp_length            37497 non-null  int64         \n",
      " 9   home_ownership        37497 non-null  object        \n",
      " 10  annual_inc            37497 non-null  float64       \n",
      " 11  verification_status   37497 non-null  object        \n",
      " 12  issue_d               37497 non-null  datetime64[ns]\n",
      " 13  loan_status           37497 non-null  object        \n",
      " 14  purpose               37497 non-null  object        \n",
      " 15  title                 37487 non-null  object        \n",
      " 16  addr_state            37497 non-null  object        \n",
      " 17  dti                   37497 non-null  float64       \n",
      " 18  delinq_2yrs           37497 non-null  int64         \n",
      " 19  earliest_cr_line      37497 non-null  object        \n",
      " 20  inq_last_6mths        37497 non-null  int64         \n",
      " 21  open_acc              37497 non-null  int64         \n",
      " 22  pub_rec               37497 non-null  int64         \n",
      " 23  revol_bal             37497 non-null  int64         \n",
      " 24  revol_util            37497 non-null  object        \n",
      " 25  total_acc             37497 non-null  int64         \n",
      " 26  out_prncp             37497 non-null  float64       \n",
      " 27  total_pymnt           37497 non-null  float64       \n",
      " 28  pub_rec_bankruptcies  36800 non-null  float64       \n",
      " 29  issue_year            37497 non-null  int64         \n",
      " 30  issue_month           37497 non-null  int64         \n",
      "dtypes: datetime64[ns](1), float64(8), int64(11), object(11)\n",
      "memory usage: 9.2+ MB\n"
     ]
    }
   ],
   "source": [
    "df.info()"
   ]
  },
  {
   "cell_type": "code",
   "execution_count": 25,
   "id": "5da80aa1-af1d-4269-b441-bd8d73598703",
   "metadata": {},
   "outputs": [
    {
     "data": {
      "text/plain": [
       "Debt Consolidation                         2052\n",
       "Debt Consolidation Loan                    1586\n",
       "Personal Loan                               623\n",
       "Consolidation                               484\n",
       "debt consolidation                          459\n",
       "                                           ... \n",
       "Interest rate creeping up on the cards        1\n",
       "Dept Con                                      1\n",
       "Promote music Album                           1\n",
       "LoPrestiLoan                                  1\n",
       "Moving Expenses - Safe Investment             1\n",
       "Name: title, Length: 18818, dtype: int64"
      ]
     },
     "execution_count": 25,
     "metadata": {},
     "output_type": "execute_result"
    }
   ],
   "source": [
    "# Evaluating title\n",
    "df.title.value_counts()"
   ]
  },
  {
   "cell_type": "code",
   "execution_count": 26,
   "id": "85ae2ecc-dcd4-4103-b99a-397b683b127f",
   "metadata": {},
   "outputs": [],
   "source": [
    "# Since title has a lot of unique values, we can drop this column as this is not significant\n",
    "df.drop(columns=['title'], inplace=True)"
   ]
  },
  {
   "cell_type": "code",
   "execution_count": 27,
   "id": "2f3d0d95-c268-4e11-b7f7-a62fc8fdb8eb",
   "metadata": {},
   "outputs": [
    {
     "name": "stdout",
     "output_type": "stream",
     "text": [
      "<class 'pandas.core.frame.DataFrame'>\n",
      "Int64Index: 37497 entries, 0 to 39716\n",
      "Data columns (total 30 columns):\n",
      " #   Column                Non-Null Count  Dtype         \n",
      "---  ------                --------------  -----         \n",
      " 0   loan_amnt             37497 non-null  int64         \n",
      " 1   funded_amnt           37497 non-null  int64         \n",
      " 2   funded_amnt_inv       37497 non-null  float64       \n",
      " 3   term                  37497 non-null  object        \n",
      " 4   int_rate              37497 non-null  float64       \n",
      " 5   installment           37497 non-null  float64       \n",
      " 6   grade                 37497 non-null  object        \n",
      " 7   sub_grade             37497 non-null  object        \n",
      " 8   emp_length            37497 non-null  int64         \n",
      " 9   home_ownership        37497 non-null  object        \n",
      " 10  annual_inc            37497 non-null  float64       \n",
      " 11  verification_status   37497 non-null  object        \n",
      " 12  issue_d               37497 non-null  datetime64[ns]\n",
      " 13  loan_status           37497 non-null  object        \n",
      " 14  purpose               37497 non-null  object        \n",
      " 15  addr_state            37497 non-null  object        \n",
      " 16  dti                   37497 non-null  float64       \n",
      " 17  delinq_2yrs           37497 non-null  int64         \n",
      " 18  earliest_cr_line      37497 non-null  object        \n",
      " 19  inq_last_6mths        37497 non-null  int64         \n",
      " 20  open_acc              37497 non-null  int64         \n",
      " 21  pub_rec               37497 non-null  int64         \n",
      " 22  revol_bal             37497 non-null  int64         \n",
      " 23  revol_util            37497 non-null  object        \n",
      " 24  total_acc             37497 non-null  int64         \n",
      " 25  out_prncp             37497 non-null  float64       \n",
      " 26  total_pymnt           37497 non-null  float64       \n",
      " 27  pub_rec_bankruptcies  36800 non-null  float64       \n",
      " 28  issue_year            37497 non-null  int64         \n",
      " 29  issue_month           37497 non-null  int64         \n",
      "dtypes: datetime64[ns](1), float64(8), int64(11), object(10)\n",
      "memory usage: 8.9+ MB\n"
     ]
    }
   ],
   "source": [
    "df.info()"
   ]
  },
  {
   "cell_type": "code",
   "execution_count": 28,
   "id": "88850c25-0283-4177-9c3b-f0784660ee26",
   "metadata": {},
   "outputs": [
    {
     "data": {
      "text/plain": [
       "0.0    35266\n",
       "1.0     1529\n",
       "NaN      697\n",
       "2.0        5\n",
       "Name: pub_rec_bankruptcies, dtype: int64"
      ]
     },
     "execution_count": 28,
     "metadata": {},
     "output_type": "execute_result"
    }
   ],
   "source": [
    "# Evaluating \"pub_rec_bankruptcies\"\n",
    "df.pub_rec_bankruptcies.value_counts(dropna=False)"
   ]
  },
  {
   "cell_type": "code",
   "execution_count": 29,
   "id": "72fbbe69-7c22-4551-9b9d-6f39fa64a251",
   "metadata": {},
   "outputs": [],
   "source": [
    "# Removing the rows with Null values as this is a significant variable \n",
    "# and we don't have a value to impute which will not skew the results\n",
    "df=df[~(df['pub_rec_bankruptcies'].isnull())]"
   ]
  },
  {
   "cell_type": "code",
   "execution_count": 30,
   "id": "c889e930-faec-467f-a993-f14c4052e311",
   "metadata": {},
   "outputs": [
    {
     "name": "stdout",
     "output_type": "stream",
     "text": [
      "<class 'pandas.core.frame.DataFrame'>\n",
      "Int64Index: 36800 entries, 0 to 39680\n",
      "Data columns (total 30 columns):\n",
      " #   Column                Non-Null Count  Dtype         \n",
      "---  ------                --------------  -----         \n",
      " 0   loan_amnt             36800 non-null  int64         \n",
      " 1   funded_amnt           36800 non-null  int64         \n",
      " 2   funded_amnt_inv       36800 non-null  float64       \n",
      " 3   term                  36800 non-null  object        \n",
      " 4   int_rate              36800 non-null  float64       \n",
      " 5   installment           36800 non-null  float64       \n",
      " 6   grade                 36800 non-null  object        \n",
      " 7   sub_grade             36800 non-null  object        \n",
      " 8   emp_length            36800 non-null  int64         \n",
      " 9   home_ownership        36800 non-null  object        \n",
      " 10  annual_inc            36800 non-null  float64       \n",
      " 11  verification_status   36800 non-null  object        \n",
      " 12  issue_d               36800 non-null  datetime64[ns]\n",
      " 13  loan_status           36800 non-null  object        \n",
      " 14  purpose               36800 non-null  object        \n",
      " 15  addr_state            36800 non-null  object        \n",
      " 16  dti                   36800 non-null  float64       \n",
      " 17  delinq_2yrs           36800 non-null  int64         \n",
      " 18  earliest_cr_line      36800 non-null  object        \n",
      " 19  inq_last_6mths        36800 non-null  int64         \n",
      " 20  open_acc              36800 non-null  int64         \n",
      " 21  pub_rec               36800 non-null  int64         \n",
      " 22  revol_bal             36800 non-null  int64         \n",
      " 23  revol_util            36800 non-null  object        \n",
      " 24  total_acc             36800 non-null  int64         \n",
      " 25  out_prncp             36800 non-null  float64       \n",
      " 26  total_pymnt           36800 non-null  float64       \n",
      " 27  pub_rec_bankruptcies  36800 non-null  float64       \n",
      " 28  issue_year            36800 non-null  int64         \n",
      " 29  issue_month           36800 non-null  int64         \n",
      "dtypes: datetime64[ns](1), float64(8), int64(11), object(10)\n",
      "memory usage: 8.7+ MB\n"
     ]
    }
   ],
   "source": [
    "df.info()"
   ]
  },
  {
   "cell_type": "code",
   "execution_count": 31,
   "id": "610e4228-9377-40e3-a954-6d776bdd79fd",
   "metadata": {},
   "outputs": [
    {
     "data": {
      "text/html": [
       "<div>\n",
       "<style scoped>\n",
       "    .dataframe tbody tr th:only-of-type {\n",
       "        vertical-align: middle;\n",
       "    }\n",
       "\n",
       "    .dataframe tbody tr th {\n",
       "        vertical-align: top;\n",
       "    }\n",
       "\n",
       "    .dataframe thead th {\n",
       "        text-align: right;\n",
       "    }\n",
       "</style>\n",
       "<table border=\"1\" class=\"dataframe\">\n",
       "  <thead>\n",
       "    <tr style=\"text-align: right;\">\n",
       "      <th></th>\n",
       "      <th>loan_amnt</th>\n",
       "      <th>funded_amnt</th>\n",
       "      <th>funded_amnt_inv</th>\n",
       "      <th>int_rate</th>\n",
       "      <th>installment</th>\n",
       "      <th>emp_length</th>\n",
       "      <th>annual_inc</th>\n",
       "      <th>dti</th>\n",
       "      <th>delinq_2yrs</th>\n",
       "      <th>inq_last_6mths</th>\n",
       "      <th>open_acc</th>\n",
       "      <th>pub_rec</th>\n",
       "      <th>revol_bal</th>\n",
       "      <th>total_acc</th>\n",
       "      <th>out_prncp</th>\n",
       "      <th>total_pymnt</th>\n",
       "      <th>pub_rec_bankruptcies</th>\n",
       "      <th>issue_year</th>\n",
       "      <th>issue_month</th>\n",
       "    </tr>\n",
       "  </thead>\n",
       "  <tbody>\n",
       "    <tr>\n",
       "      <th>loan_amnt</th>\n",
       "      <td>1.000000</td>\n",
       "      <td>0.981578</td>\n",
       "      <td>0.951973</td>\n",
       "      <td>0.299814</td>\n",
       "      <td>0.931165</td>\n",
       "      <td>0.148522</td>\n",
       "      <td>0.270172</td>\n",
       "      <td>0.060025</td>\n",
       "      <td>-0.034761</td>\n",
       "      <td>0.011216</td>\n",
       "      <td>0.174466</td>\n",
       "      <td>-0.047159</td>\n",
       "      <td>0.315970</td>\n",
       "      <td>0.255641</td>\n",
       "      <td>NaN</td>\n",
       "      <td>0.881824</td>\n",
       "      <td>-0.031905</td>\n",
       "      <td>0.115445</td>\n",
       "      <td>0.053286</td>\n",
       "    </tr>\n",
       "    <tr>\n",
       "      <th>funded_amnt</th>\n",
       "      <td>0.981578</td>\n",
       "      <td>1.000000</td>\n",
       "      <td>0.971404</td>\n",
       "      <td>0.303900</td>\n",
       "      <td>0.957282</td>\n",
       "      <td>0.148393</td>\n",
       "      <td>0.266185</td>\n",
       "      <td>0.060146</td>\n",
       "      <td>-0.034827</td>\n",
       "      <td>0.011312</td>\n",
       "      <td>0.173114</td>\n",
       "      <td>-0.047597</td>\n",
       "      <td>0.308901</td>\n",
       "      <td>0.250066</td>\n",
       "      <td>NaN</td>\n",
       "      <td>0.898962</td>\n",
       "      <td>-0.032856</td>\n",
       "      <td>0.128374</td>\n",
       "      <td>0.043386</td>\n",
       "    </tr>\n",
       "    <tr>\n",
       "      <th>funded_amnt_inv</th>\n",
       "      <td>0.951973</td>\n",
       "      <td>0.971404</td>\n",
       "      <td>1.000000</td>\n",
       "      <td>0.294318</td>\n",
       "      <td>0.923653</td>\n",
       "      <td>0.155796</td>\n",
       "      <td>0.257221</td>\n",
       "      <td>0.063226</td>\n",
       "      <td>-0.038683</td>\n",
       "      <td>0.000162</td>\n",
       "      <td>0.163023</td>\n",
       "      <td>-0.051503</td>\n",
       "      <td>0.292590</td>\n",
       "      <td>0.241105</td>\n",
       "      <td>NaN</td>\n",
       "      <td>0.885340</td>\n",
       "      <td>-0.037785</td>\n",
       "      <td>0.215678</td>\n",
       "      <td>0.058601</td>\n",
       "    </tr>\n",
       "    <tr>\n",
       "      <th>int_rate</th>\n",
       "      <td>0.299814</td>\n",
       "      <td>0.303900</td>\n",
       "      <td>0.294318</td>\n",
       "      <td>1.000000</td>\n",
       "      <td>0.275831</td>\n",
       "      <td>-0.001835</td>\n",
       "      <td>0.047641</td>\n",
       "      <td>0.107563</td>\n",
       "      <td>0.158821</td>\n",
       "      <td>0.135633</td>\n",
       "      <td>0.008649</td>\n",
       "      <td>0.098928</td>\n",
       "      <td>0.096476</td>\n",
       "      <td>-0.046081</td>\n",
       "      <td>NaN</td>\n",
       "      <td>0.289716</td>\n",
       "      <td>0.083131</td>\n",
       "      <td>0.026425</td>\n",
       "      <td>0.023139</td>\n",
       "    </tr>\n",
       "    <tr>\n",
       "      <th>installment</th>\n",
       "      <td>0.931165</td>\n",
       "      <td>0.957282</td>\n",
       "      <td>0.923653</td>\n",
       "      <td>0.275831</td>\n",
       "      <td>1.000000</td>\n",
       "      <td>0.122086</td>\n",
       "      <td>0.269179</td>\n",
       "      <td>0.050030</td>\n",
       "      <td>-0.023088</td>\n",
       "      <td>0.008952</td>\n",
       "      <td>0.170321</td>\n",
       "      <td>-0.042607</td>\n",
       "      <td>0.312126</td>\n",
       "      <td>0.229992</td>\n",
       "      <td>NaN</td>\n",
       "      <td>0.858424</td>\n",
       "      <td>-0.029493</td>\n",
       "      <td>0.060601</td>\n",
       "      <td>0.032351</td>\n",
       "    </tr>\n",
       "    <tr>\n",
       "      <th>emp_length</th>\n",
       "      <td>0.148522</td>\n",
       "      <td>0.148393</td>\n",
       "      <td>0.155796</td>\n",
       "      <td>-0.001835</td>\n",
       "      <td>0.122086</td>\n",
       "      <td>1.000000</td>\n",
       "      <td>0.111931</td>\n",
       "      <td>0.048523</td>\n",
       "      <td>0.014746</td>\n",
       "      <td>0.009569</td>\n",
       "      <td>0.096810</td>\n",
       "      <td>0.064538</td>\n",
       "      <td>0.150950</td>\n",
       "      <td>0.206992</td>\n",
       "      <td>NaN</td>\n",
       "      <td>0.131285</td>\n",
       "      <td>0.062577</td>\n",
       "      <td>0.110183</td>\n",
       "      <td>0.020631</td>\n",
       "    </tr>\n",
       "    <tr>\n",
       "      <th>annual_inc</th>\n",
       "      <td>0.270172</td>\n",
       "      <td>0.266185</td>\n",
       "      <td>0.257221</td>\n",
       "      <td>0.047641</td>\n",
       "      <td>0.269179</td>\n",
       "      <td>0.111931</td>\n",
       "      <td>1.000000</td>\n",
       "      <td>-0.123553</td>\n",
       "      <td>0.021222</td>\n",
       "      <td>0.034581</td>\n",
       "      <td>0.156305</td>\n",
       "      <td>-0.014411</td>\n",
       "      <td>0.276163</td>\n",
       "      <td>0.236350</td>\n",
       "      <td>NaN</td>\n",
       "      <td>0.257465</td>\n",
       "      <td>-0.012418</td>\n",
       "      <td>0.014542</td>\n",
       "      <td>0.008989</td>\n",
       "    </tr>\n",
       "    <tr>\n",
       "      <th>dti</th>\n",
       "      <td>0.060025</td>\n",
       "      <td>0.060146</td>\n",
       "      <td>0.063226</td>\n",
       "      <td>0.107563</td>\n",
       "      <td>0.050030</td>\n",
       "      <td>0.048523</td>\n",
       "      <td>-0.123553</td>\n",
       "      <td>1.000000</td>\n",
       "      <td>-0.034962</td>\n",
       "      <td>0.000675</td>\n",
       "      <td>0.290169</td>\n",
       "      <td>-0.005436</td>\n",
       "      <td>0.227999</td>\n",
       "      <td>0.228279</td>\n",
       "      <td>NaN</td>\n",
       "      <td>0.057503</td>\n",
       "      <td>0.006438</td>\n",
       "      <td>0.080613</td>\n",
       "      <td>0.008258</td>\n",
       "    </tr>\n",
       "    <tr>\n",
       "      <th>delinq_2yrs</th>\n",
       "      <td>-0.034761</td>\n",
       "      <td>-0.034827</td>\n",
       "      <td>-0.038683</td>\n",
       "      <td>0.158821</td>\n",
       "      <td>-0.023088</td>\n",
       "      <td>0.014746</td>\n",
       "      <td>0.021222</td>\n",
       "      <td>-0.034962</td>\n",
       "      <td>1.000000</td>\n",
       "      <td>0.008404</td>\n",
       "      <td>0.011153</td>\n",
       "      <td>0.010929</td>\n",
       "      <td>-0.056344</td>\n",
       "      <td>0.067006</td>\n",
       "      <td>NaN</td>\n",
       "      <td>-0.025458</td>\n",
       "      <td>0.005801</td>\n",
       "      <td>0.004251</td>\n",
       "      <td>-0.011652</td>\n",
       "    </tr>\n",
       "    <tr>\n",
       "      <th>inq_last_6mths</th>\n",
       "      <td>0.011216</td>\n",
       "      <td>0.011312</td>\n",
       "      <td>0.000162</td>\n",
       "      <td>0.135633</td>\n",
       "      <td>0.008952</td>\n",
       "      <td>0.009569</td>\n",
       "      <td>0.034581</td>\n",
       "      <td>0.000675</td>\n",
       "      <td>0.008404</td>\n",
       "      <td>1.000000</td>\n",
       "      <td>0.094285</td>\n",
       "      <td>0.023190</td>\n",
       "      <td>-0.024636</td>\n",
       "      <td>0.115205</td>\n",
       "      <td>NaN</td>\n",
       "      <td>-0.008831</td>\n",
       "      <td>0.014244</td>\n",
       "      <td>-0.058662</td>\n",
       "      <td>0.016301</td>\n",
       "    </tr>\n",
       "    <tr>\n",
       "      <th>open_acc</th>\n",
       "      <td>0.174466</td>\n",
       "      <td>0.173114</td>\n",
       "      <td>0.163023</td>\n",
       "      <td>0.008649</td>\n",
       "      <td>0.170321</td>\n",
       "      <td>0.096810</td>\n",
       "      <td>0.156305</td>\n",
       "      <td>0.290169</td>\n",
       "      <td>0.011153</td>\n",
       "      <td>0.094285</td>\n",
       "      <td>1.000000</td>\n",
       "      <td>0.003371</td>\n",
       "      <td>0.285846</td>\n",
       "      <td>0.685489</td>\n",
       "      <td>NaN</td>\n",
       "      <td>0.159519</td>\n",
       "      <td>0.009136</td>\n",
       "      <td>0.014936</td>\n",
       "      <td>0.001398</td>\n",
       "    </tr>\n",
       "    <tr>\n",
       "      <th>pub_rec</th>\n",
       "      <td>-0.047159</td>\n",
       "      <td>-0.047597</td>\n",
       "      <td>-0.051503</td>\n",
       "      <td>0.098928</td>\n",
       "      <td>-0.042607</td>\n",
       "      <td>0.064538</td>\n",
       "      <td>-0.014411</td>\n",
       "      <td>-0.005436</td>\n",
       "      <td>0.010929</td>\n",
       "      <td>0.023190</td>\n",
       "      <td>0.003371</td>\n",
       "      <td>1.000000</td>\n",
       "      <td>-0.059147</td>\n",
       "      <td>-0.019945</td>\n",
       "      <td>NaN</td>\n",
       "      <td>-0.050356</td>\n",
       "      <td>0.841753</td>\n",
       "      <td>-0.016146</td>\n",
       "      <td>-0.023992</td>\n",
       "    </tr>\n",
       "    <tr>\n",
       "      <th>revol_bal</th>\n",
       "      <td>0.315970</td>\n",
       "      <td>0.308901</td>\n",
       "      <td>0.292590</td>\n",
       "      <td>0.096476</td>\n",
       "      <td>0.312126</td>\n",
       "      <td>0.150950</td>\n",
       "      <td>0.276163</td>\n",
       "      <td>0.227999</td>\n",
       "      <td>-0.056344</td>\n",
       "      <td>-0.024636</td>\n",
       "      <td>0.285846</td>\n",
       "      <td>-0.059147</td>\n",
       "      <td>1.000000</td>\n",
       "      <td>0.311793</td>\n",
       "      <td>NaN</td>\n",
       "      <td>0.291848</td>\n",
       "      <td>-0.046526</td>\n",
       "      <td>-0.008519</td>\n",
       "      <td>0.013712</td>\n",
       "    </tr>\n",
       "    <tr>\n",
       "      <th>total_acc</th>\n",
       "      <td>0.255641</td>\n",
       "      <td>0.250066</td>\n",
       "      <td>0.241105</td>\n",
       "      <td>-0.046081</td>\n",
       "      <td>0.229992</td>\n",
       "      <td>0.206992</td>\n",
       "      <td>0.236350</td>\n",
       "      <td>0.228279</td>\n",
       "      <td>0.067006</td>\n",
       "      <td>0.115205</td>\n",
       "      <td>0.685489</td>\n",
       "      <td>-0.019945</td>\n",
       "      <td>0.311793</td>\n",
       "      <td>1.000000</td>\n",
       "      <td>NaN</td>\n",
       "      <td>0.224271</td>\n",
       "      <td>-0.006714</td>\n",
       "      <td>0.043385</td>\n",
       "      <td>0.000558</td>\n",
       "    </tr>\n",
       "    <tr>\n",
       "      <th>out_prncp</th>\n",
       "      <td>NaN</td>\n",
       "      <td>NaN</td>\n",
       "      <td>NaN</td>\n",
       "      <td>NaN</td>\n",
       "      <td>NaN</td>\n",
       "      <td>NaN</td>\n",
       "      <td>NaN</td>\n",
       "      <td>NaN</td>\n",
       "      <td>NaN</td>\n",
       "      <td>NaN</td>\n",
       "      <td>NaN</td>\n",
       "      <td>NaN</td>\n",
       "      <td>NaN</td>\n",
       "      <td>NaN</td>\n",
       "      <td>NaN</td>\n",
       "      <td>NaN</td>\n",
       "      <td>NaN</td>\n",
       "      <td>NaN</td>\n",
       "      <td>NaN</td>\n",
       "    </tr>\n",
       "    <tr>\n",
       "      <th>total_pymnt</th>\n",
       "      <td>0.881824</td>\n",
       "      <td>0.898962</td>\n",
       "      <td>0.885340</td>\n",
       "      <td>0.289716</td>\n",
       "      <td>0.858424</td>\n",
       "      <td>0.131285</td>\n",
       "      <td>0.257465</td>\n",
       "      <td>0.057503</td>\n",
       "      <td>-0.025458</td>\n",
       "      <td>-0.008831</td>\n",
       "      <td>0.159519</td>\n",
       "      <td>-0.050356</td>\n",
       "      <td>0.291848</td>\n",
       "      <td>0.224271</td>\n",
       "      <td>NaN</td>\n",
       "      <td>1.000000</td>\n",
       "      <td>-0.039478</td>\n",
       "      <td>0.116742</td>\n",
       "      <td>0.026284</td>\n",
       "    </tr>\n",
       "    <tr>\n",
       "      <th>pub_rec_bankruptcies</th>\n",
       "      <td>-0.031905</td>\n",
       "      <td>-0.032856</td>\n",
       "      <td>-0.037785</td>\n",
       "      <td>0.083131</td>\n",
       "      <td>-0.029493</td>\n",
       "      <td>0.062577</td>\n",
       "      <td>-0.012418</td>\n",
       "      <td>0.006438</td>\n",
       "      <td>0.005801</td>\n",
       "      <td>0.014244</td>\n",
       "      <td>0.009136</td>\n",
       "      <td>0.841753</td>\n",
       "      <td>-0.046526</td>\n",
       "      <td>-0.006714</td>\n",
       "      <td>NaN</td>\n",
       "      <td>-0.039478</td>\n",
       "      <td>1.000000</td>\n",
       "      <td>-0.003163</td>\n",
       "      <td>-0.022267</td>\n",
       "    </tr>\n",
       "    <tr>\n",
       "      <th>issue_year</th>\n",
       "      <td>0.115445</td>\n",
       "      <td>0.128374</td>\n",
       "      <td>0.215678</td>\n",
       "      <td>0.026425</td>\n",
       "      <td>0.060601</td>\n",
       "      <td>0.110183</td>\n",
       "      <td>0.014542</td>\n",
       "      <td>0.080613</td>\n",
       "      <td>0.004251</td>\n",
       "      <td>-0.058662</td>\n",
       "      <td>0.014936</td>\n",
       "      <td>-0.016146</td>\n",
       "      <td>-0.008519</td>\n",
       "      <td>0.043385</td>\n",
       "      <td>NaN</td>\n",
       "      <td>0.116742</td>\n",
       "      <td>-0.003163</td>\n",
       "      <td>1.000000</td>\n",
       "      <td>-0.070010</td>\n",
       "    </tr>\n",
       "    <tr>\n",
       "      <th>issue_month</th>\n",
       "      <td>0.053286</td>\n",
       "      <td>0.043386</td>\n",
       "      <td>0.058601</td>\n",
       "      <td>0.023139</td>\n",
       "      <td>0.032351</td>\n",
       "      <td>0.020631</td>\n",
       "      <td>0.008989</td>\n",
       "      <td>0.008258</td>\n",
       "      <td>-0.011652</td>\n",
       "      <td>0.016301</td>\n",
       "      <td>0.001398</td>\n",
       "      <td>-0.023992</td>\n",
       "      <td>0.013712</td>\n",
       "      <td>0.000558</td>\n",
       "      <td>NaN</td>\n",
       "      <td>0.026284</td>\n",
       "      <td>-0.022267</td>\n",
       "      <td>-0.070010</td>\n",
       "      <td>1.000000</td>\n",
       "    </tr>\n",
       "  </tbody>\n",
       "</table>\n",
       "</div>"
      ],
      "text/plain": [
       "                      loan_amnt  funded_amnt  funded_amnt_inv  int_rate  \\\n",
       "loan_amnt              1.000000     0.981578         0.951973  0.299814   \n",
       "funded_amnt            0.981578     1.000000         0.971404  0.303900   \n",
       "funded_amnt_inv        0.951973     0.971404         1.000000  0.294318   \n",
       "int_rate               0.299814     0.303900         0.294318  1.000000   \n",
       "installment            0.931165     0.957282         0.923653  0.275831   \n",
       "emp_length             0.148522     0.148393         0.155796 -0.001835   \n",
       "annual_inc             0.270172     0.266185         0.257221  0.047641   \n",
       "dti                    0.060025     0.060146         0.063226  0.107563   \n",
       "delinq_2yrs           -0.034761    -0.034827        -0.038683  0.158821   \n",
       "inq_last_6mths         0.011216     0.011312         0.000162  0.135633   \n",
       "open_acc               0.174466     0.173114         0.163023  0.008649   \n",
       "pub_rec               -0.047159    -0.047597        -0.051503  0.098928   \n",
       "revol_bal              0.315970     0.308901         0.292590  0.096476   \n",
       "total_acc              0.255641     0.250066         0.241105 -0.046081   \n",
       "out_prncp                   NaN          NaN              NaN       NaN   \n",
       "total_pymnt            0.881824     0.898962         0.885340  0.289716   \n",
       "pub_rec_bankruptcies  -0.031905    -0.032856        -0.037785  0.083131   \n",
       "issue_year             0.115445     0.128374         0.215678  0.026425   \n",
       "issue_month            0.053286     0.043386         0.058601  0.023139   \n",
       "\n",
       "                      installment  emp_length  annual_inc       dti  \\\n",
       "loan_amnt                0.931165    0.148522    0.270172  0.060025   \n",
       "funded_amnt              0.957282    0.148393    0.266185  0.060146   \n",
       "funded_amnt_inv          0.923653    0.155796    0.257221  0.063226   \n",
       "int_rate                 0.275831   -0.001835    0.047641  0.107563   \n",
       "installment              1.000000    0.122086    0.269179  0.050030   \n",
       "emp_length               0.122086    1.000000    0.111931  0.048523   \n",
       "annual_inc               0.269179    0.111931    1.000000 -0.123553   \n",
       "dti                      0.050030    0.048523   -0.123553  1.000000   \n",
       "delinq_2yrs             -0.023088    0.014746    0.021222 -0.034962   \n",
       "inq_last_6mths           0.008952    0.009569    0.034581  0.000675   \n",
       "open_acc                 0.170321    0.096810    0.156305  0.290169   \n",
       "pub_rec                 -0.042607    0.064538   -0.014411 -0.005436   \n",
       "revol_bal                0.312126    0.150950    0.276163  0.227999   \n",
       "total_acc                0.229992    0.206992    0.236350  0.228279   \n",
       "out_prncp                     NaN         NaN         NaN       NaN   \n",
       "total_pymnt              0.858424    0.131285    0.257465  0.057503   \n",
       "pub_rec_bankruptcies    -0.029493    0.062577   -0.012418  0.006438   \n",
       "issue_year               0.060601    0.110183    0.014542  0.080613   \n",
       "issue_month              0.032351    0.020631    0.008989  0.008258   \n",
       "\n",
       "                      delinq_2yrs  inq_last_6mths  open_acc   pub_rec  \\\n",
       "loan_amnt               -0.034761        0.011216  0.174466 -0.047159   \n",
       "funded_amnt             -0.034827        0.011312  0.173114 -0.047597   \n",
       "funded_amnt_inv         -0.038683        0.000162  0.163023 -0.051503   \n",
       "int_rate                 0.158821        0.135633  0.008649  0.098928   \n",
       "installment             -0.023088        0.008952  0.170321 -0.042607   \n",
       "emp_length               0.014746        0.009569  0.096810  0.064538   \n",
       "annual_inc               0.021222        0.034581  0.156305 -0.014411   \n",
       "dti                     -0.034962        0.000675  0.290169 -0.005436   \n",
       "delinq_2yrs              1.000000        0.008404  0.011153  0.010929   \n",
       "inq_last_6mths           0.008404        1.000000  0.094285  0.023190   \n",
       "open_acc                 0.011153        0.094285  1.000000  0.003371   \n",
       "pub_rec                  0.010929        0.023190  0.003371  1.000000   \n",
       "revol_bal               -0.056344       -0.024636  0.285846 -0.059147   \n",
       "total_acc                0.067006        0.115205  0.685489 -0.019945   \n",
       "out_prncp                     NaN             NaN       NaN       NaN   \n",
       "total_pymnt             -0.025458       -0.008831  0.159519 -0.050356   \n",
       "pub_rec_bankruptcies     0.005801        0.014244  0.009136  0.841753   \n",
       "issue_year               0.004251       -0.058662  0.014936 -0.016146   \n",
       "issue_month             -0.011652        0.016301  0.001398 -0.023992   \n",
       "\n",
       "                      revol_bal  total_acc  out_prncp  total_pymnt  \\\n",
       "loan_amnt              0.315970   0.255641        NaN     0.881824   \n",
       "funded_amnt            0.308901   0.250066        NaN     0.898962   \n",
       "funded_amnt_inv        0.292590   0.241105        NaN     0.885340   \n",
       "int_rate               0.096476  -0.046081        NaN     0.289716   \n",
       "installment            0.312126   0.229992        NaN     0.858424   \n",
       "emp_length             0.150950   0.206992        NaN     0.131285   \n",
       "annual_inc             0.276163   0.236350        NaN     0.257465   \n",
       "dti                    0.227999   0.228279        NaN     0.057503   \n",
       "delinq_2yrs           -0.056344   0.067006        NaN    -0.025458   \n",
       "inq_last_6mths        -0.024636   0.115205        NaN    -0.008831   \n",
       "open_acc               0.285846   0.685489        NaN     0.159519   \n",
       "pub_rec               -0.059147  -0.019945        NaN    -0.050356   \n",
       "revol_bal              1.000000   0.311793        NaN     0.291848   \n",
       "total_acc              0.311793   1.000000        NaN     0.224271   \n",
       "out_prncp                   NaN        NaN        NaN          NaN   \n",
       "total_pymnt            0.291848   0.224271        NaN     1.000000   \n",
       "pub_rec_bankruptcies  -0.046526  -0.006714        NaN    -0.039478   \n",
       "issue_year            -0.008519   0.043385        NaN     0.116742   \n",
       "issue_month            0.013712   0.000558        NaN     0.026284   \n",
       "\n",
       "                      pub_rec_bankruptcies  issue_year  issue_month  \n",
       "loan_amnt                        -0.031905    0.115445     0.053286  \n",
       "funded_amnt                      -0.032856    0.128374     0.043386  \n",
       "funded_amnt_inv                  -0.037785    0.215678     0.058601  \n",
       "int_rate                          0.083131    0.026425     0.023139  \n",
       "installment                      -0.029493    0.060601     0.032351  \n",
       "emp_length                        0.062577    0.110183     0.020631  \n",
       "annual_inc                       -0.012418    0.014542     0.008989  \n",
       "dti                               0.006438    0.080613     0.008258  \n",
       "delinq_2yrs                       0.005801    0.004251    -0.011652  \n",
       "inq_last_6mths                    0.014244   -0.058662     0.016301  \n",
       "open_acc                          0.009136    0.014936     0.001398  \n",
       "pub_rec                           0.841753   -0.016146    -0.023992  \n",
       "revol_bal                        -0.046526   -0.008519     0.013712  \n",
       "total_acc                        -0.006714    0.043385     0.000558  \n",
       "out_prncp                              NaN         NaN          NaN  \n",
       "total_pymnt                      -0.039478    0.116742     0.026284  \n",
       "pub_rec_bankruptcies              1.000000   -0.003163    -0.022267  \n",
       "issue_year                       -0.003163    1.000000    -0.070010  \n",
       "issue_month                      -0.022267   -0.070010     1.000000  "
      ]
     },
     "execution_count": 31,
     "metadata": {},
     "output_type": "execute_result"
    }
   ],
   "source": [
    "#Correlation Matrix\n",
    "df.corr()"
   ]
  },
  {
   "cell_type": "code",
   "execution_count": 32,
   "id": "fb009de2-a593-4fd7-af4d-23fe18dd6983",
   "metadata": {},
   "outputs": [
    {
     "data": {
      "text/plain": [
       "0.0    36800\n",
       "Name: out_prncp, dtype: int64"
      ]
     },
     "execution_count": 32,
     "metadata": {},
     "output_type": "execute_result"
    }
   ],
   "source": [
    "# evaluating \"out_prncp\"\n",
    "df.out_prncp.value_counts()"
   ]
  },
  {
   "cell_type": "code",
   "execution_count": 33,
   "id": "e98bf24f-6b00-4906-9b6a-3e476573d6f5",
   "metadata": {},
   "outputs": [],
   "source": [
    "# Remove column out_prncp as this has only one value\n",
    "df.drop(columns=['out_prncp'], inplace=True)"
   ]
  },
  {
   "cell_type": "code",
   "execution_count": 34,
   "id": "a6810b12-79d7-4233-82d0-2c3861bd1e32",
   "metadata": {},
   "outputs": [
    {
     "data": {
      "text/html": [
       "<div>\n",
       "<style scoped>\n",
       "    .dataframe tbody tr th:only-of-type {\n",
       "        vertical-align: middle;\n",
       "    }\n",
       "\n",
       "    .dataframe tbody tr th {\n",
       "        vertical-align: top;\n",
       "    }\n",
       "\n",
       "    .dataframe thead th {\n",
       "        text-align: right;\n",
       "    }\n",
       "</style>\n",
       "<table border=\"1\" class=\"dataframe\">\n",
       "  <thead>\n",
       "    <tr style=\"text-align: right;\">\n",
       "      <th></th>\n",
       "      <th>loan_amnt</th>\n",
       "      <th>funded_amnt</th>\n",
       "      <th>funded_amnt_inv</th>\n",
       "      <th>int_rate</th>\n",
       "      <th>installment</th>\n",
       "      <th>emp_length</th>\n",
       "      <th>annual_inc</th>\n",
       "      <th>dti</th>\n",
       "      <th>delinq_2yrs</th>\n",
       "      <th>inq_last_6mths</th>\n",
       "      <th>open_acc</th>\n",
       "      <th>pub_rec</th>\n",
       "      <th>revol_bal</th>\n",
       "      <th>total_acc</th>\n",
       "      <th>total_pymnt</th>\n",
       "      <th>pub_rec_bankruptcies</th>\n",
       "      <th>issue_year</th>\n",
       "      <th>issue_month</th>\n",
       "    </tr>\n",
       "  </thead>\n",
       "  <tbody>\n",
       "    <tr>\n",
       "      <th>loan_amnt</th>\n",
       "      <td>1.000000</td>\n",
       "      <td>0.981578</td>\n",
       "      <td>0.951973</td>\n",
       "      <td>0.299814</td>\n",
       "      <td>0.931165</td>\n",
       "      <td>0.148522</td>\n",
       "      <td>0.270172</td>\n",
       "      <td>0.060025</td>\n",
       "      <td>-0.034761</td>\n",
       "      <td>0.011216</td>\n",
       "      <td>0.174466</td>\n",
       "      <td>-0.047159</td>\n",
       "      <td>0.315970</td>\n",
       "      <td>0.255641</td>\n",
       "      <td>0.881824</td>\n",
       "      <td>-0.031905</td>\n",
       "      <td>0.115445</td>\n",
       "      <td>0.053286</td>\n",
       "    </tr>\n",
       "    <tr>\n",
       "      <th>funded_amnt</th>\n",
       "      <td>0.981578</td>\n",
       "      <td>1.000000</td>\n",
       "      <td>0.971404</td>\n",
       "      <td>0.303900</td>\n",
       "      <td>0.957282</td>\n",
       "      <td>0.148393</td>\n",
       "      <td>0.266185</td>\n",
       "      <td>0.060146</td>\n",
       "      <td>-0.034827</td>\n",
       "      <td>0.011312</td>\n",
       "      <td>0.173114</td>\n",
       "      <td>-0.047597</td>\n",
       "      <td>0.308901</td>\n",
       "      <td>0.250066</td>\n",
       "      <td>0.898962</td>\n",
       "      <td>-0.032856</td>\n",
       "      <td>0.128374</td>\n",
       "      <td>0.043386</td>\n",
       "    </tr>\n",
       "    <tr>\n",
       "      <th>funded_amnt_inv</th>\n",
       "      <td>0.951973</td>\n",
       "      <td>0.971404</td>\n",
       "      <td>1.000000</td>\n",
       "      <td>0.294318</td>\n",
       "      <td>0.923653</td>\n",
       "      <td>0.155796</td>\n",
       "      <td>0.257221</td>\n",
       "      <td>0.063226</td>\n",
       "      <td>-0.038683</td>\n",
       "      <td>0.000162</td>\n",
       "      <td>0.163023</td>\n",
       "      <td>-0.051503</td>\n",
       "      <td>0.292590</td>\n",
       "      <td>0.241105</td>\n",
       "      <td>0.885340</td>\n",
       "      <td>-0.037785</td>\n",
       "      <td>0.215678</td>\n",
       "      <td>0.058601</td>\n",
       "    </tr>\n",
       "    <tr>\n",
       "      <th>int_rate</th>\n",
       "      <td>0.299814</td>\n",
       "      <td>0.303900</td>\n",
       "      <td>0.294318</td>\n",
       "      <td>1.000000</td>\n",
       "      <td>0.275831</td>\n",
       "      <td>-0.001835</td>\n",
       "      <td>0.047641</td>\n",
       "      <td>0.107563</td>\n",
       "      <td>0.158821</td>\n",
       "      <td>0.135633</td>\n",
       "      <td>0.008649</td>\n",
       "      <td>0.098928</td>\n",
       "      <td>0.096476</td>\n",
       "      <td>-0.046081</td>\n",
       "      <td>0.289716</td>\n",
       "      <td>0.083131</td>\n",
       "      <td>0.026425</td>\n",
       "      <td>0.023139</td>\n",
       "    </tr>\n",
       "    <tr>\n",
       "      <th>installment</th>\n",
       "      <td>0.931165</td>\n",
       "      <td>0.957282</td>\n",
       "      <td>0.923653</td>\n",
       "      <td>0.275831</td>\n",
       "      <td>1.000000</td>\n",
       "      <td>0.122086</td>\n",
       "      <td>0.269179</td>\n",
       "      <td>0.050030</td>\n",
       "      <td>-0.023088</td>\n",
       "      <td>0.008952</td>\n",
       "      <td>0.170321</td>\n",
       "      <td>-0.042607</td>\n",
       "      <td>0.312126</td>\n",
       "      <td>0.229992</td>\n",
       "      <td>0.858424</td>\n",
       "      <td>-0.029493</td>\n",
       "      <td>0.060601</td>\n",
       "      <td>0.032351</td>\n",
       "    </tr>\n",
       "    <tr>\n",
       "      <th>emp_length</th>\n",
       "      <td>0.148522</td>\n",
       "      <td>0.148393</td>\n",
       "      <td>0.155796</td>\n",
       "      <td>-0.001835</td>\n",
       "      <td>0.122086</td>\n",
       "      <td>1.000000</td>\n",
       "      <td>0.111931</td>\n",
       "      <td>0.048523</td>\n",
       "      <td>0.014746</td>\n",
       "      <td>0.009569</td>\n",
       "      <td>0.096810</td>\n",
       "      <td>0.064538</td>\n",
       "      <td>0.150950</td>\n",
       "      <td>0.206992</td>\n",
       "      <td>0.131285</td>\n",
       "      <td>0.062577</td>\n",
       "      <td>0.110183</td>\n",
       "      <td>0.020631</td>\n",
       "    </tr>\n",
       "    <tr>\n",
       "      <th>annual_inc</th>\n",
       "      <td>0.270172</td>\n",
       "      <td>0.266185</td>\n",
       "      <td>0.257221</td>\n",
       "      <td>0.047641</td>\n",
       "      <td>0.269179</td>\n",
       "      <td>0.111931</td>\n",
       "      <td>1.000000</td>\n",
       "      <td>-0.123553</td>\n",
       "      <td>0.021222</td>\n",
       "      <td>0.034581</td>\n",
       "      <td>0.156305</td>\n",
       "      <td>-0.014411</td>\n",
       "      <td>0.276163</td>\n",
       "      <td>0.236350</td>\n",
       "      <td>0.257465</td>\n",
       "      <td>-0.012418</td>\n",
       "      <td>0.014542</td>\n",
       "      <td>0.008989</td>\n",
       "    </tr>\n",
       "    <tr>\n",
       "      <th>dti</th>\n",
       "      <td>0.060025</td>\n",
       "      <td>0.060146</td>\n",
       "      <td>0.063226</td>\n",
       "      <td>0.107563</td>\n",
       "      <td>0.050030</td>\n",
       "      <td>0.048523</td>\n",
       "      <td>-0.123553</td>\n",
       "      <td>1.000000</td>\n",
       "      <td>-0.034962</td>\n",
       "      <td>0.000675</td>\n",
       "      <td>0.290169</td>\n",
       "      <td>-0.005436</td>\n",
       "      <td>0.227999</td>\n",
       "      <td>0.228279</td>\n",
       "      <td>0.057503</td>\n",
       "      <td>0.006438</td>\n",
       "      <td>0.080613</td>\n",
       "      <td>0.008258</td>\n",
       "    </tr>\n",
       "    <tr>\n",
       "      <th>delinq_2yrs</th>\n",
       "      <td>-0.034761</td>\n",
       "      <td>-0.034827</td>\n",
       "      <td>-0.038683</td>\n",
       "      <td>0.158821</td>\n",
       "      <td>-0.023088</td>\n",
       "      <td>0.014746</td>\n",
       "      <td>0.021222</td>\n",
       "      <td>-0.034962</td>\n",
       "      <td>1.000000</td>\n",
       "      <td>0.008404</td>\n",
       "      <td>0.011153</td>\n",
       "      <td>0.010929</td>\n",
       "      <td>-0.056344</td>\n",
       "      <td>0.067006</td>\n",
       "      <td>-0.025458</td>\n",
       "      <td>0.005801</td>\n",
       "      <td>0.004251</td>\n",
       "      <td>-0.011652</td>\n",
       "    </tr>\n",
       "    <tr>\n",
       "      <th>inq_last_6mths</th>\n",
       "      <td>0.011216</td>\n",
       "      <td>0.011312</td>\n",
       "      <td>0.000162</td>\n",
       "      <td>0.135633</td>\n",
       "      <td>0.008952</td>\n",
       "      <td>0.009569</td>\n",
       "      <td>0.034581</td>\n",
       "      <td>0.000675</td>\n",
       "      <td>0.008404</td>\n",
       "      <td>1.000000</td>\n",
       "      <td>0.094285</td>\n",
       "      <td>0.023190</td>\n",
       "      <td>-0.024636</td>\n",
       "      <td>0.115205</td>\n",
       "      <td>-0.008831</td>\n",
       "      <td>0.014244</td>\n",
       "      <td>-0.058662</td>\n",
       "      <td>0.016301</td>\n",
       "    </tr>\n",
       "    <tr>\n",
       "      <th>open_acc</th>\n",
       "      <td>0.174466</td>\n",
       "      <td>0.173114</td>\n",
       "      <td>0.163023</td>\n",
       "      <td>0.008649</td>\n",
       "      <td>0.170321</td>\n",
       "      <td>0.096810</td>\n",
       "      <td>0.156305</td>\n",
       "      <td>0.290169</td>\n",
       "      <td>0.011153</td>\n",
       "      <td>0.094285</td>\n",
       "      <td>1.000000</td>\n",
       "      <td>0.003371</td>\n",
       "      <td>0.285846</td>\n",
       "      <td>0.685489</td>\n",
       "      <td>0.159519</td>\n",
       "      <td>0.009136</td>\n",
       "      <td>0.014936</td>\n",
       "      <td>0.001398</td>\n",
       "    </tr>\n",
       "    <tr>\n",
       "      <th>pub_rec</th>\n",
       "      <td>-0.047159</td>\n",
       "      <td>-0.047597</td>\n",
       "      <td>-0.051503</td>\n",
       "      <td>0.098928</td>\n",
       "      <td>-0.042607</td>\n",
       "      <td>0.064538</td>\n",
       "      <td>-0.014411</td>\n",
       "      <td>-0.005436</td>\n",
       "      <td>0.010929</td>\n",
       "      <td>0.023190</td>\n",
       "      <td>0.003371</td>\n",
       "      <td>1.000000</td>\n",
       "      <td>-0.059147</td>\n",
       "      <td>-0.019945</td>\n",
       "      <td>-0.050356</td>\n",
       "      <td>0.841753</td>\n",
       "      <td>-0.016146</td>\n",
       "      <td>-0.023992</td>\n",
       "    </tr>\n",
       "    <tr>\n",
       "      <th>revol_bal</th>\n",
       "      <td>0.315970</td>\n",
       "      <td>0.308901</td>\n",
       "      <td>0.292590</td>\n",
       "      <td>0.096476</td>\n",
       "      <td>0.312126</td>\n",
       "      <td>0.150950</td>\n",
       "      <td>0.276163</td>\n",
       "      <td>0.227999</td>\n",
       "      <td>-0.056344</td>\n",
       "      <td>-0.024636</td>\n",
       "      <td>0.285846</td>\n",
       "      <td>-0.059147</td>\n",
       "      <td>1.000000</td>\n",
       "      <td>0.311793</td>\n",
       "      <td>0.291848</td>\n",
       "      <td>-0.046526</td>\n",
       "      <td>-0.008519</td>\n",
       "      <td>0.013712</td>\n",
       "    </tr>\n",
       "    <tr>\n",
       "      <th>total_acc</th>\n",
       "      <td>0.255641</td>\n",
       "      <td>0.250066</td>\n",
       "      <td>0.241105</td>\n",
       "      <td>-0.046081</td>\n",
       "      <td>0.229992</td>\n",
       "      <td>0.206992</td>\n",
       "      <td>0.236350</td>\n",
       "      <td>0.228279</td>\n",
       "      <td>0.067006</td>\n",
       "      <td>0.115205</td>\n",
       "      <td>0.685489</td>\n",
       "      <td>-0.019945</td>\n",
       "      <td>0.311793</td>\n",
       "      <td>1.000000</td>\n",
       "      <td>0.224271</td>\n",
       "      <td>-0.006714</td>\n",
       "      <td>0.043385</td>\n",
       "      <td>0.000558</td>\n",
       "    </tr>\n",
       "    <tr>\n",
       "      <th>total_pymnt</th>\n",
       "      <td>0.881824</td>\n",
       "      <td>0.898962</td>\n",
       "      <td>0.885340</td>\n",
       "      <td>0.289716</td>\n",
       "      <td>0.858424</td>\n",
       "      <td>0.131285</td>\n",
       "      <td>0.257465</td>\n",
       "      <td>0.057503</td>\n",
       "      <td>-0.025458</td>\n",
       "      <td>-0.008831</td>\n",
       "      <td>0.159519</td>\n",
       "      <td>-0.050356</td>\n",
       "      <td>0.291848</td>\n",
       "      <td>0.224271</td>\n",
       "      <td>1.000000</td>\n",
       "      <td>-0.039478</td>\n",
       "      <td>0.116742</td>\n",
       "      <td>0.026284</td>\n",
       "    </tr>\n",
       "    <tr>\n",
       "      <th>pub_rec_bankruptcies</th>\n",
       "      <td>-0.031905</td>\n",
       "      <td>-0.032856</td>\n",
       "      <td>-0.037785</td>\n",
       "      <td>0.083131</td>\n",
       "      <td>-0.029493</td>\n",
       "      <td>0.062577</td>\n",
       "      <td>-0.012418</td>\n",
       "      <td>0.006438</td>\n",
       "      <td>0.005801</td>\n",
       "      <td>0.014244</td>\n",
       "      <td>0.009136</td>\n",
       "      <td>0.841753</td>\n",
       "      <td>-0.046526</td>\n",
       "      <td>-0.006714</td>\n",
       "      <td>-0.039478</td>\n",
       "      <td>1.000000</td>\n",
       "      <td>-0.003163</td>\n",
       "      <td>-0.022267</td>\n",
       "    </tr>\n",
       "    <tr>\n",
       "      <th>issue_year</th>\n",
       "      <td>0.115445</td>\n",
       "      <td>0.128374</td>\n",
       "      <td>0.215678</td>\n",
       "      <td>0.026425</td>\n",
       "      <td>0.060601</td>\n",
       "      <td>0.110183</td>\n",
       "      <td>0.014542</td>\n",
       "      <td>0.080613</td>\n",
       "      <td>0.004251</td>\n",
       "      <td>-0.058662</td>\n",
       "      <td>0.014936</td>\n",
       "      <td>-0.016146</td>\n",
       "      <td>-0.008519</td>\n",
       "      <td>0.043385</td>\n",
       "      <td>0.116742</td>\n",
       "      <td>-0.003163</td>\n",
       "      <td>1.000000</td>\n",
       "      <td>-0.070010</td>\n",
       "    </tr>\n",
       "    <tr>\n",
       "      <th>issue_month</th>\n",
       "      <td>0.053286</td>\n",
       "      <td>0.043386</td>\n",
       "      <td>0.058601</td>\n",
       "      <td>0.023139</td>\n",
       "      <td>0.032351</td>\n",
       "      <td>0.020631</td>\n",
       "      <td>0.008989</td>\n",
       "      <td>0.008258</td>\n",
       "      <td>-0.011652</td>\n",
       "      <td>0.016301</td>\n",
       "      <td>0.001398</td>\n",
       "      <td>-0.023992</td>\n",
       "      <td>0.013712</td>\n",
       "      <td>0.000558</td>\n",
       "      <td>0.026284</td>\n",
       "      <td>-0.022267</td>\n",
       "      <td>-0.070010</td>\n",
       "      <td>1.000000</td>\n",
       "    </tr>\n",
       "  </tbody>\n",
       "</table>\n",
       "</div>"
      ],
      "text/plain": [
       "                      loan_amnt  funded_amnt  funded_amnt_inv  int_rate  \\\n",
       "loan_amnt              1.000000     0.981578         0.951973  0.299814   \n",
       "funded_amnt            0.981578     1.000000         0.971404  0.303900   \n",
       "funded_amnt_inv        0.951973     0.971404         1.000000  0.294318   \n",
       "int_rate               0.299814     0.303900         0.294318  1.000000   \n",
       "installment            0.931165     0.957282         0.923653  0.275831   \n",
       "emp_length             0.148522     0.148393         0.155796 -0.001835   \n",
       "annual_inc             0.270172     0.266185         0.257221  0.047641   \n",
       "dti                    0.060025     0.060146         0.063226  0.107563   \n",
       "delinq_2yrs           -0.034761    -0.034827        -0.038683  0.158821   \n",
       "inq_last_6mths         0.011216     0.011312         0.000162  0.135633   \n",
       "open_acc               0.174466     0.173114         0.163023  0.008649   \n",
       "pub_rec               -0.047159    -0.047597        -0.051503  0.098928   \n",
       "revol_bal              0.315970     0.308901         0.292590  0.096476   \n",
       "total_acc              0.255641     0.250066         0.241105 -0.046081   \n",
       "total_pymnt            0.881824     0.898962         0.885340  0.289716   \n",
       "pub_rec_bankruptcies  -0.031905    -0.032856        -0.037785  0.083131   \n",
       "issue_year             0.115445     0.128374         0.215678  0.026425   \n",
       "issue_month            0.053286     0.043386         0.058601  0.023139   \n",
       "\n",
       "                      installment  emp_length  annual_inc       dti  \\\n",
       "loan_amnt                0.931165    0.148522    0.270172  0.060025   \n",
       "funded_amnt              0.957282    0.148393    0.266185  0.060146   \n",
       "funded_amnt_inv          0.923653    0.155796    0.257221  0.063226   \n",
       "int_rate                 0.275831   -0.001835    0.047641  0.107563   \n",
       "installment              1.000000    0.122086    0.269179  0.050030   \n",
       "emp_length               0.122086    1.000000    0.111931  0.048523   \n",
       "annual_inc               0.269179    0.111931    1.000000 -0.123553   \n",
       "dti                      0.050030    0.048523   -0.123553  1.000000   \n",
       "delinq_2yrs             -0.023088    0.014746    0.021222 -0.034962   \n",
       "inq_last_6mths           0.008952    0.009569    0.034581  0.000675   \n",
       "open_acc                 0.170321    0.096810    0.156305  0.290169   \n",
       "pub_rec                 -0.042607    0.064538   -0.014411 -0.005436   \n",
       "revol_bal                0.312126    0.150950    0.276163  0.227999   \n",
       "total_acc                0.229992    0.206992    0.236350  0.228279   \n",
       "total_pymnt              0.858424    0.131285    0.257465  0.057503   \n",
       "pub_rec_bankruptcies    -0.029493    0.062577   -0.012418  0.006438   \n",
       "issue_year               0.060601    0.110183    0.014542  0.080613   \n",
       "issue_month              0.032351    0.020631    0.008989  0.008258   \n",
       "\n",
       "                      delinq_2yrs  inq_last_6mths  open_acc   pub_rec  \\\n",
       "loan_amnt               -0.034761        0.011216  0.174466 -0.047159   \n",
       "funded_amnt             -0.034827        0.011312  0.173114 -0.047597   \n",
       "funded_amnt_inv         -0.038683        0.000162  0.163023 -0.051503   \n",
       "int_rate                 0.158821        0.135633  0.008649  0.098928   \n",
       "installment             -0.023088        0.008952  0.170321 -0.042607   \n",
       "emp_length               0.014746        0.009569  0.096810  0.064538   \n",
       "annual_inc               0.021222        0.034581  0.156305 -0.014411   \n",
       "dti                     -0.034962        0.000675  0.290169 -0.005436   \n",
       "delinq_2yrs              1.000000        0.008404  0.011153  0.010929   \n",
       "inq_last_6mths           0.008404        1.000000  0.094285  0.023190   \n",
       "open_acc                 0.011153        0.094285  1.000000  0.003371   \n",
       "pub_rec                  0.010929        0.023190  0.003371  1.000000   \n",
       "revol_bal               -0.056344       -0.024636  0.285846 -0.059147   \n",
       "total_acc                0.067006        0.115205  0.685489 -0.019945   \n",
       "total_pymnt             -0.025458       -0.008831  0.159519 -0.050356   \n",
       "pub_rec_bankruptcies     0.005801        0.014244  0.009136  0.841753   \n",
       "issue_year               0.004251       -0.058662  0.014936 -0.016146   \n",
       "issue_month             -0.011652        0.016301  0.001398 -0.023992   \n",
       "\n",
       "                      revol_bal  total_acc  total_pymnt  pub_rec_bankruptcies  \\\n",
       "loan_amnt              0.315970   0.255641     0.881824             -0.031905   \n",
       "funded_amnt            0.308901   0.250066     0.898962             -0.032856   \n",
       "funded_amnt_inv        0.292590   0.241105     0.885340             -0.037785   \n",
       "int_rate               0.096476  -0.046081     0.289716              0.083131   \n",
       "installment            0.312126   0.229992     0.858424             -0.029493   \n",
       "emp_length             0.150950   0.206992     0.131285              0.062577   \n",
       "annual_inc             0.276163   0.236350     0.257465             -0.012418   \n",
       "dti                    0.227999   0.228279     0.057503              0.006438   \n",
       "delinq_2yrs           -0.056344   0.067006    -0.025458              0.005801   \n",
       "inq_last_6mths        -0.024636   0.115205    -0.008831              0.014244   \n",
       "open_acc               0.285846   0.685489     0.159519              0.009136   \n",
       "pub_rec               -0.059147  -0.019945    -0.050356              0.841753   \n",
       "revol_bal              1.000000   0.311793     0.291848             -0.046526   \n",
       "total_acc              0.311793   1.000000     0.224271             -0.006714   \n",
       "total_pymnt            0.291848   0.224271     1.000000             -0.039478   \n",
       "pub_rec_bankruptcies  -0.046526  -0.006714    -0.039478              1.000000   \n",
       "issue_year            -0.008519   0.043385     0.116742             -0.003163   \n",
       "issue_month            0.013712   0.000558     0.026284             -0.022267   \n",
       "\n",
       "                      issue_year  issue_month  \n",
       "loan_amnt               0.115445     0.053286  \n",
       "funded_amnt             0.128374     0.043386  \n",
       "funded_amnt_inv         0.215678     0.058601  \n",
       "int_rate                0.026425     0.023139  \n",
       "installment             0.060601     0.032351  \n",
       "emp_length              0.110183     0.020631  \n",
       "annual_inc              0.014542     0.008989  \n",
       "dti                     0.080613     0.008258  \n",
       "delinq_2yrs             0.004251    -0.011652  \n",
       "inq_last_6mths         -0.058662     0.016301  \n",
       "open_acc                0.014936     0.001398  \n",
       "pub_rec                -0.016146    -0.023992  \n",
       "revol_bal              -0.008519     0.013712  \n",
       "total_acc               0.043385     0.000558  \n",
       "total_pymnt             0.116742     0.026284  \n",
       "pub_rec_bankruptcies   -0.003163    -0.022267  \n",
       "issue_year              1.000000    -0.070010  \n",
       "issue_month            -0.070010     1.000000  "
      ]
     },
     "execution_count": 34,
     "metadata": {},
     "output_type": "execute_result"
    }
   ],
   "source": [
    "df.corr()"
   ]
  },
  {
   "cell_type": "code",
   "execution_count": 35,
   "id": "609ade12",
   "metadata": {},
   "outputs": [
    {
     "data": {
      "image/png": "[encoded data removed]",
      "text/plain": [
       "<Figure size 864x864 with 4 Axes>"
      ]
     },
     "metadata": {
      "needs_background": "light"
     },
     "output_type": "display_data"
    }
   ],
   "source": [
    "#Correlation Matrix\n",
    "sns.clustermap(data=df.corr(), cmap='coolwarm_r', figsize=(12,12), annot=True)\n",
    "plt.show()"
   ]
  },
  {
   "cell_type": "code",
   "execution_count": 36,
   "id": "8363e022",
   "metadata": {},
   "outputs": [
    {
     "data": {
      "text/html": [
       "<div>\n",
       "<style scoped>\n",
       "    .dataframe tbody tr th:only-of-type {\n",
       "        vertical-align: middle;\n",
       "    }\n",
       "\n",
       "    .dataframe tbody tr th {\n",
       "        vertical-align: top;\n",
       "    }\n",
       "\n",
       "    .dataframe thead th {\n",
       "        text-align: right;\n",
       "    }\n",
       "</style>\n",
       "<table border=\"1\" class=\"dataframe\">\n",
       "  <thead>\n",
       "    <tr style=\"text-align: right;\">\n",
       "      <th></th>\n",
       "      <th>loan_amnt</th>\n",
       "      <th>funded_amnt</th>\n",
       "      <th>funded_amnt_inv</th>\n",
       "      <th>term</th>\n",
       "      <th>int_rate</th>\n",
       "      <th>installment</th>\n",
       "      <th>grade</th>\n",
       "      <th>sub_grade</th>\n",
       "      <th>emp_length</th>\n",
       "      <th>home_ownership</th>\n",
       "      <th>annual_inc</th>\n",
       "      <th>verification_status</th>\n",
       "      <th>issue_d</th>\n",
       "      <th>loan_status</th>\n",
       "      <th>purpose</th>\n",
       "      <th>addr_state</th>\n",
       "      <th>dti</th>\n",
       "      <th>delinq_2yrs</th>\n",
       "      <th>earliest_cr_line</th>\n",
       "      <th>inq_last_6mths</th>\n",
       "      <th>open_acc</th>\n",
       "      <th>pub_rec</th>\n",
       "      <th>revol_bal</th>\n",
       "      <th>revol_util</th>\n",
       "      <th>total_acc</th>\n",
       "      <th>total_pymnt</th>\n",
       "      <th>pub_rec_bankruptcies</th>\n",
       "      <th>issue_year</th>\n",
       "      <th>issue_month</th>\n",
       "    </tr>\n",
       "  </thead>\n",
       "  <tbody>\n",
       "    <tr>\n",
       "      <th>0</th>\n",
       "      <td>5000</td>\n",
       "      <td>5000</td>\n",
       "      <td>4975.0</td>\n",
       "      <td>36 months</td>\n",
       "      <td>10.65</td>\n",
       "      <td>162.87</td>\n",
       "      <td>B</td>\n",
       "      <td>B2</td>\n",
       "      <td>10</td>\n",
       "      <td>RENT</td>\n",
       "      <td>24000.0</td>\n",
       "      <td>Verified</td>\n",
       "      <td>2011-12-01</td>\n",
       "      <td>Fully Paid</td>\n",
       "      <td>credit_card</td>\n",
       "      <td>AZ</td>\n",
       "      <td>27.65</td>\n",
       "      <td>0</td>\n",
       "      <td>Jan-85</td>\n",
       "      <td>1</td>\n",
       "      <td>3</td>\n",
       "      <td>0</td>\n",
       "      <td>13648</td>\n",
       "      <td>83.70</td>\n",
       "      <td>9</td>\n",
       "      <td>5863.155187</td>\n",
       "      <td>0.0</td>\n",
       "      <td>2011</td>\n",
       "      <td>12</td>\n",
       "    </tr>\n",
       "    <tr>\n",
       "      <th>1</th>\n",
       "      <td>2500</td>\n",
       "      <td>2500</td>\n",
       "      <td>2500.0</td>\n",
       "      <td>60 months</td>\n",
       "      <td>15.27</td>\n",
       "      <td>59.83</td>\n",
       "      <td>C</td>\n",
       "      <td>C4</td>\n",
       "      <td>0</td>\n",
       "      <td>RENT</td>\n",
       "      <td>30000.0</td>\n",
       "      <td>Source Verified</td>\n",
       "      <td>2011-12-01</td>\n",
       "      <td>Charged Off</td>\n",
       "      <td>car</td>\n",
       "      <td>GA</td>\n",
       "      <td>1.00</td>\n",
       "      <td>0</td>\n",
       "      <td>Apr-99</td>\n",
       "      <td>5</td>\n",
       "      <td>3</td>\n",
       "      <td>0</td>\n",
       "      <td>1687</td>\n",
       "      <td>9.40</td>\n",
       "      <td>4</td>\n",
       "      <td>1008.710000</td>\n",
       "      <td>0.0</td>\n",
       "      <td>2011</td>\n",
       "      <td>12</td>\n",
       "    </tr>\n",
       "    <tr>\n",
       "      <th>2</th>\n",
       "      <td>2400</td>\n",
       "      <td>2400</td>\n",
       "      <td>2400.0</td>\n",
       "      <td>36 months</td>\n",
       "      <td>15.96</td>\n",
       "      <td>84.33</td>\n",
       "      <td>C</td>\n",
       "      <td>C5</td>\n",
       "      <td>10</td>\n",
       "      <td>RENT</td>\n",
       "      <td>12252.0</td>\n",
       "      <td>Not Verified</td>\n",
       "      <td>2011-12-01</td>\n",
       "      <td>Fully Paid</td>\n",
       "      <td>small_business</td>\n",
       "      <td>IL</td>\n",
       "      <td>8.72</td>\n",
       "      <td>0</td>\n",
       "      <td>Nov-01</td>\n",
       "      <td>2</td>\n",
       "      <td>2</td>\n",
       "      <td>0</td>\n",
       "      <td>2956</td>\n",
       "      <td>98.50</td>\n",
       "      <td>10</td>\n",
       "      <td>3005.666844</td>\n",
       "      <td>0.0</td>\n",
       "      <td>2011</td>\n",
       "      <td>12</td>\n",
       "    </tr>\n",
       "    <tr>\n",
       "      <th>3</th>\n",
       "      <td>10000</td>\n",
       "      <td>10000</td>\n",
       "      <td>10000.0</td>\n",
       "      <td>36 months</td>\n",
       "      <td>13.49</td>\n",
       "      <td>339.31</td>\n",
       "      <td>C</td>\n",
       "      <td>C1</td>\n",
       "      <td>10</td>\n",
       "      <td>RENT</td>\n",
       "      <td>49200.0</td>\n",
       "      <td>Source Verified</td>\n",
       "      <td>2011-12-01</td>\n",
       "      <td>Fully Paid</td>\n",
       "      <td>other</td>\n",
       "      <td>CA</td>\n",
       "      <td>20.00</td>\n",
       "      <td>0</td>\n",
       "      <td>Feb-96</td>\n",
       "      <td>1</td>\n",
       "      <td>10</td>\n",
       "      <td>0</td>\n",
       "      <td>5598</td>\n",
       "      <td>21</td>\n",
       "      <td>37</td>\n",
       "      <td>12231.890000</td>\n",
       "      <td>0.0</td>\n",
       "      <td>2011</td>\n",
       "      <td>12</td>\n",
       "    </tr>\n",
       "    <tr>\n",
       "      <th>5</th>\n",
       "      <td>5000</td>\n",
       "      <td>5000</td>\n",
       "      <td>5000.0</td>\n",
       "      <td>36 months</td>\n",
       "      <td>7.90</td>\n",
       "      <td>156.46</td>\n",
       "      <td>A</td>\n",
       "      <td>A4</td>\n",
       "      <td>3</td>\n",
       "      <td>RENT</td>\n",
       "      <td>36000.0</td>\n",
       "      <td>Source Verified</td>\n",
       "      <td>2011-12-01</td>\n",
       "      <td>Fully Paid</td>\n",
       "      <td>wedding</td>\n",
       "      <td>AZ</td>\n",
       "      <td>11.20</td>\n",
       "      <td>0</td>\n",
       "      <td>Nov-04</td>\n",
       "      <td>3</td>\n",
       "      <td>9</td>\n",
       "      <td>0</td>\n",
       "      <td>7963</td>\n",
       "      <td>28.30</td>\n",
       "      <td>12</td>\n",
       "      <td>5632.210000</td>\n",
       "      <td>0.0</td>\n",
       "      <td>2011</td>\n",
       "      <td>12</td>\n",
       "    </tr>\n",
       "  </tbody>\n",
       "</table>\n",
       "</div>"
      ],
      "text/plain": [
       "   loan_amnt  funded_amnt  funded_amnt_inv        term  int_rate  installment  \\\n",
       "0       5000         5000           4975.0   36 months     10.65       162.87   \n",
       "1       2500         2500           2500.0   60 months     15.27        59.83   \n",
       "2       2400         2400           2400.0   36 months     15.96        84.33   \n",
       "3      10000        10000          10000.0   36 months     13.49       339.31   \n",
       "5       5000         5000           5000.0   36 months      7.90       156.46   \n",
       "\n",
       "  grade sub_grade  emp_length home_ownership  annual_inc verification_status  \\\n",
       "0     B        B2          10           RENT     24000.0            Verified   \n",
       "1     C        C4           0           RENT     30000.0     Source Verified   \n",
       "2     C        C5          10           RENT     12252.0        Not Verified   \n",
       "3     C        C1          10           RENT     49200.0     Source Verified   \n",
       "5     A        A4           3           RENT     36000.0     Source Verified   \n",
       "\n",
       "     issue_d  loan_status         purpose addr_state    dti  delinq_2yrs  \\\n",
       "0 2011-12-01   Fully Paid     credit_card         AZ  27.65            0   \n",
       "1 2011-12-01  Charged Off             car         GA   1.00            0   \n",
       "2 2011-12-01   Fully Paid  small_business         IL   8.72            0   \n",
       "3 2011-12-01   Fully Paid           other         CA  20.00            0   \n",
       "5 2011-12-01   Fully Paid         wedding         AZ  11.20            0   \n",
       "\n",
       "  earliest_cr_line  inq_last_6mths  open_acc  pub_rec  revol_bal revol_util  \\\n",
       "0           Jan-85               1         3        0      13648      83.70   \n",
       "1           Apr-99               5         3        0       1687       9.40   \n",
       "2           Nov-01               2         2        0       2956      98.50   \n",
       "3           Feb-96               1        10        0       5598         21   \n",
       "5           Nov-04               3         9        0       7963      28.30   \n",
       "\n",
       "   total_acc   total_pymnt  pub_rec_bankruptcies  issue_year  issue_month  \n",
       "0          9   5863.155187                   0.0        2011           12  \n",
       "1          4   1008.710000                   0.0        2011           12  \n",
       "2         10   3005.666844                   0.0        2011           12  \n",
       "3         37  12231.890000                   0.0        2011           12  \n",
       "5         12   5632.210000                   0.0        2011           12  "
      ]
     },
     "execution_count": 36,
     "metadata": {},
     "output_type": "execute_result"
    }
   ],
   "source": [
    "df.head()"
   ]
  },
  {
   "cell_type": "code",
   "execution_count": 37,
   "id": "f349875c-400c-4c13-8548-f16ebbc7ef78",
   "metadata": {},
   "outputs": [
    {
     "data": {
      "text/plain": [
       "0"
      ]
     },
     "execution_count": 37,
     "metadata": {},
     "output_type": "execute_result"
    }
   ],
   "source": [
    "#Evaluating pub_rec_bankruptcies\n",
    "df.pub_rec_bankruptcies.isnull().sum()"
   ]
  },
  {
   "cell_type": "code",
   "execution_count": 38,
   "id": "b2a43096-90aa-4a36-b671-2bf93532529c",
   "metadata": {},
   "outputs": [
    {
     "data": {
      "text/plain": [
       "Series([], dtype: float64)"
      ]
     },
     "execution_count": 38,
     "metadata": {},
     "output_type": "execute_result"
    }
   ],
   "source": [
    "#finding missing values in the columns\n",
    "missing_values = round(100*(df.isnull().sum()/len(df.loan_amnt)))\n",
    "missing_values[missing_values !=0]"
   ]
  },
  {
   "cell_type": "code",
   "execution_count": 39,
   "id": "b60446fe-2860-4833-b996-4490e4741641",
   "metadata": {},
   "outputs": [
    {
     "name": "stdout",
     "output_type": "stream",
     "text": [
      "<class 'pandas.core.frame.DataFrame'>\n",
      "Int64Index: 36800 entries, 0 to 39680\n",
      "Data columns (total 29 columns):\n",
      " #   Column                Non-Null Count  Dtype         \n",
      "---  ------                --------------  -----         \n",
      " 0   loan_amnt             36800 non-null  int64         \n",
      " 1   funded_amnt           36800 non-null  int64         \n",
      " 2   funded_amnt_inv       36800 non-null  float64       \n",
      " 3   term                  36800 non-null  object        \n",
      " 4   int_rate              36800 non-null  float64       \n",
      " 5   installment           36800 non-null  float64       \n",
      " 6   grade                 36800 non-null  object        \n",
      " 7   sub_grade             36800 non-null  object        \n",
      " 8   emp_length            36800 non-null  int64         \n",
      " 9   home_ownership        36800 non-null  object        \n",
      " 10  annual_inc            36800 non-null  float64       \n",
      " 11  verification_status   36800 non-null  object        \n",
      " 12  issue_d               36800 non-null  datetime64[ns]\n",
      " 13  loan_status           36800 non-null  object        \n",
      " 14  purpose               36800 non-null  object        \n",
      " 15  addr_state            36800 non-null  object        \n",
      " 16  dti                   36800 non-null  float64       \n",
      " 17  delinq_2yrs           36800 non-null  int64         \n",
      " 18  earliest_cr_line      36800 non-null  object        \n",
      " 19  inq_last_6mths        36800 non-null  int64         \n",
      " 20  open_acc              36800 non-null  int64         \n",
      " 21  pub_rec               36800 non-null  int64         \n",
      " 22  revol_bal             36800 non-null  int64         \n",
      " 23  revol_util            36800 non-null  object        \n",
      " 24  total_acc             36800 non-null  int64         \n",
      " 25  total_pymnt           36800 non-null  float64       \n",
      " 26  pub_rec_bankruptcies  36800 non-null  float64       \n",
      " 27  issue_year            36800 non-null  int64         \n",
      " 28  issue_month           36800 non-null  int64         \n",
      "dtypes: datetime64[ns](1), float64(7), int64(11), object(10)\n",
      "memory usage: 8.4+ MB\n"
     ]
    }
   ],
   "source": [
    "df.info()"
   ]
  },
  {
   "cell_type": "markdown",
   "id": "7c80a16a-7b6b-484e-9e47-a4d5ca757cfc",
   "metadata": {},
   "source": [
    "#### All Null Values removed as per above info"
   ]
  },
  {
   "cell_type": "code",
   "execution_count": 40,
   "id": "01c659e5-e6b4-43ed-b2b2-87518c9d36c6",
   "metadata": {},
   "outputs": [
    {
     "data": {
      "text/plain": [
       "0    Jan-85\n",
       "1    Apr-99\n",
       "2    Nov-01\n",
       "3    Feb-96\n",
       "5    Nov-04\n",
       "Name: earliest_cr_line, dtype: object"
      ]
     },
     "execution_count": 40,
     "metadata": {},
     "output_type": "execute_result"
    }
   ],
   "source": [
    "# Evaluating 'earliest_cr_line'\n",
    "df['earliest_cr_line'].head()"
   ]
  },
  {
   "cell_type": "code",
   "execution_count": 41,
   "id": "515597e7-4c50-492a-b23e-20fec3c855a5",
   "metadata": {},
   "outputs": [],
   "source": [
    "# Converting 'earliest_cr_line' to date format\n",
    "df.earliest_cr_line = pd.to_datetime(df.earliest_cr_line, format='%b-%y')"
   ]
  },
  {
   "cell_type": "code",
   "execution_count": 42,
   "id": "ae1aa951-2d63-41c7-a530-3af30eb00f9b",
   "metadata": {},
   "outputs": [],
   "source": [
    "# Splitting the earliest_cr_line to Month and Year\n",
    "df['earliest_cr_line_month'] = df['earliest_cr_line'].dt.month\n",
    "df['earliest_cr_line_year'] = df['earliest_cr_line'].dt.year"
   ]
  },
  {
   "cell_type": "code",
   "execution_count": 43,
   "id": "18dadcef-c53a-4887-aaec-228f30745d5a",
   "metadata": {},
   "outputs": [
    {
     "data": {
      "text/plain": [
       "1     3202\n",
       "2     2642\n",
       "3     2565\n",
       "4     2531\n",
       "5     2688\n",
       "6     2732\n",
       "7     2829\n",
       "8     3080\n",
       "9     3334\n",
       "10    3797\n",
       "11    3647\n",
       "12    3753\n",
       "Name: earliest_cr_line_month, dtype: int64"
      ]
     },
     "execution_count": 43,
     "metadata": {},
     "output_type": "execute_result"
    }
   ],
   "source": [
    "# Evaluating earliest_cr_line_month\n",
    "df['earliest_cr_line_month'].value_counts().sort_index()"
   ]
  },
  {
   "cell_type": "code",
   "execution_count": 44,
   "id": "05ffba41-ccef-4be3-b437-e5d84fc4c3c0",
   "metadata": {},
   "outputs": [
    {
     "data": {
      "text/plain": [
       "1969      26\n",
       "1970      37\n",
       "1971      38\n",
       "1972      34\n",
       "1973      45\n",
       "1974      53\n",
       "1975      66\n",
       "1976      74\n",
       "1977      98\n",
       "1978     136\n",
       "1979     137\n",
       "1980     157\n",
       "1981     160\n",
       "1982     194\n",
       "1983     303\n",
       "1984     364\n",
       "1985     407\n",
       "1986     448\n",
       "1987     565\n",
       "1988     670\n",
       "1989     787\n",
       "1990     948\n",
       "1991     894\n",
       "1992     976\n",
       "1993    1387\n",
       "1994    1862\n",
       "1995    1985\n",
       "1996    2113\n",
       "1997    2292\n",
       "1998    2668\n",
       "1999    2805\n",
       "2000    3036\n",
       "2001    2385\n",
       "2002    1814\n",
       "2003    1750\n",
       "2004    1668\n",
       "2005    1425\n",
       "2006    1115\n",
       "2007     677\n",
       "2008     144\n",
       "2046       1\n",
       "2050       1\n",
       "2054       1\n",
       "2056       1\n",
       "2062       3\n",
       "2063       4\n",
       "2064       3\n",
       "2065       6\n",
       "2066       8\n",
       "2067      15\n",
       "2068      14\n",
       "Name: earliest_cr_line_year, dtype: int64"
      ]
     },
     "execution_count": 44,
     "metadata": {},
     "output_type": "execute_result"
    }
   ],
   "source": [
    "# Evaluating earliest_cr_line_year\n",
    "df['earliest_cr_line_year'].value_counts().sort_index()"
   ]
  },
  {
   "cell_type": "code",
   "execution_count": 45,
   "id": "7c166bb0-8947-4d65-b8e7-1251bb921bb1",
   "metadata": {},
   "outputs": [
    {
     "name": "stdout",
     "output_type": "stream",
     "text": [
      "No of rows with year more than 2021: 57\n"
     ]
    }
   ],
   "source": [
    "# Some values of the years are in future which seem like flawed data, hence need to be imputed with reasonable values\n",
    "print('No of rows with year more than 2021:',len(df[df['earliest_cr_line_year'] > 2021 ]))\n"
   ]
  },
  {
   "cell_type": "code",
   "execution_count": 46,
   "id": "039cb354-4c68-402d-b5df-ec02cd29e493",
   "metadata": {},
   "outputs": [
    {
     "name": "stdout",
     "output_type": "stream",
     "text": [
      "No of rows with year more than 2021: 0\n"
     ]
    }
   ],
   "source": [
    "# Our assumption is that there is a chance that while conversion, some 1900s got converted to 2000s\n",
    "# hence reducing 100 yrs from the data which has year beyond 2021\n",
    "df.loc[df['earliest_cr_line_year'] > 2021 , 'earliest_cr_line_year'] = df['earliest_cr_line_year'] - 100\n",
    "print('No of rows with year more than 2021:',len(df[df['earliest_cr_line_year'] > 2021 ]))"
   ]
  },
  {
   "cell_type": "code",
   "execution_count": 47,
   "id": "edd1a06c-6428-4d9c-8f25-1377693dca16",
   "metadata": {},
   "outputs": [],
   "source": [
    "#exporting the cleaned data to the master file\n",
    "df.to_csv('clean_data.csv', encoding='utf-8', index=False)"
   ]
  },
  {
   "cell_type": "markdown",
   "id": "c74b8ff3-67d2-4795-bf16-cb7bf035bee3",
   "metadata": {},
   "source": [
    "## Checking for outliers and Univariate Analysis"
   ]
  },
  {
   "cell_type": "code",
   "execution_count": 48,
   "id": "5ef16796-04f9-4942-8a35-19b2c50599ff",
   "metadata": {},
   "outputs": [
    {
     "data": {
      "text/html": [
       "<div>\n",
       "<style scoped>\n",
       "    .dataframe tbody tr th:only-of-type {\n",
       "        vertical-align: middle;\n",
       "    }\n",
       "\n",
       "    .dataframe tbody tr th {\n",
       "        vertical-align: top;\n",
       "    }\n",
       "\n",
       "    .dataframe thead th {\n",
       "        text-align: right;\n",
       "    }\n",
       "</style>\n",
       "<table border=\"1\" class=\"dataframe\">\n",
       "  <thead>\n",
       "    <tr style=\"text-align: right;\">\n",
       "      <th></th>\n",
       "      <th>loan_amnt</th>\n",
       "      <th>funded_amnt</th>\n",
       "      <th>funded_amnt_inv</th>\n",
       "      <th>int_rate</th>\n",
       "      <th>installment</th>\n",
       "      <th>emp_length</th>\n",
       "      <th>annual_inc</th>\n",
       "      <th>dti</th>\n",
       "      <th>delinq_2yrs</th>\n",
       "      <th>inq_last_6mths</th>\n",
       "      <th>open_acc</th>\n",
       "      <th>pub_rec</th>\n",
       "      <th>revol_bal</th>\n",
       "      <th>total_acc</th>\n",
       "      <th>total_pymnt</th>\n",
       "      <th>pub_rec_bankruptcies</th>\n",
       "      <th>issue_year</th>\n",
       "      <th>issue_month</th>\n",
       "      <th>earliest_cr_line_month</th>\n",
       "      <th>earliest_cr_line_year</th>\n",
       "    </tr>\n",
       "  </thead>\n",
       "  <tbody>\n",
       "    <tr>\n",
       "      <th>count</th>\n",
       "      <td>36800.000000</td>\n",
       "      <td>36800.000000</td>\n",
       "      <td>36800.000000</td>\n",
       "      <td>36800.000000</td>\n",
       "      <td>36800.000000</td>\n",
       "      <td>36800.000000</td>\n",
       "      <td>3.680000e+04</td>\n",
       "      <td>36800.000000</td>\n",
       "      <td>36800.000000</td>\n",
       "      <td>36800.000000</td>\n",
       "      <td>36800.000000</td>\n",
       "      <td>36800.000000</td>\n",
       "      <td>36800.000000</td>\n",
       "      <td>36800.000000</td>\n",
       "      <td>36800.000000</td>\n",
       "      <td>36800.000000</td>\n",
       "      <td>36800.000000</td>\n",
       "      <td>36800.000000</td>\n",
       "      <td>36800.000000</td>\n",
       "      <td>36800.000000</td>\n",
       "    </tr>\n",
       "    <tr>\n",
       "      <th>mean</th>\n",
       "      <td>11149.540761</td>\n",
       "      <td>10880.794837</td>\n",
       "      <td>10439.055845</td>\n",
       "      <td>11.983745</td>\n",
       "      <td>324.906537</td>\n",
       "      <td>4.964293</td>\n",
       "      <td>6.943448e+04</td>\n",
       "      <td>13.334529</td>\n",
       "      <td>0.146141</td>\n",
       "      <td>0.869755</td>\n",
       "      <td>9.302473</td>\n",
       "      <td>0.054185</td>\n",
       "      <td>13373.771658</td>\n",
       "      <td>22.152120</td>\n",
       "      <td>12000.654704</td>\n",
       "      <td>0.041821</td>\n",
       "      <td>2010.349620</td>\n",
       "      <td>7.157473</td>\n",
       "      <td>6.894266</td>\n",
       "      <td>1996.762636</td>\n",
       "    </tr>\n",
       "    <tr>\n",
       "      <th>std</th>\n",
       "      <td>7369.855703</td>\n",
       "      <td>7109.157574</td>\n",
       "      <td>7008.522880</td>\n",
       "      <td>3.701182</td>\n",
       "      <td>208.891979</td>\n",
       "      <td>3.552080</td>\n",
       "      <td>6.402159e+04</td>\n",
       "      <td>6.650154</td>\n",
       "      <td>0.491844</td>\n",
       "      <td>1.068063</td>\n",
       "      <td>4.375839</td>\n",
       "      <td>0.235562</td>\n",
       "      <td>15848.564286</td>\n",
       "      <td>11.407797</td>\n",
       "      <td>8854.568117</td>\n",
       "      <td>0.200859</td>\n",
       "      <td>0.815516</td>\n",
       "      <td>3.380273</td>\n",
       "      <td>3.539345</td>\n",
       "      <td>6.625604</td>\n",
       "    </tr>\n",
       "    <tr>\n",
       "      <th>min</th>\n",
       "      <td>500.000000</td>\n",
       "      <td>500.000000</td>\n",
       "      <td>0.000000</td>\n",
       "      <td>5.420000</td>\n",
       "      <td>16.080000</td>\n",
       "      <td>0.000000</td>\n",
       "      <td>4.000000e+03</td>\n",
       "      <td>0.000000</td>\n",
       "      <td>0.000000</td>\n",
       "      <td>0.000000</td>\n",
       "      <td>2.000000</td>\n",
       "      <td>0.000000</td>\n",
       "      <td>0.000000</td>\n",
       "      <td>2.000000</td>\n",
       "      <td>0.000000</td>\n",
       "      <td>0.000000</td>\n",
       "      <td>2007.000000</td>\n",
       "      <td>1.000000</td>\n",
       "      <td>1.000000</td>\n",
       "      <td>1946.000000</td>\n",
       "    </tr>\n",
       "    <tr>\n",
       "      <th>25%</th>\n",
       "      <td>5500.000000</td>\n",
       "      <td>5400.000000</td>\n",
       "      <td>5000.000000</td>\n",
       "      <td>8.940000</td>\n",
       "      <td>167.730000</td>\n",
       "      <td>2.000000</td>\n",
       "      <td>4.113300e+04</td>\n",
       "      <td>8.220000</td>\n",
       "      <td>0.000000</td>\n",
       "      <td>0.000000</td>\n",
       "      <td>6.000000</td>\n",
       "      <td>0.000000</td>\n",
       "      <td>3728.750000</td>\n",
       "      <td>14.000000</td>\n",
       "      <td>5572.034728</td>\n",
       "      <td>0.000000</td>\n",
       "      <td>2010.000000</td>\n",
       "      <td>4.000000</td>\n",
       "      <td>4.000000</td>\n",
       "      <td>1994.000000</td>\n",
       "    </tr>\n",
       "    <tr>\n",
       "      <th>50%</th>\n",
       "      <td>10000.000000</td>\n",
       "      <td>9600.000000</td>\n",
       "      <td>9000.000000</td>\n",
       "      <td>11.830000</td>\n",
       "      <td>280.110000</td>\n",
       "      <td>4.000000</td>\n",
       "      <td>6.000000e+04</td>\n",
       "      <td>13.430000</td>\n",
       "      <td>0.000000</td>\n",
       "      <td>1.000000</td>\n",
       "      <td>9.000000</td>\n",
       "      <td>0.000000</td>\n",
       "      <td>8867.500000</td>\n",
       "      <td>20.000000</td>\n",
       "      <td>9815.269906</td>\n",
       "      <td>0.000000</td>\n",
       "      <td>2011.000000</td>\n",
       "      <td>7.000000</td>\n",
       "      <td>7.000000</td>\n",
       "      <td>1998.000000</td>\n",
       "    </tr>\n",
       "    <tr>\n",
       "      <th>75%</th>\n",
       "      <td>15000.000000</td>\n",
       "      <td>15000.000000</td>\n",
       "      <td>14350.000000</td>\n",
       "      <td>14.460000</td>\n",
       "      <td>429.365000</td>\n",
       "      <td>9.000000</td>\n",
       "      <td>8.300000e+04</td>\n",
       "      <td>18.590000</td>\n",
       "      <td>0.000000</td>\n",
       "      <td>1.000000</td>\n",
       "      <td>12.000000</td>\n",
       "      <td>0.000000</td>\n",
       "      <td>17028.000000</td>\n",
       "      <td>29.000000</td>\n",
       "      <td>16303.695000</td>\n",
       "      <td>0.000000</td>\n",
       "      <td>2011.000000</td>\n",
       "      <td>10.000000</td>\n",
       "      <td>10.000000</td>\n",
       "      <td>2001.000000</td>\n",
       "    </tr>\n",
       "    <tr>\n",
       "      <th>max</th>\n",
       "      <td>35000.000000</td>\n",
       "      <td>35000.000000</td>\n",
       "      <td>35000.000000</td>\n",
       "      <td>24.400000</td>\n",
       "      <td>1305.190000</td>\n",
       "      <td>10.000000</td>\n",
       "      <td>6.000000e+06</td>\n",
       "      <td>29.990000</td>\n",
       "      <td>11.000000</td>\n",
       "      <td>8.000000</td>\n",
       "      <td>44.000000</td>\n",
       "      <td>4.000000</td>\n",
       "      <td>149588.000000</td>\n",
       "      <td>90.000000</td>\n",
       "      <td>58563.679930</td>\n",
       "      <td>2.000000</td>\n",
       "      <td>2011.000000</td>\n",
       "      <td>12.000000</td>\n",
       "      <td>12.000000</td>\n",
       "      <td>2008.000000</td>\n",
       "    </tr>\n",
       "  </tbody>\n",
       "</table>\n",
       "</div>"
      ],
      "text/plain": [
       "          loan_amnt   funded_amnt  funded_amnt_inv      int_rate  \\\n",
       "count  36800.000000  36800.000000     36800.000000  36800.000000   \n",
       "mean   11149.540761  10880.794837     10439.055845     11.983745   \n",
       "std     7369.855703   7109.157574      7008.522880      3.701182   \n",
       "min      500.000000    500.000000         0.000000      5.420000   \n",
       "25%     5500.000000   5400.000000      5000.000000      8.940000   \n",
       "50%    10000.000000   9600.000000      9000.000000     11.830000   \n",
       "75%    15000.000000  15000.000000     14350.000000     14.460000   \n",
       "max    35000.000000  35000.000000     35000.000000     24.400000   \n",
       "\n",
       "        installment    emp_length    annual_inc           dti   delinq_2yrs  \\\n",
       "count  36800.000000  36800.000000  3.680000e+04  36800.000000  36800.000000   \n",
       "mean     324.906537      4.964293  6.943448e+04     13.334529      0.146141   \n",
       "std      208.891979      3.552080  6.402159e+04      6.650154      0.491844   \n",
       "min       16.080000      0.000000  4.000000e+03      0.000000      0.000000   \n",
       "25%      167.730000      2.000000  4.113300e+04      8.220000      0.000000   \n",
       "50%      280.110000      4.000000  6.000000e+04     13.430000      0.000000   \n",
       "75%      429.365000      9.000000  8.300000e+04     18.590000      0.000000   \n",
       "max     1305.190000     10.000000  6.000000e+06     29.990000     11.000000   \n",
       "\n",
       "       inq_last_6mths      open_acc       pub_rec      revol_bal  \\\n",
       "count    36800.000000  36800.000000  36800.000000   36800.000000   \n",
       "mean         0.869755      9.302473      0.054185   13373.771658   \n",
       "std          1.068063      4.375839      0.235562   15848.564286   \n",
       "min          0.000000      2.000000      0.000000       0.000000   \n",
       "25%          0.000000      6.000000      0.000000    3728.750000   \n",
       "50%          1.000000      9.000000      0.000000    8867.500000   \n",
       "75%          1.000000     12.000000      0.000000   17028.000000   \n",
       "max          8.000000     44.000000      4.000000  149588.000000   \n",
       "\n",
       "          total_acc   total_pymnt  pub_rec_bankruptcies    issue_year  \\\n",
       "count  36800.000000  36800.000000          36800.000000  36800.000000   \n",
       "mean      22.152120  12000.654704              0.041821   2010.349620   \n",
       "std       11.407797   8854.568117              0.200859      0.815516   \n",
       "min        2.000000      0.000000              0.000000   2007.000000   \n",
       "25%       14.000000   5572.034728              0.000000   2010.000000   \n",
       "50%       20.000000   9815.269906              0.000000   2011.000000   \n",
       "75%       29.000000  16303.695000              0.000000   2011.000000   \n",
       "max       90.000000  58563.679930              2.000000   2011.000000   \n",
       "\n",
       "        issue_month  earliest_cr_line_month  earliest_cr_line_year  \n",
       "count  36800.000000            36800.000000           36800.000000  \n",
       "mean       7.157473                6.894266            1996.762636  \n",
       "std        3.380273                3.539345               6.625604  \n",
       "min        1.000000                1.000000            1946.000000  \n",
       "25%        4.000000                4.000000            1994.000000  \n",
       "50%        7.000000                7.000000            1998.000000  \n",
       "75%       10.000000               10.000000            2001.000000  \n",
       "max       12.000000               12.000000            2008.000000  "
      ]
     },
     "execution_count": 48,
     "metadata": {},
     "output_type": "execute_result"
    }
   ],
   "source": [
    "df.describe()"
   ]
  },
  {
   "cell_type": "code",
   "execution_count": 49,
   "id": "2dbaa4bf-5302-4b54-a324-15553e4324fc",
   "metadata": {},
   "outputs": [],
   "source": [
    "# Function to draw a boxplot \n",
    "def drawBoxPlot(col_name,x_label):\n",
    "    # @Params\n",
    "    # col_name : column to be ploted\n",
    "    # x_label: Label on the x_axis\n",
    "    \n",
    "    plt.figure(figsize=(10, 5))\n",
    "    sns.boxplot(x=df[col_name], palette='flare')\n",
    "    plt.xlabel(x_label)\n",
    "    plt.show()\n",
    "    \n",
    "# Function to create range for quantitative variables: low, medium, high, very high\n",
    "def convertToRange(val,col,data=df):\n",
    "    # @Params\n",
    "    # val : value to be evaluated\n",
    "    # col : name of the column val belongs to\n",
    "    # data: overall dataframe/dataset\n",
    "    \n",
    "    iqr = (data[col].quantile(0.75) - data[col].quantile(0.25)).round(2)\n",
    "    quant_25 = data[col].quantile(0.25).round(2)\n",
    "    quant_75 = data[col].quantile(0.75).round(2)\n",
    "    \n",
    "    if val <= dquant_25: #25%ile range\n",
    "        return 'low 0-'+ str(quant_25)\n",
    "    if val > quant_25 and val <= quant_75: #25%ile to 75%ile\n",
    "        return 'medium ' + str(quant_25)+ '-' + str(quant_75)\n",
    "    if val > quant_75 and val <= (quant_75 + 1.5*iqr) : #75%ile to \"q3 + 1.5*iqr\"\n",
    "        return 'high ' + str(quant_75)+ '-' + str(quant_75 + 1.5*iqr)\n",
    "    return 'very high ' + str(quant_75 + 1.5*iqr) + '+'\n",
    "\n",
    "# Function to draw a count plot wrt to loan status => 0: defaulted, 1: Fully paid\n",
    "def drawBarWithLoanStatus(col, figsize=(10,5),data=df):\n",
    "    fig, ax = plt.subplots(figsize=figsize)\n",
    "    g = sns.countplot(data=data, y=col, hue='loan_status', ax=ax, order=data[col].value_counts().sort_index().index)\n",
    "    plt.show(g)"
   ]
  },
  {
   "cell_type": "markdown",
   "id": "470361d6-ae0b-4c1e-bd8e-7f7db4937c20",
   "metadata": {},
   "source": [
    "### 1. loan_status"
   ]
  },
  {
   "cell_type": "code",
   "execution_count": 50,
   "id": "73c8220b-d98c-4ee1-9e02-a09c0e32a351",
   "metadata": {},
   "outputs": [
    {
     "data": {
      "text/plain": [
       "Fully Paid     31534\n",
       "Charged Off     5266\n",
       "Name: loan_status, dtype: int64"
      ]
     },
     "execution_count": 50,
     "metadata": {},
     "output_type": "execute_result"
    }
   ],
   "source": [
    "df.loan_status.value_counts(dropna=False)"
   ]
  },
  {
   "cell_type": "code",
   "execution_count": 51,
   "id": "8ef63324",
   "metadata": {},
   "outputs": [],
   "source": [
    "# Converting \"loan_status\" from variables to continuous variable\n",
    "\n",
    "# Change Fully Paid to 1 and Charged Off to 0\n",
    "df[\"loan_status_code\"] = df[\"loan_status\"].apply(lambda x: 1 if x == \"Fully Paid\" else 0)"
   ]
  },
  {
   "cell_type": "code",
   "execution_count": 52,
   "id": "6d837497",
   "metadata": {},
   "outputs": [
    {
     "data": {
      "text/html": [
       "<div>\n",
       "<style scoped>\n",
       "    .dataframe tbody tr th:only-of-type {\n",
       "        vertical-align: middle;\n",
       "    }\n",
       "\n",
       "    .dataframe tbody tr th {\n",
       "        vertical-align: top;\n",
       "    }\n",
       "\n",
       "    .dataframe thead th {\n",
       "        text-align: right;\n",
       "    }\n",
       "</style>\n",
       "<table border=\"1\" class=\"dataframe\">\n",
       "  <thead>\n",
       "    <tr style=\"text-align: right;\">\n",
       "      <th></th>\n",
       "      <th>loan_amnt</th>\n",
       "      <th>funded_amnt</th>\n",
       "      <th>funded_amnt_inv</th>\n",
       "      <th>term</th>\n",
       "      <th>int_rate</th>\n",
       "      <th>installment</th>\n",
       "      <th>grade</th>\n",
       "      <th>sub_grade</th>\n",
       "      <th>emp_length</th>\n",
       "      <th>home_ownership</th>\n",
       "      <th>annual_inc</th>\n",
       "      <th>verification_status</th>\n",
       "      <th>issue_d</th>\n",
       "      <th>loan_status</th>\n",
       "      <th>purpose</th>\n",
       "      <th>addr_state</th>\n",
       "      <th>dti</th>\n",
       "      <th>delinq_2yrs</th>\n",
       "      <th>earliest_cr_line</th>\n",
       "      <th>inq_last_6mths</th>\n",
       "      <th>open_acc</th>\n",
       "      <th>pub_rec</th>\n",
       "      <th>revol_bal</th>\n",
       "      <th>revol_util</th>\n",
       "      <th>total_acc</th>\n",
       "      <th>total_pymnt</th>\n",
       "      <th>pub_rec_bankruptcies</th>\n",
       "      <th>issue_year</th>\n",
       "      <th>issue_month</th>\n",
       "      <th>earliest_cr_line_month</th>\n",
       "      <th>earliest_cr_line_year</th>\n",
       "      <th>loan_status_code</th>\n",
       "    </tr>\n",
       "  </thead>\n",
       "  <tbody>\n",
       "    <tr>\n",
       "      <th>0</th>\n",
       "      <td>5000</td>\n",
       "      <td>5000</td>\n",
       "      <td>4975.0</td>\n",
       "      <td>36 months</td>\n",
       "      <td>10.65</td>\n",
       "      <td>162.87</td>\n",
       "      <td>B</td>\n",
       "      <td>B2</td>\n",
       "      <td>10</td>\n",
       "      <td>RENT</td>\n",
       "      <td>24000.0</td>\n",
       "      <td>Verified</td>\n",
       "      <td>2011-12-01</td>\n",
       "      <td>Fully Paid</td>\n",
       "      <td>credit_card</td>\n",
       "      <td>AZ</td>\n",
       "      <td>27.65</td>\n",
       "      <td>0</td>\n",
       "      <td>1985-01-01</td>\n",
       "      <td>1</td>\n",
       "      <td>3</td>\n",
       "      <td>0</td>\n",
       "      <td>13648</td>\n",
       "      <td>83.70</td>\n",
       "      <td>9</td>\n",
       "      <td>5863.155187</td>\n",
       "      <td>0.0</td>\n",
       "      <td>2011</td>\n",
       "      <td>12</td>\n",
       "      <td>1</td>\n",
       "      <td>1985</td>\n",
       "      <td>1</td>\n",
       "    </tr>\n",
       "    <tr>\n",
       "      <th>1</th>\n",
       "      <td>2500</td>\n",
       "      <td>2500</td>\n",
       "      <td>2500.0</td>\n",
       "      <td>60 months</td>\n",
       "      <td>15.27</td>\n",
       "      <td>59.83</td>\n",
       "      <td>C</td>\n",
       "      <td>C4</td>\n",
       "      <td>0</td>\n",
       "      <td>RENT</td>\n",
       "      <td>30000.0</td>\n",
       "      <td>Source Verified</td>\n",
       "      <td>2011-12-01</td>\n",
       "      <td>Charged Off</td>\n",
       "      <td>car</td>\n",
       "      <td>GA</td>\n",
       "      <td>1.00</td>\n",
       "      <td>0</td>\n",
       "      <td>1999-04-01</td>\n",
       "      <td>5</td>\n",
       "      <td>3</td>\n",
       "      <td>0</td>\n",
       "      <td>1687</td>\n",
       "      <td>9.40</td>\n",
       "      <td>4</td>\n",
       "      <td>1008.710000</td>\n",
       "      <td>0.0</td>\n",
       "      <td>2011</td>\n",
       "      <td>12</td>\n",
       "      <td>4</td>\n",
       "      <td>1999</td>\n",
       "      <td>0</td>\n",
       "    </tr>\n",
       "    <tr>\n",
       "      <th>2</th>\n",
       "      <td>2400</td>\n",
       "      <td>2400</td>\n",
       "      <td>2400.0</td>\n",
       "      <td>36 months</td>\n",
       "      <td>15.96</td>\n",
       "      <td>84.33</td>\n",
       "      <td>C</td>\n",
       "      <td>C5</td>\n",
       "      <td>10</td>\n",
       "      <td>RENT</td>\n",
       "      <td>12252.0</td>\n",
       "      <td>Not Verified</td>\n",
       "      <td>2011-12-01</td>\n",
       "      <td>Fully Paid</td>\n",
       "      <td>small_business</td>\n",
       "      <td>IL</td>\n",
       "      <td>8.72</td>\n",
       "      <td>0</td>\n",
       "      <td>2001-11-01</td>\n",
       "      <td>2</td>\n",
       "      <td>2</td>\n",
       "      <td>0</td>\n",
       "      <td>2956</td>\n",
       "      <td>98.50</td>\n",
       "      <td>10</td>\n",
       "      <td>3005.666844</td>\n",
       "      <td>0.0</td>\n",
       "      <td>2011</td>\n",
       "      <td>12</td>\n",
       "      <td>11</td>\n",
       "      <td>2001</td>\n",
       "      <td>1</td>\n",
       "    </tr>\n",
       "    <tr>\n",
       "      <th>3</th>\n",
       "      <td>10000</td>\n",
       "      <td>10000</td>\n",
       "      <td>10000.0</td>\n",
       "      <td>36 months</td>\n",
       "      <td>13.49</td>\n",
       "      <td>339.31</td>\n",
       "      <td>C</td>\n",
       "      <td>C1</td>\n",
       "      <td>10</td>\n",
       "      <td>RENT</td>\n",
       "      <td>49200.0</td>\n",
       "      <td>Source Verified</td>\n",
       "      <td>2011-12-01</td>\n",
       "      <td>Fully Paid</td>\n",
       "      <td>other</td>\n",
       "      <td>CA</td>\n",
       "      <td>20.00</td>\n",
       "      <td>0</td>\n",
       "      <td>1996-02-01</td>\n",
       "      <td>1</td>\n",
       "      <td>10</td>\n",
       "      <td>0</td>\n",
       "      <td>5598</td>\n",
       "      <td>21</td>\n",
       "      <td>37</td>\n",
       "      <td>12231.890000</td>\n",
       "      <td>0.0</td>\n",
       "      <td>2011</td>\n",
       "      <td>12</td>\n",
       "      <td>2</td>\n",
       "      <td>1996</td>\n",
       "      <td>1</td>\n",
       "    </tr>\n",
       "    <tr>\n",
       "      <th>5</th>\n",
       "      <td>5000</td>\n",
       "      <td>5000</td>\n",
       "      <td>5000.0</td>\n",
       "      <td>36 months</td>\n",
       "      <td>7.90</td>\n",
       "      <td>156.46</td>\n",
       "      <td>A</td>\n",
       "      <td>A4</td>\n",
       "      <td>3</td>\n",
       "      <td>RENT</td>\n",
       "      <td>36000.0</td>\n",
       "      <td>Source Verified</td>\n",
       "      <td>2011-12-01</td>\n",
       "      <td>Fully Paid</td>\n",
       "      <td>wedding</td>\n",
       "      <td>AZ</td>\n",
       "      <td>11.20</td>\n",
       "      <td>0</td>\n",
       "      <td>2004-11-01</td>\n",
       "      <td>3</td>\n",
       "      <td>9</td>\n",
       "      <td>0</td>\n",
       "      <td>7963</td>\n",
       "      <td>28.30</td>\n",
       "      <td>12</td>\n",
       "      <td>5632.210000</td>\n",
       "      <td>0.0</td>\n",
       "      <td>2011</td>\n",
       "      <td>12</td>\n",
       "      <td>11</td>\n",
       "      <td>2004</td>\n",
       "      <td>1</td>\n",
       "    </tr>\n",
       "  </tbody>\n",
       "</table>\n",
       "</div>"
      ],
      "text/plain": [
       "   loan_amnt  funded_amnt  funded_amnt_inv        term  int_rate  installment  \\\n",
       "0       5000         5000           4975.0   36 months     10.65       162.87   \n",
       "1       2500         2500           2500.0   60 months     15.27        59.83   \n",
       "2       2400         2400           2400.0   36 months     15.96        84.33   \n",
       "3      10000        10000          10000.0   36 months     13.49       339.31   \n",
       "5       5000         5000           5000.0   36 months      7.90       156.46   \n",
       "\n",
       "  grade sub_grade  emp_length home_ownership  annual_inc verification_status  \\\n",
       "0     B        B2          10           RENT     24000.0            Verified   \n",
       "1     C        C4           0           RENT     30000.0     Source Verified   \n",
       "2     C        C5          10           RENT     12252.0        Not Verified   \n",
       "3     C        C1          10           RENT     49200.0     Source Verified   \n",
       "5     A        A4           3           RENT     36000.0     Source Verified   \n",
       "\n",
       "     issue_d  loan_status         purpose addr_state    dti  delinq_2yrs  \\\n",
       "0 2011-12-01   Fully Paid     credit_card         AZ  27.65            0   \n",
       "1 2011-12-01  Charged Off             car         GA   1.00            0   \n",
       "2 2011-12-01   Fully Paid  small_business         IL   8.72            0   \n",
       "3 2011-12-01   Fully Paid           other         CA  20.00            0   \n",
       "5 2011-12-01   Fully Paid         wedding         AZ  11.20            0   \n",
       "\n",
       "  earliest_cr_line  inq_last_6mths  open_acc  pub_rec  revol_bal revol_util  \\\n",
       "0       1985-01-01               1         3        0      13648      83.70   \n",
       "1       1999-04-01               5         3        0       1687       9.40   \n",
       "2       2001-11-01               2         2        0       2956      98.50   \n",
       "3       1996-02-01               1        10        0       5598         21   \n",
       "5       2004-11-01               3         9        0       7963      28.30   \n",
       "\n",
       "   total_acc   total_pymnt  pub_rec_bankruptcies  issue_year  issue_month  \\\n",
       "0          9   5863.155187                   0.0        2011           12   \n",
       "1          4   1008.710000                   0.0        2011           12   \n",
       "2         10   3005.666844                   0.0        2011           12   \n",
       "3         37  12231.890000                   0.0        2011           12   \n",
       "5         12   5632.210000                   0.0        2011           12   \n",
       "\n",
       "   earliest_cr_line_month  earliest_cr_line_year  loan_status_code  \n",
       "0                       1                   1985                 1  \n",
       "1                       4                   1999                 0  \n",
       "2                      11                   2001                 1  \n",
       "3                       2                   1996                 1  \n",
       "5                      11                   2004                 1  "
      ]
     },
     "execution_count": 52,
     "metadata": {},
     "output_type": "execute_result"
    }
   ],
   "source": [
    "df.head()"
   ]
  },
  {
   "cell_type": "markdown",
   "id": "b702eb97-0392-4379-82c7-01f510f121e7",
   "metadata": {},
   "source": [
    "#### Insights\n",
    "- Majority of the loans are fully paid off\n",
    "- 14.31% loans have been defaulted on"
   ]
  },
  {
   "cell_type": "markdown",
   "id": "edf3cb72-7b1e-4e93-8b53-371dfb08a329",
   "metadata": {},
   "source": [
    "### 2. loan_amnt"
   ]
  },
  {
   "cell_type": "code",
   "execution_count": 53,
   "id": "5090e736-4125-4210-aa6e-9a15fb933ddd",
   "metadata": {},
   "outputs": [
    {
     "data": {
      "text/plain": [
       "count    36800.000000\n",
       "mean     11149.540761\n",
       "std       7369.855703\n",
       "min        500.000000\n",
       "25%       5500.000000\n",
       "50%      10000.000000\n",
       "75%      15000.000000\n",
       "max      35000.000000\n",
       "Name: loan_amnt, dtype: float64"
      ]
     },
     "execution_count": 53,
     "metadata": {},
     "output_type": "execute_result"
    }
   ],
   "source": [
    "df['loan_amnt'].describe()"
   ]
  },
  {
   "cell_type": "code",
   "execution_count": 54,
   "id": "ef2b6de3-0fc8-4c58-b9f0-88ca86d33abc",
   "metadata": {},
   "outputs": [
    {
     "data": {
      "image/png": "[encoded data removed]",
      "text/plain": [
       "<Figure size 720x360 with 1 Axes>"
      ]
     },
     "metadata": {
      "needs_background": "light"
     },
     "output_type": "display_data"
    }
   ],
   "source": [
    "drawBoxPlot('loan_amnt', 'Loan Amount')"
   ]
  },
  {
   "cell_type": "code",
   "execution_count": 55,
   "id": "e4796da7-fc7d-4f11-b439-36006356fc9a",
   "metadata": {},
   "outputs": [
    {
     "data": {
      "image/png": "[encoded data removed]",
      "text/plain": [
       "<Figure size 720x360 with 1 Axes>"
      ]
     },
     "metadata": {
      "needs_background": "light"
     },
     "output_type": "display_data"
    }
   ],
   "source": [
    "plt.figure(figsize=(10, 5))\n",
    "sns.histplot(data=df['loan_amnt'], bins=50)\n",
    "plt.show()"
   ]
  },
  {
   "cell_type": "markdown",
   "id": "ad3926e8-20d7-41a9-bc5f-f346543f1890",
   "metadata": {},
   "source": [
    "#### Insights\n",
    "- Mean and Median values are fairly alike (~10000)\n",
    "- Loan amount varies from 500 to 35000 USD"
   ]
  },
  {
   "cell_type": "markdown",
   "id": "d6d03486-45b3-4a02-8004-20e9a411251f",
   "metadata": {},
   "source": [
    "### 2. funded_amnt"
   ]
  },
  {
   "cell_type": "code",
   "execution_count": 56,
   "id": "b462d8b7-28f5-430b-bddc-a372b6fa7912",
   "metadata": {},
   "outputs": [
    {
     "data": {
      "text/plain": [
       "count    36800.000000\n",
       "mean     10880.794837\n",
       "std       7109.157574\n",
       "min        500.000000\n",
       "25%       5400.000000\n",
       "50%       9600.000000\n",
       "75%      15000.000000\n",
       "max      35000.000000\n",
       "Name: funded_amnt, dtype: float64"
      ]
     },
     "execution_count": 56,
     "metadata": {},
     "output_type": "execute_result"
    }
   ],
   "source": [
    "df['funded_amnt'].describe()"
   ]
  },
  {
   "cell_type": "code",
   "execution_count": 57,
   "id": "cf0d59cf-fbd7-4267-9890-ded0677416c2",
   "metadata": {},
   "outputs": [
    {
     "data": {
      "image/png": "[encoded data removed]",
      "text/plain": [
       "<Figure size 720x360 with 1 Axes>"
      ]
     },
     "metadata": {
      "needs_background": "light"
     },
     "output_type": "display_data"
    }
   ],
   "source": [
    "drawBoxPlot(\"funded_amnt\", 'Funded Amount')"
   ]
  },
  {
   "cell_type": "markdown",
   "id": "e42f56fc-406b-438e-8556-baff9d775ff4",
   "metadata": {},
   "source": [
    "#### Insights\n",
    "- Mean and Median values are fairly alike (~10000)"
   ]
  },
  {
   "cell_type": "markdown",
   "id": "961677ba-a07b-457a-8b06-20af203eff52",
   "metadata": {},
   "source": [
    "### 3. funded_amnt_inv"
   ]
  },
  {
   "cell_type": "code",
   "execution_count": 58,
   "id": "736076a8-66a9-4ff6-bfd6-ce4858186908",
   "metadata": {},
   "outputs": [
    {
     "data": {
      "image/png": "[encoded data removed]",
      "text/plain": [
       "<Figure size 720x360 with 1 Axes>"
      ]
     },
     "metadata": {
      "needs_background": "light"
     },
     "output_type": "display_data"
    }
   ],
   "source": [
    "\n",
    "drawBoxPlot(\"funded_amnt_inv\", 'Funded Amount Inv')"
   ]
  },
  {
   "cell_type": "code",
   "execution_count": 59,
   "id": "c9c573a7-e332-4655-9a97-bc0580fd7390",
   "metadata": {},
   "outputs": [
    {
     "data": {
      "text/plain": [
       "count    36800.000000\n",
       "mean     10439.055845\n",
       "std       7008.522880\n",
       "min          0.000000\n",
       "25%       5000.000000\n",
       "50%       9000.000000\n",
       "75%      14350.000000\n",
       "max      35000.000000\n",
       "Name: funded_amnt_inv, dtype: float64"
      ]
     },
     "execution_count": 59,
     "metadata": {},
     "output_type": "execute_result"
    }
   ],
   "source": [
    "df[\"funded_amnt_inv\"].describe()"
   ]
  },
  {
   "cell_type": "code",
   "execution_count": 60,
   "id": "02a1d49b-d12e-49ae-ad97-5429167dfee9",
   "metadata": {},
   "outputs": [
    {
     "data": {
      "text/plain": [
       "5000.000000     1237\n",
       "10000.000000    1224\n",
       "6000.000000     1143\n",
       "12000.000000    1001\n",
       "8000.000000      856\n",
       "                ... \n",
       "19401.105310       1\n",
       "20789.980600       1\n",
       "7363.934748        1\n",
       "13789.311550       1\n",
       "34972.352450       1\n",
       "Name: funded_amnt_inv, Length: 7596, dtype: int64"
      ]
     },
     "execution_count": 60,
     "metadata": {},
     "output_type": "execute_result"
    }
   ],
   "source": [
    "df[\"funded_amnt_inv\"].value_counts()"
   ]
  },
  {
   "cell_type": "markdown",
   "id": "4bb8fd6e-e1c4-44a6-a9cf-7f6883698f03",
   "metadata": {},
   "source": [
    "#### Insights\n",
    "- Mean and Median values are fairly alike (~10000)"
   ]
  },
  {
   "cell_type": "markdown",
   "id": "41c4f37e-1f7e-4287-8942-1042672233ce",
   "metadata": {},
   "source": [
    "### 4. term"
   ]
  },
  {
   "cell_type": "code",
   "execution_count": 61,
   "id": "0e86e049-78ba-4164-93e1-79cb93af63cb",
   "metadata": {},
   "outputs": [
    {
     "data": {
      "text/plain": [
       " 36 months    27546\n",
       " 60 months     9254\n",
       "Name: term, dtype: int64"
      ]
     },
     "execution_count": 61,
     "metadata": {},
     "output_type": "execute_result"
    }
   ],
   "source": [
    "df.term.value_counts()"
   ]
  },
  {
   "cell_type": "code",
   "execution_count": 62,
   "id": "a098c340-90e8-45f1-90db-f36d8c5f8521",
   "metadata": {},
   "outputs": [],
   "source": [
    "# removing months text from the values\n",
    "df['term'] = df.term.apply(lambda x: x.replace(' months',''))"
   ]
  },
  {
   "cell_type": "code",
   "execution_count": 63,
   "id": "7eabed66-d719-44ab-b0f9-1768de2d4676",
   "metadata": {},
   "outputs": [
    {
     "data": {
      "text/plain": [
       " 36    27546\n",
       " 60     9254\n",
       "Name: term, dtype: int64"
      ]
     },
     "execution_count": 63,
     "metadata": {},
     "output_type": "execute_result"
    }
   ],
   "source": [
    "df.term.value_counts()"
   ]
  },
  {
   "cell_type": "markdown",
   "id": "f5da4cb0-cd44-420f-a5f7-c1c9ad88bc62",
   "metadata": {},
   "source": [
    "#### Insights\n",
    "- Majority of the loans are taken for a period of 36 months (74.85%)"
   ]
  },
  {
   "cell_type": "markdown",
   "id": "06839bb1-9443-43f3-83a9-4936963d46a9",
   "metadata": {},
   "source": [
    "### 5. int_rate"
   ]
  },
  {
   "cell_type": "code",
   "execution_count": 64,
   "id": "e970fb38-7845-45fe-9591-d53714a3d400",
   "metadata": {},
   "outputs": [
    {
     "data": {
      "text/plain": [
       "10.99    891\n",
       "11.49    766\n",
       "7.51     756\n",
       "13.49    736\n",
       "7.88     701\n",
       "        ... \n",
       "9.01       1\n",
       "17.54      1\n",
       "16.96      1\n",
       "10.46      1\n",
       "12.36      1\n",
       "Name: int_rate, Length: 336, dtype: int64"
      ]
     },
     "execution_count": 64,
     "metadata": {},
     "output_type": "execute_result"
    }
   ],
   "source": [
    "df['int_rate'].value_counts()"
   ]
  },
  {
   "cell_type": "code",
   "execution_count": 65,
   "id": "958fd8b0-3bd9-4d9a-98bd-00def4274382",
   "metadata": {},
   "outputs": [
    {
     "data": {
      "text/plain": [
       "count    36800.000000\n",
       "mean        11.983745\n",
       "std          3.701182\n",
       "min          5.420000\n",
       "25%          8.940000\n",
       "50%         11.830000\n",
       "75%         14.460000\n",
       "max         24.400000\n",
       "Name: int_rate, dtype: float64"
      ]
     },
     "execution_count": 65,
     "metadata": {},
     "output_type": "execute_result"
    }
   ],
   "source": [
    "df['int_rate'].describe()"
   ]
  },
  {
   "cell_type": "code",
   "execution_count": 66,
   "id": "d555dab9-fd6b-4fb3-80b8-b4a36bfd344f",
   "metadata": {},
   "outputs": [
    {
     "data": {
      "image/png": "[encoded data removed]",
      "text/plain": [
       "<Figure size 720x360 with 1 Axes>"
      ]
     },
     "metadata": {
      "needs_background": "light"
     },
     "output_type": "display_data"
    }
   ],
   "source": [
    "drawBoxPlot(\"int_rate\", 'Interest Rate')"
   ]
  },
  {
   "cell_type": "markdown",
   "id": "d76f07ec-a1bf-42f8-8a3a-3c36de43786a",
   "metadata": {},
   "source": [
    "### 6. installment"
   ]
  },
  {
   "cell_type": "code",
   "execution_count": 67,
   "id": "6b06594d-77e1-4836-a238-28c349d293c6",
   "metadata": {},
   "outputs": [
    {
     "data": {
      "text/plain": [
       "count    36800.000000\n",
       "mean       324.906537\n",
       "std        208.891979\n",
       "min         16.080000\n",
       "25%        167.730000\n",
       "50%        280.110000\n",
       "75%        429.365000\n",
       "max       1305.190000\n",
       "Name: installment, dtype: float64"
      ]
     },
     "execution_count": 67,
     "metadata": {},
     "output_type": "execute_result"
    }
   ],
   "source": [
    "df['installment'].describe()"
   ]
  },
  {
   "cell_type": "code",
   "execution_count": 68,
   "id": "9e06a245-c2d5-4753-a584-388330efccf4",
   "metadata": {},
   "outputs": [],
   "source": [
    "#df['installment'].quantile(0.97)"
   ]
  },
  {
   "cell_type": "code",
   "execution_count": 69,
   "id": "9ed9d990-7760-43d6-989b-517ad76d221c",
   "metadata": {},
   "outputs": [
    {
     "data": {
      "text/plain": [
       "311.11    68\n",
       "311.02    54\n",
       "180.96    53\n",
       "150.80    46\n",
       "368.45    45\n",
       "          ..\n",
       "211.64     1\n",
       "378.24     1\n",
       "720.65     1\n",
       "480.71     1\n",
       "339.26     1\n",
       "Name: installment, Length: 14385, dtype: int64"
      ]
     },
     "execution_count": 69,
     "metadata": {},
     "output_type": "execute_result"
    }
   ],
   "source": [
    "df['installment'].value_counts()"
   ]
  },
  {
   "cell_type": "code",
   "execution_count": 70,
   "id": "0332ba6d-d808-4689-879c-a1c4590ab35e",
   "metadata": {},
   "outputs": [
    {
     "data": {
      "image/png": "[encoded data removed]",
      "text/plain": [
       "<Figure size 720x360 with 1 Axes>"
      ]
     },
     "metadata": {
      "needs_background": "light"
     },
     "output_type": "display_data"
    }
   ],
   "source": [
    "drawBoxPlot(\"installment\", 'Installment')"
   ]
  },
  {
   "cell_type": "code",
   "execution_count": 71,
   "id": "f956a768-8a12-42a1-a1bd-47b6f966afba",
   "metadata": {},
   "outputs": [
    {
     "name": "stdout",
     "output_type": "stream",
     "text": [
      "Percentage of values beyond 'Q3 + 1.5 IQR'is: 3.33 %\n"
     ]
    }
   ],
   "source": [
    "# Since there is a significant diff between the 75 %ile and the max value, we should study for outliers\n",
    "\n",
    "installment_q3 = df.installment.quantile(0.75)\n",
    "installment_q1 = df.installment.quantile(0.25)\n",
    "iqr = installment_q3 - installment_q1\n",
    "\n",
    "perc_check = df[df['installment'] > (installment_q3 + 1.5*iqr)].installment.count()/df.installment.count() *100\n",
    "# installment_q3 + 1.5*iqr => 821.8175\n",
    "print(\"Percentage of values beyond 'Q3 + 1.5 IQR'is:\",perc_check.round(2),\"%\")\n",
    "# if perc_check is more than 1% then remove the outliers\n",
    "# OR\n",
    "# We can convert installment from a continuous variable to a categorical variable to derive better insights"
   ]
  },
  {
   "cell_type": "code",
   "execution_count": 73,
   "id": "55c74160-a55c-4207-88b7-a75e8752bf95",
   "metadata": {},
   "outputs": [],
   "source": [
    "# Function to create range of installments: low, medium, high, very high\n",
    "df['installment_range'] = df['installment'].apply(lambda x: convertToRange(x,'installment'))"
   ]
  },
  {
   "cell_type": "code",
   "execution_count": 87,
   "id": "59cb88ff-fed2-4659-b1ad-729dcbbf286a",
   "metadata": {},
   "outputs": [
    {
     "data": {
      "image/png": "[encoded data removed]",
      "text/plain": [
       "<Figure size 720x720 with 1 Axes>"
      ]
     },
     "metadata": {
      "needs_background": "light"
     },
     "output_type": "display_data"
    }
   ],
   "source": [
    "fig, ax = plt.subplots(figsize=(10,10))\n",
    "g = sns.barplot(x=\"installment_range\", y=\"installment\", data=df, palette=\"Blues_d\")\n",
    "ax.set_xticklabels([textwrap.fill(e, 7) for e in df['installment_range'].value_counts().index])\n",
    "plt.show(g)"
   ]
  },
  {
   "cell_type": "markdown",
   "id": "4e00da6b-4fe0-465f-a36e-79bbfbc5e3f1",
   "metadata": {},
   "source": [
    "### 7. emp_length"
   ]
  },
  {
   "cell_type": "code",
   "execution_count": 74,
   "id": "7b01679f-c59e-45a3-9112-bcd5bc5a9ebe",
   "metadata": {},
   "outputs": [
    {
     "data": {
      "text/plain": [
       "10    8368\n",
       "0     4329\n",
       "2     4202\n",
       "3     3947\n",
       "4     3290\n",
       "5     3157\n",
       "1     3071\n",
       "6     2133\n",
       "7     1686\n",
       "8     1408\n",
       "9     1209\n",
       "Name: emp_length, dtype: int64"
      ]
     },
     "execution_count": 74,
     "metadata": {},
     "output_type": "execute_result"
    }
   ],
   "source": [
    "df['emp_length'].value_counts()"
   ]
  },
  {
   "cell_type": "code",
   "execution_count": 75,
   "id": "f55f63a2-796e-4012-81ee-08b7fc4bc5fc",
   "metadata": {},
   "outputs": [
    {
     "data": {
      "text/plain": [
       "count    36800.000000\n",
       "mean         4.964293\n",
       "std          3.552080\n",
       "min          0.000000\n",
       "25%          2.000000\n",
       "50%          4.000000\n",
       "75%          9.000000\n",
       "max         10.000000\n",
       "Name: emp_length, dtype: float64"
      ]
     },
     "execution_count": 75,
     "metadata": {},
     "output_type": "execute_result"
    }
   ],
   "source": [
    "df['emp_length'].describe()"
   ]
  },
  {
   "cell_type": "code",
   "execution_count": 76,
   "id": "0313fba6-8750-447d-be7c-11a1f68a0537",
   "metadata": {},
   "outputs": [
    {
     "data": {
      "image/png": "[encoded data removed]",
      "text/plain": [
       "<Figure size 720x360 with 1 Axes>"
      ]
     },
     "metadata": {
      "needs_background": "light"
     },
     "output_type": "display_data"
    }
   ],
   "source": [
    "drawBoxPlot('emp_length','Employment Length')"
   ]
  },
  {
   "cell_type": "markdown",
   "id": "413914a0-2559-45d0-849a-ebc920cdc1a2",
   "metadata": {},
   "source": [
    "### 8. annual_inc"
   ]
  },
  {
   "cell_type": "code",
   "execution_count": 77,
   "id": "934d2c33-2559-44e8-881d-c14cc71f0795",
   "metadata": {},
   "outputs": [
    {
     "data": {
      "text/plain": [
       "count    3.680000e+04\n",
       "mean     6.943448e+04\n",
       "std      6.402159e+04\n",
       "min      4.000000e+03\n",
       "25%      4.113300e+04\n",
       "50%      6.000000e+04\n",
       "75%      8.300000e+04\n",
       "max      6.000000e+06\n",
       "Name: annual_inc, dtype: float64"
      ]
     },
     "execution_count": 77,
     "metadata": {},
     "output_type": "execute_result"
    }
   ],
   "source": [
    "df['annual_inc'].describe()"
   ]
  },
  {
   "cell_type": "code",
   "execution_count": 78,
   "id": "727348be-9f8f-40a1-8c5a-07e99dc028c8",
   "metadata": {},
   "outputs": [
    {
     "data": {
      "image/png": "[encoded data removed]",
      "text/plain": [
       "<Figure size 720x360 with 1 Axes>"
      ]
     },
     "metadata": {
      "needs_background": "light"
     },
     "output_type": "display_data"
    }
   ],
   "source": [
    "drawBoxPlot('annual_inc', \"Annual Income\")"
   ]
  },
  {
   "cell_type": "code",
   "execution_count": 79,
   "id": "34c0023b-692e-4491-8d1e-418e83f1faa8",
   "metadata": {},
   "outputs": [
    {
     "name": "stdout",
     "output_type": "stream",
     "text": [
      "Percentage of values beyond 'Q3 + 1.5 IQR'is: 4.63 % 145800.5\n"
     ]
    }
   ],
   "source": [
    "# Since max value is 100 times the mean and median, we should study for outliers\n",
    "\n",
    "annual_inc_q3 = df.annual_inc.quantile(0.75)\n",
    "annual_inc_q1 = df.annual_inc.quantile(0.25)\n",
    "iqr = annual_inc_q3 - annual_inc_q1\n",
    "\n",
    "perc_check = df[df['annual_inc'] > (annual_inc_q3 + 1.5*iqr)].annual_inc.count()/df.annual_inc.count() *100\n",
    "# annual_inc_q3 + 1.5*iqr => 821.8175\n",
    "print(\"Percentage of values beyond 'Q3 + 1.5 IQR'is:\",perc_check.round(2),\"%\", annual_inc_q3 + 1.5*iqr)"
   ]
  },
  {
   "cell_type": "code",
   "execution_count": 80,
   "id": "a63d9c15-1328-4509-9b61-d406f54523f8",
   "metadata": {},
   "outputs": [
    {
     "data": {
      "text/plain": [
       "count     34959.000000\n",
       "mean      61538.580818\n",
       "std       27712.202134\n",
       "min        4000.000000\n",
       "25%       40000.000000\n",
       "50%       57000.000000\n",
       "75%       78000.000000\n",
       "max      141996.000000\n",
       "Name: annual_inc, dtype: float64"
      ]
     },
     "execution_count": 80,
     "metadata": {},
     "output_type": "execute_result"
    }
   ],
   "source": [
    "#Removing values above 95%ile or more than Q3 + 1.5 IQR\n",
    "df = df[df['annual_inc']<df['annual_inc'].quantile(0.95)]\n",
    "df['annual_inc'].describe()"
   ]
  },
  {
   "cell_type": "code",
   "execution_count": 81,
   "id": "e360a7e7-f363-48b8-821f-697722097abf",
   "metadata": {},
   "outputs": [
    {
     "data": {
      "image/png": "[encoded data removed]",
      "text/plain": [
       "<Figure size 720x360 with 1 Axes>"
      ]
     },
     "metadata": {
      "needs_background": "light"
     },
     "output_type": "display_data"
    }
   ],
   "source": [
    "drawBoxPlot('annual_inc', \"Annual Income\")"
   ]
  },
  {
   "cell_type": "markdown",
   "id": "0aebc7c2-b9d9-47fe-96d2-5b46a08242a4",
   "metadata": {},
   "source": [
    "### 9. dti"
   ]
  },
  {
   "cell_type": "code",
   "execution_count": 82,
   "id": "153e2e65-1eb5-4c50-9f62-60516d41ff51",
   "metadata": {},
   "outputs": [
    {
     "data": {
      "text/plain": [
       "count    34959.000000\n",
       "mean        13.506418\n",
       "std          6.641076\n",
       "min          0.000000\n",
       "25%          8.430000\n",
       "50%         13.640000\n",
       "75%         18.750000\n",
       "max         29.990000\n",
       "Name: dti, dtype: float64"
      ]
     },
     "execution_count": 82,
     "metadata": {},
     "output_type": "execute_result"
    }
   ],
   "source": [
    "df['dti'].describe()"
   ]
  },
  {
   "cell_type": "code",
   "execution_count": 83,
   "id": "2947a39d-f653-4538-b2f9-5d32927c6db9",
   "metadata": {},
   "outputs": [
    {
     "data": {
      "image/png": "[encoded data removed]",
      "text/plain": [
       "<Figure size 720x360 with 1 Axes>"
      ]
     },
     "metadata": {
      "needs_background": "light"
     },
     "output_type": "display_data"
    }
   ],
   "source": [
    "drawBoxPlot('dti', 'Reported Monthly Income')"
   ]
  },
  {
   "cell_type": "markdown",
   "id": "cc2e1725-06a4-499f-9da2-480a171fcaa3",
   "metadata": {},
   "source": [
    "### 10. revol_bal"
   ]
  },
  {
   "cell_type": "code",
   "execution_count": 84,
   "id": "e8bca832-3d6e-482e-94df-d13adabaac42",
   "metadata": {},
   "outputs": [
    {
     "data": {
      "text/plain": [
       "count     34959.000000\n",
       "mean      12399.848794\n",
       "std       13776.048468\n",
       "min           0.000000\n",
       "25%        3629.000000\n",
       "50%        8615.000000\n",
       "75%       16240.000000\n",
       "max      149000.000000\n",
       "Name: revol_bal, dtype: float64"
      ]
     },
     "execution_count": 84,
     "metadata": {},
     "output_type": "execute_result"
    }
   ],
   "source": [
    "df['revol_bal'].describe()"
   ]
  },
  {
   "cell_type": "code",
   "execution_count": 85,
   "id": "99bd3620-2b7b-4946-b510-b715401eb3d9",
   "metadata": {},
   "outputs": [
    {
     "data": {
      "image/png": "[encoded data removed]",
      "text/plain": [
       "<Figure size 720x360 with 1 Axes>"
      ]
     },
     "metadata": {
      "needs_background": "light"
     },
     "output_type": "display_data"
    }
   ],
   "source": [
    "drawBoxPlot('revol_bal', 'Rvolving Balance')"
   ]
  },
  {
   "cell_type": "code",
   "execution_count": 86,
   "id": "ca7d7ca6-98b1-4644-82da-822727133d4c",
   "metadata": {},
   "outputs": [
    {
     "data": {
      "image/png": "[encoded data removed]",
      "text/plain": [
       "<Figure size 720x360 with 1 Axes>"
      ]
     },
     "metadata": {
      "needs_background": "light"
     },
     "output_type": "display_data"
    }
   ],
   "source": [
    "drawBarWithLoanStatus(\"term\")"
   ]
  },
  {
   "cell_type": "code",
   "execution_count": 87,
   "id": "9dcab6cf-6c72-4624-9035-daff4fb6055e",
   "metadata": {},
   "outputs": [
    {
     "data": {
      "image/png": "[encoded data removed]",
      "text/plain": [
       "<Figure size 720x360 with 1 Axes>"
      ]
     },
     "metadata": {
      "needs_background": "light"
     },
     "output_type": "display_data"
    }
   ],
   "source": [
    "drawBarWithLoanStatus(\"loan_status\")"
   ]
  },
  {
   "cell_type": "code",
   "execution_count": 88,
   "id": "e38f93a2-ccfb-4b54-8a9c-0fd357e77aa6",
   "metadata": {},
   "outputs": [
    {
     "data": {
      "image/png": "[encoded data removed]",
      "text/plain": [
       "<Figure size 720x360 with 1 Axes>"
      ]
     },
     "metadata": {
      "needs_background": "light"
     },
     "output_type": "display_data"
    }
   ],
   "source": [
    "drawBarWithLoanStatus(\"purpose\")"
   ]
  },
  {
   "cell_type": "code",
   "execution_count": 89,
   "id": "b462e940-53ac-4221-aa34-41b50983fc9f",
   "metadata": {},
   "outputs": [
    {
     "data": {
      "image/png": "[encoded data removed]",
      "text/plain": [
       "<Figure size 720x360 with 1 Axes>"
      ]
     },
     "metadata": {
      "needs_background": "light"
     },
     "output_type": "display_data"
    }
   ],
   "source": [
    "drawBarWithLoanStatus(\"home_ownership\")"
   ]
  },
  {
   "cell_type": "code",
   "execution_count": 90,
   "id": "d048d442-9e9c-4bde-80d3-d4649bca0d9d",
   "metadata": {},
   "outputs": [
    {
     "data": {
      "image/png": "[encoded data removed]",
      "text/plain": [
       "<Figure size 720x360 with 1 Axes>"
      ]
     },
     "metadata": {
      "needs_background": "light"
     },
     "output_type": "display_data"
    }
   ],
   "source": [
    "drawBarWithLoanStatus(\"grade\")"
   ]
  },
  {
   "cell_type": "code",
   "execution_count": 91,
   "id": "cd0faa6f-0309-4644-84a4-628bea52de0f",
   "metadata": {},
   "outputs": [
    {
     "data": {
      "image/png": "[encoded data removed]",
      "text/plain": [
       "<Figure size 1080x1080 with 1 Axes>"
      ]
     },
     "metadata": {
      "needs_background": "light"
     },
     "output_type": "display_data"
    }
   ],
   "source": [
    "drawBarWithLoanStatus(\"sub_grade\", figsize=(15,15))"
   ]
  },
  {
   "cell_type": "code",
   "execution_count": 92,
   "id": "54ed5b6b-faef-4587-ad9a-12e8ae6bd9e8",
   "metadata": {},
   "outputs": [
    {
     "data": {
      "image/png": "[encoded data removed]",
      "text/plain": [
       "<Figure size 720x360 with 1 Axes>"
      ]
     },
     "metadata": {
      "needs_background": "light"
     },
     "output_type": "display_data"
    }
   ],
   "source": [
    "drawBarWithLoanStatus(\"verification_status\")"
   ]
  },
  {
   "cell_type": "code",
   "execution_count": 93,
   "id": "c3cc7e6a-e8d1-48bf-b78d-7a972771e0e0",
   "metadata": {},
   "outputs": [
    {
     "data": {
      "image/png": "[encoded data removed]",
      "text/plain": [
       "<Figure size 1080x1080 with 1 Axes>"
      ]
     },
     "metadata": {
      "needs_background": "light"
     },
     "output_type": "display_data"
    }
   ],
   "source": [
    "drawBarWithLoanStatus(\"open_acc\", figsize=(15,15))"
   ]
  },
  {
   "cell_type": "code",
   "execution_count": 94,
   "id": "2efe8ff9-5fc4-4651-9db3-59254cf8fc0d",
   "metadata": {},
   "outputs": [
    {
     "data": {
      "image/png": "[encoded data removed]",
      "text/plain": [
       "<Figure size 720x360 with 1 Axes>"
      ]
     },
     "metadata": {
      "needs_background": "light"
     },
     "output_type": "display_data"
    }
   ],
   "source": [
    "drawBarWithLoanStatus(\"pub_rec\")"
   ]
  },
  {
   "cell_type": "code",
   "execution_count": 95,
   "id": "31c13584-0c09-4b45-9b3a-c5db31cd789c",
   "metadata": {},
   "outputs": [
    {
     "data": {
      "image/png": "[encoded data removed]",
      "text/plain": [
       "<Figure size 720x360 with 1 Axes>"
      ]
     },
     "metadata": {
      "needs_background": "light"
     },
     "output_type": "display_data"
    }
   ],
   "source": [
    "drawBarWithLoanStatus(\"issue_year\")"
   ]
  },
  {
   "cell_type": "code",
   "execution_count": 96,
   "id": "345f2b89-a566-46b5-b7cd-22892e1aed2b",
   "metadata": {},
   "outputs": [
    {
     "data": {
      "image/png": "[encoded data removed]",
      "text/plain": [
       "<Figure size 1080x1440 with 1 Axes>"
      ]
     },
     "metadata": {
      "needs_background": "light"
     },
     "output_type": "display_data"
    }
   ],
   "source": [
    "drawBarWithLoanStatus(\"issue_d\", figsize=(15,20))"
   ]
  },
  {
   "cell_type": "code",
   "execution_count": 97,
   "id": "0ed7026e-7f38-4c10-afb1-93ea45802b16",
   "metadata": {},
   "outputs": [
    {
     "data": {
      "image/png": "[encoded data removed]",
      "text/plain": [
       "<Figure size 720x360 with 1 Axes>"
      ]
     },
     "metadata": {
      "needs_background": "light"
     },
     "output_type": "display_data"
    }
   ],
   "source": [
    "drawBarWithLoanStatus(\"issue_month\")"
   ]
  },
  {
   "cell_type": "code",
   "execution_count": 98,
   "id": "ae1a0ff0-4371-47a7-9496-61ee7c139c15",
   "metadata": {},
   "outputs": [
    {
     "name": "stderr",
     "output_type": "stream",
     "text": [
      "<ipython-input-98-37ccaa878c36>:1: UserWarning: Pandas doesn't allow columns to be created via a new attribute name - see https://pandas.pydata.org/pandas-docs/stable/indexing.html#attribute-access\n",
      "  df.loan_amnt_range = df['loan_amnt'].apply(lambda x: convertToRange(x,'loan_amnt'))\n"
     ]
    }
   ],
   "source": [
    "df.loan_amnt_range = df['loan_amnt'].apply(lambda x: convertToRange(x,'loan_amnt'))"
   ]
  },
  {
   "cell_type": "code",
   "execution_count": null,
   "id": "5613db28-6813-406d-982c-37ea867f1719",
   "metadata": {},
   "outputs": [],
   "source": [
    "df['loan_amnt_range'].count()"
   ]
  },
  {
   "cell_type": "code",
   "execution_count": 100,
   "id": "67672725-ab7f-428e-ad8f-05bdf60d416e",
   "metadata": {},
   "outputs": [],
   "source": [
    "def drawScatterPlot(col_1, col_2, data=df):\n",
    "    plt.figure(figsize=(16,6))\n",
    "    sns.scatterplot(x=col_1, y=col_2, hue=\"loan_status\", data=data)\n",
    "    plt.title(\"Scatter plot: \" + col_1 + \" & \" + col_2)\n",
    "    plt.show()"
   ]
  },
  {
   "cell_type": "code",
   "execution_count": null,
   "id": "6932b092-1fa2-404c-8981-af39b091c0e2",
   "metadata": {},
   "outputs": [],
   "source": [
    "df.annual_inc_range = df['annual_inc'].apply(lambda x: convertToRange(x,'annual_inc'))\n",
    "drawScatterPlot(\"int_rate\", \"annual_inc_range\")"
   ]
  },
  {
   "cell_type": "code",
   "execution_count": null,
   "id": "9083ad24-1f5a-485b-9bcb-3e3e05aa380c",
   "metadata": {},
   "outputs": [],
   "source": []
  }
 ],
 "metadata": {
  "kernelspec": {
   "display_name": "Python 3",
   "language": "python",
   "name": "python3"
  },
  "language_info": {
   "codemirror_mode": {
    "name": "ipython",
    "version": 3
   },
   "file_extension": ".py",
   "mimetype": "text/x-python",
   "name": "python",
   "nbconvert_exporter": "python",
   "pygments_lexer": "ipython3",
   "version": "3.8.8"
  }
 },
 "nbformat": 4,
 "nbformat_minor": 5
}
